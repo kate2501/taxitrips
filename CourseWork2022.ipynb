{
  "cells": [
    {
      "cell_type": "markdown",
      "metadata": {
        "id": "6U-zrsK8BjyN"
      },
      "source": [
        "# Чтение данных"
      ]
    },
    {
      "cell_type": "code",
      "execution_count": 40,
      "metadata": {
        "id": "koStGxcyBjyS"
      },
      "outputs": [],
      "source": [
        "import pandas as pd\n",
        "import os \n",
        "import glob\n",
        "import numpy as np\n",
        "import seaborn as sns\n",
        "import matplotlib.pyplot as plt"
      ]
    },
    {
      "cell_type": "code",
      "execution_count": 41,
      "metadata": {
        "id": "P35iCwNpBjyW"
      },
      "outputs": [],
      "source": [
        "#file = np.array(glob.glob('C:\\\\Users\\\\diens\\\\OneDrive\\\\Рабочий стол\\\\data\\\\data.csv'))"
      ]
    },
    {
      "cell_type": "code",
      "execution_count": 42,
      "metadata": {
        "colab": {
          "base_uri": "https://localhost:8080/"
        },
        "id": "qGQcLeSdEXf4",
        "outputId": "1949e608-210b-4c8b-bea7-d0347ce78054"
      },
      "outputs": [
        {
          "output_type": "stream",
          "name": "stdout",
          "text": [
            "Drive already mounted at /content/drive/; to attempt to forcibly remount, call drive.mount(\"/content/drive/\", force_remount=True).\n"
          ]
        }
      ],
      "source": [
        "from google.colab import drive\n",
        "drive.mount('/content/drive/')"
      ]
    },
    {
      "cell_type": "code",
      "execution_count": 43,
      "metadata": {
        "id": "bid80kH_BjyY"
      },
      "outputs": [],
      "source": [
        "file = '/content/drive/MyDrive/data.csv'"
      ]
    },
    {
      "cell_type": "markdown",
      "metadata": {
        "id": "DIOmYQYlBjyc"
      },
      "source": [
        "## Предварительные преобразования и анализ данных"
      ]
    },
    {
      "cell_type": "code",
      "execution_count": 45,
      "metadata": {
        "id": "_PqTBObyBjyd"
      },
      "outputs": [],
      "source": [
        "df = pd.read_csv(file, low_memory=False, skiprows=lambda x:x%5!=0)"
      ]
    },
    {
      "cell_type": "code",
      "execution_count": 6,
      "metadata": {
        "colab": {
          "base_uri": "https://localhost:8080/",
          "height": 270
        },
        "id": "b2CF0TmFBjye",
        "outputId": "46d2ed22-69ab-47b4-9c4a-0df79079eff3"
      },
      "outputs": [
        {
          "output_type": "execute_result",
          "data": {
            "text/plain": [
              "   VendorID tpep_pickup_datetime tpep_dropoff_datetime  passenger_count  \\\n",
              "0       2.0  2021-01-01 00:31:49   2021-01-01 00:48:21              1.0   \n",
              "1       1.0  2021-01-01 00:26:12   2021-01-01 00:39:46              2.0   \n",
              "2       2.0  2021-01-01 00:42:11   2021-01-01 00:44:24              5.0   \n",
              "3       2.0  2021-01-01 00:18:36   2021-01-01 00:27:10              2.0   \n",
              "4       1.0  2021-01-01 00:37:40   2021-01-01 01:04:46              2.0   \n",
              "\n",
              "   trip_distance  RatecodeID store_and_fwd_flag  PULocationID  DOLocationID  \\\n",
              "0           4.94         1.0                  N            68            33   \n",
              "1           2.70         1.0                  N           263           142   \n",
              "2           0.81         1.0                  N            50           142   \n",
              "3           1.66         1.0                  N           151           142   \n",
              "4          19.10         1.0                  N           132             3   \n",
              "\n",
              "   payment_type  fare_amount  extra  mta_tax  tip_amount  tolls_amount  \\\n",
              "0           1.0         16.5    0.5      0.5        4.06          0.00   \n",
              "1           1.0         12.0    3.0      0.5        3.15          0.00   \n",
              "2           2.0          4.5    0.5      0.5        0.00          0.00   \n",
              "3           2.0          8.5    0.5      0.5        0.00          0.00   \n",
              "4           2.0         52.0    0.5      0.5        0.00          6.12   \n",
              "\n",
              "   improvement_surcharge  total_amount  congestion_surcharge  \n",
              "0                    0.3         24.36                   2.5  \n",
              "1                    0.3         18.95                   2.5  \n",
              "2                    0.3          8.30                   2.5  \n",
              "3                    0.3         12.30                   2.5  \n",
              "4                    0.3         59.42                   0.0  "
            ],
            "text/html": [
              "\n",
              "  <div id=\"df-6005311e-6bfd-4579-84b4-c569fb6fabb2\">\n",
              "    <div class=\"colab-df-container\">\n",
              "      <div>\n",
              "<style scoped>\n",
              "    .dataframe tbody tr th:only-of-type {\n",
              "        vertical-align: middle;\n",
              "    }\n",
              "\n",
              "    .dataframe tbody tr th {\n",
              "        vertical-align: top;\n",
              "    }\n",
              "\n",
              "    .dataframe thead th {\n",
              "        text-align: right;\n",
              "    }\n",
              "</style>\n",
              "<table border=\"1\" class=\"dataframe\">\n",
              "  <thead>\n",
              "    <tr style=\"text-align: right;\">\n",
              "      <th></th>\n",
              "      <th>VendorID</th>\n",
              "      <th>tpep_pickup_datetime</th>\n",
              "      <th>tpep_dropoff_datetime</th>\n",
              "      <th>passenger_count</th>\n",
              "      <th>trip_distance</th>\n",
              "      <th>RatecodeID</th>\n",
              "      <th>store_and_fwd_flag</th>\n",
              "      <th>PULocationID</th>\n",
              "      <th>DOLocationID</th>\n",
              "      <th>payment_type</th>\n",
              "      <th>fare_amount</th>\n",
              "      <th>extra</th>\n",
              "      <th>mta_tax</th>\n",
              "      <th>tip_amount</th>\n",
              "      <th>tolls_amount</th>\n",
              "      <th>improvement_surcharge</th>\n",
              "      <th>total_amount</th>\n",
              "      <th>congestion_surcharge</th>\n",
              "    </tr>\n",
              "  </thead>\n",
              "  <tbody>\n",
              "    <tr>\n",
              "      <th>0</th>\n",
              "      <td>2.0</td>\n",
              "      <td>2021-01-01 00:31:49</td>\n",
              "      <td>2021-01-01 00:48:21</td>\n",
              "      <td>1.0</td>\n",
              "      <td>4.94</td>\n",
              "      <td>1.0</td>\n",
              "      <td>N</td>\n",
              "      <td>68</td>\n",
              "      <td>33</td>\n",
              "      <td>1.0</td>\n",
              "      <td>16.5</td>\n",
              "      <td>0.5</td>\n",
              "      <td>0.5</td>\n",
              "      <td>4.06</td>\n",
              "      <td>0.00</td>\n",
              "      <td>0.3</td>\n",
              "      <td>24.36</td>\n",
              "      <td>2.5</td>\n",
              "    </tr>\n",
              "    <tr>\n",
              "      <th>1</th>\n",
              "      <td>1.0</td>\n",
              "      <td>2021-01-01 00:26:12</td>\n",
              "      <td>2021-01-01 00:39:46</td>\n",
              "      <td>2.0</td>\n",
              "      <td>2.70</td>\n",
              "      <td>1.0</td>\n",
              "      <td>N</td>\n",
              "      <td>263</td>\n",
              "      <td>142</td>\n",
              "      <td>1.0</td>\n",
              "      <td>12.0</td>\n",
              "      <td>3.0</td>\n",
              "      <td>0.5</td>\n",
              "      <td>3.15</td>\n",
              "      <td>0.00</td>\n",
              "      <td>0.3</td>\n",
              "      <td>18.95</td>\n",
              "      <td>2.5</td>\n",
              "    </tr>\n",
              "    <tr>\n",
              "      <th>2</th>\n",
              "      <td>2.0</td>\n",
              "      <td>2021-01-01 00:42:11</td>\n",
              "      <td>2021-01-01 00:44:24</td>\n",
              "      <td>5.0</td>\n",
              "      <td>0.81</td>\n",
              "      <td>1.0</td>\n",
              "      <td>N</td>\n",
              "      <td>50</td>\n",
              "      <td>142</td>\n",
              "      <td>2.0</td>\n",
              "      <td>4.5</td>\n",
              "      <td>0.5</td>\n",
              "      <td>0.5</td>\n",
              "      <td>0.00</td>\n",
              "      <td>0.00</td>\n",
              "      <td>0.3</td>\n",
              "      <td>8.30</td>\n",
              "      <td>2.5</td>\n",
              "    </tr>\n",
              "    <tr>\n",
              "      <th>3</th>\n",
              "      <td>2.0</td>\n",
              "      <td>2021-01-01 00:18:36</td>\n",
              "      <td>2021-01-01 00:27:10</td>\n",
              "      <td>2.0</td>\n",
              "      <td>1.66</td>\n",
              "      <td>1.0</td>\n",
              "      <td>N</td>\n",
              "      <td>151</td>\n",
              "      <td>142</td>\n",
              "      <td>2.0</td>\n",
              "      <td>8.5</td>\n",
              "      <td>0.5</td>\n",
              "      <td>0.5</td>\n",
              "      <td>0.00</td>\n",
              "      <td>0.00</td>\n",
              "      <td>0.3</td>\n",
              "      <td>12.30</td>\n",
              "      <td>2.5</td>\n",
              "    </tr>\n",
              "    <tr>\n",
              "      <th>4</th>\n",
              "      <td>1.0</td>\n",
              "      <td>2021-01-01 00:37:40</td>\n",
              "      <td>2021-01-01 01:04:46</td>\n",
              "      <td>2.0</td>\n",
              "      <td>19.10</td>\n",
              "      <td>1.0</td>\n",
              "      <td>N</td>\n",
              "      <td>132</td>\n",
              "      <td>3</td>\n",
              "      <td>2.0</td>\n",
              "      <td>52.0</td>\n",
              "      <td>0.5</td>\n",
              "      <td>0.5</td>\n",
              "      <td>0.00</td>\n",
              "      <td>6.12</td>\n",
              "      <td>0.3</td>\n",
              "      <td>59.42</td>\n",
              "      <td>0.0</td>\n",
              "    </tr>\n",
              "  </tbody>\n",
              "</table>\n",
              "</div>\n",
              "      <button class=\"colab-df-convert\" onclick=\"convertToInteractive('df-6005311e-6bfd-4579-84b4-c569fb6fabb2')\"\n",
              "              title=\"Convert this dataframe to an interactive table.\"\n",
              "              style=\"display:none;\">\n",
              "        \n",
              "  <svg xmlns=\"http://www.w3.org/2000/svg\" height=\"24px\"viewBox=\"0 0 24 24\"\n",
              "       width=\"24px\">\n",
              "    <path d=\"M0 0h24v24H0V0z\" fill=\"none\"/>\n",
              "    <path d=\"M18.56 5.44l.94 2.06.94-2.06 2.06-.94-2.06-.94-.94-2.06-.94 2.06-2.06.94zm-11 1L8.5 8.5l.94-2.06 2.06-.94-2.06-.94L8.5 2.5l-.94 2.06-2.06.94zm10 10l.94 2.06.94-2.06 2.06-.94-2.06-.94-.94-2.06-.94 2.06-2.06.94z\"/><path d=\"M17.41 7.96l-1.37-1.37c-.4-.4-.92-.59-1.43-.59-.52 0-1.04.2-1.43.59L10.3 9.45l-7.72 7.72c-.78.78-.78 2.05 0 2.83L4 21.41c.39.39.9.59 1.41.59.51 0 1.02-.2 1.41-.59l7.78-7.78 2.81-2.81c.8-.78.8-2.07 0-2.86zM5.41 20L4 18.59l7.72-7.72 1.47 1.35L5.41 20z\"/>\n",
              "  </svg>\n",
              "      </button>\n",
              "      \n",
              "  <style>\n",
              "    .colab-df-container {\n",
              "      display:flex;\n",
              "      flex-wrap:wrap;\n",
              "      gap: 12px;\n",
              "    }\n",
              "\n",
              "    .colab-df-convert {\n",
              "      background-color: #E8F0FE;\n",
              "      border: none;\n",
              "      border-radius: 50%;\n",
              "      cursor: pointer;\n",
              "      display: none;\n",
              "      fill: #1967D2;\n",
              "      height: 32px;\n",
              "      padding: 0 0 0 0;\n",
              "      width: 32px;\n",
              "    }\n",
              "\n",
              "    .colab-df-convert:hover {\n",
              "      background-color: #E2EBFA;\n",
              "      box-shadow: 0px 1px 2px rgba(60, 64, 67, 0.3), 0px 1px 3px 1px rgba(60, 64, 67, 0.15);\n",
              "      fill: #174EA6;\n",
              "    }\n",
              "\n",
              "    [theme=dark] .colab-df-convert {\n",
              "      background-color: #3B4455;\n",
              "      fill: #D2E3FC;\n",
              "    }\n",
              "\n",
              "    [theme=dark] .colab-df-convert:hover {\n",
              "      background-color: #434B5C;\n",
              "      box-shadow: 0px 1px 3px 1px rgba(0, 0, 0, 0.15);\n",
              "      filter: drop-shadow(0px 1px 2px rgba(0, 0, 0, 0.3));\n",
              "      fill: #FFFFFF;\n",
              "    }\n",
              "  </style>\n",
              "\n",
              "      <script>\n",
              "        const buttonEl =\n",
              "          document.querySelector('#df-6005311e-6bfd-4579-84b4-c569fb6fabb2 button.colab-df-convert');\n",
              "        buttonEl.style.display =\n",
              "          google.colab.kernel.accessAllowed ? 'block' : 'none';\n",
              "\n",
              "        async function convertToInteractive(key) {\n",
              "          const element = document.querySelector('#df-6005311e-6bfd-4579-84b4-c569fb6fabb2');\n",
              "          const dataTable =\n",
              "            await google.colab.kernel.invokeFunction('convertToInteractive',\n",
              "                                                     [key], {});\n",
              "          if (!dataTable) return;\n",
              "\n",
              "          const docLinkHtml = 'Like what you see? Visit the ' +\n",
              "            '<a target=\"_blank\" href=https://colab.research.google.com/notebooks/data_table.ipynb>data table notebook</a>'\n",
              "            + ' to learn more about interactive tables.';\n",
              "          element.innerHTML = '';\n",
              "          dataTable['output_type'] = 'display_data';\n",
              "          await google.colab.output.renderOutput(dataTable, element);\n",
              "          const docLink = document.createElement('div');\n",
              "          docLink.innerHTML = docLinkHtml;\n",
              "          element.appendChild(docLink);\n",
              "        }\n",
              "      </script>\n",
              "    </div>\n",
              "  </div>\n",
              "  "
            ]
          },
          "metadata": {},
          "execution_count": 6
        }
      ],
      "source": [
        "df.head()"
      ]
    },
    {
      "cell_type": "code",
      "execution_count": null,
      "metadata": {
        "colab": {
          "base_uri": "https://localhost:8080/"
        },
        "id": "UXD18VOsBjyf",
        "outputId": "0483d215-3b31-44e8-e1be-b065309517ef"
      },
      "outputs": [
        {
          "data": {
            "text/plain": [
              "VendorID                 float64\n",
              "tpep_pickup_datetime      object\n",
              "tpep_dropoff_datetime     object\n",
              "passenger_count          float64\n",
              "trip_distance            float64\n",
              "RatecodeID               float64\n",
              "store_and_fwd_flag        object\n",
              "PULocationID               int64\n",
              "DOLocationID               int64\n",
              "payment_type             float64\n",
              "fare_amount              float64\n",
              "extra                    float64\n",
              "mta_tax                  float64\n",
              "tip_amount               float64\n",
              "tolls_amount             float64\n",
              "improvement_surcharge    float64\n",
              "total_amount             float64\n",
              "congestion_surcharge     float64\n",
              "dtype: object"
            ]
          },
          "execution_count": 7,
          "metadata": {},
          "output_type": "execute_result"
        }
      ],
      "source": [
        "df.dtypes"
      ]
    },
    {
      "cell_type": "code",
      "execution_count": 46,
      "metadata": {
        "id": "gE0PVsAbBjyg"
      },
      "outputs": [],
      "source": [
        "df[[\"tpep_pickup_datetime\", \"tpep_dropoff_datetime\"]] = df[[\"tpep_pickup_datetime\", \"tpep_dropoff_datetime\"]].apply(pd.to_datetime, utc=False)"
      ]
    },
    {
      "cell_type": "code",
      "execution_count": null,
      "metadata": {
        "colab": {
          "base_uri": "https://localhost:8080/"
        },
        "id": "MCIysdabBjyh",
        "outputId": "c542d969-95bb-406f-a77f-4f0ff2591b8f"
      },
      "outputs": [
        {
          "data": {
            "text/plain": [
              "166807"
            ]
          },
          "execution_count": 8,
          "metadata": {},
          "output_type": "execute_result"
        }
      ],
      "source": [
        "df.store_and_fwd_flag.isna().sum()"
      ]
    },
    {
      "cell_type": "code",
      "execution_count": null,
      "metadata": {
        "colab": {
          "base_uri": "https://localhost:8080/"
        },
        "id": "BcscGxzNBjyi",
        "outputId": "2e5fe006-7b44-4026-c09e-493c25655026"
      },
      "outputs": [
        {
          "data": {
            "text/plain": [
              "N    2800483\n",
              "Y      32850\n",
              "Name: store_and_fwd_flag, dtype: int64"
            ]
          },
          "execution_count": 10,
          "metadata": {},
          "output_type": "execute_result"
        }
      ],
      "source": [
        "df.store_and_fwd_flag.value_counts()"
      ]
    },
    {
      "cell_type": "code",
      "execution_count": 7,
      "metadata": {
        "id": "xjfUfb3yBjyj"
      },
      "outputs": [],
      "source": [
        "df.store_and_fwd_flag = df.store_and_fwd_flag.map(dict(Y=1, N=0))"
      ]
    },
    {
      "cell_type": "code",
      "execution_count": null,
      "metadata": {
        "colab": {
          "base_uri": "https://localhost:8080/",
          "height": 387
        },
        "id": "1o7StJ_PtRBm",
        "outputId": "641b7a0c-aaff-4a9e-844e-2a08cf015b85"
      },
      "outputs": [
        {
          "data": {
            "text/plain": [
              "<seaborn.axisgrid.FacetGrid at 0x7f0ac2ed8590>"
            ]
          },
          "execution_count": 13,
          "metadata": {},
          "output_type": "execute_result"
        },
        {
          "data": {
            "image/png": "[encoded data removed]",
            "text/plain": [
              "<Figure size 360x360 with 1 Axes>"
            ]
          },
          "metadata": {},
          "output_type": "display_data"
        }
      ],
      "source": [
        "sns.displot(df, x=\"fare_amount\", kde=True, bins=50)"
      ]
    },
    {
      "cell_type": "code",
      "execution_count": null,
      "metadata": {
        "colab": {
          "base_uri": "https://localhost:8080/",
          "height": 381
        },
        "id": "PI4kDR7bBjyk",
        "outputId": "0d4b914e-5b0b-491a-f510-ef4ab85e3700"
      },
      "outputs": [
        {
          "data": {
            "text/html": [
              "\n",
              "  <div id=\"df-2c1fda49-e0e8-4e62-aa43-a7ea610d84f3\">\n",
              "    <div class=\"colab-df-container\">\n",
              "      <div>\n",
              "<style scoped>\n",
              "    .dataframe tbody tr th:only-of-type {\n",
              "        vertical-align: middle;\n",
              "    }\n",
              "\n",
              "    .dataframe tbody tr th {\n",
              "        vertical-align: top;\n",
              "    }\n",
              "\n",
              "    .dataframe thead th {\n",
              "        text-align: right;\n",
              "    }\n",
              "</style>\n",
              "<table border=\"1\" class=\"dataframe\">\n",
              "  <thead>\n",
              "    <tr style=\"text-align: right;\">\n",
              "      <th></th>\n",
              "      <th>VendorID</th>\n",
              "      <th>passenger_count</th>\n",
              "      <th>trip_distance</th>\n",
              "      <th>RatecodeID</th>\n",
              "      <th>store_and_fwd_flag</th>\n",
              "      <th>PULocationID</th>\n",
              "      <th>DOLocationID</th>\n",
              "      <th>payment_type</th>\n",
              "      <th>fare_amount</th>\n",
              "      <th>extra</th>\n",
              "      <th>mta_tax</th>\n",
              "      <th>tip_amount</th>\n",
              "      <th>tolls_amount</th>\n",
              "      <th>improvement_surcharge</th>\n",
              "      <th>total_amount</th>\n",
              "      <th>congestion_surcharge</th>\n",
              "    </tr>\n",
              "  </thead>\n",
              "  <tbody>\n",
              "    <tr>\n",
              "      <th>count</th>\n",
              "      <td>2.833333e+06</td>\n",
              "      <td>2.833333e+06</td>\n",
              "      <td>3.000140e+06</td>\n",
              "      <td>2.833333e+06</td>\n",
              "      <td>2.833333e+06</td>\n",
              "      <td>3.000140e+06</td>\n",
              "      <td>3.000140e+06</td>\n",
              "      <td>2.833333e+06</td>\n",
              "      <td>3.000140e+06</td>\n",
              "      <td>3.000140e+06</td>\n",
              "      <td>3.000140e+06</td>\n",
              "      <td>3.000140e+06</td>\n",
              "      <td>3.000140e+06</td>\n",
              "      <td>3.000140e+06</td>\n",
              "      <td>3.000140e+06</td>\n",
              "      <td>3.000140e+06</td>\n",
              "    </tr>\n",
              "    <tr>\n",
              "      <th>mean</th>\n",
              "      <td>1.687190e+00</td>\n",
              "      <td>1.424628e+00</td>\n",
              "      <td>6.791536e+00</td>\n",
              "      <td>1.044819e+00</td>\n",
              "      <td>1.159412e-02</td>\n",
              "      <td>1.654064e+02</td>\n",
              "      <td>1.623027e+02</td>\n",
              "      <td>1.257773e+00</td>\n",
              "      <td>1.285592e+01</td>\n",
              "      <td>1.046986e+00</td>\n",
              "      <td>4.928905e-01</td>\n",
              "      <td>2.149018e+00</td>\n",
              "      <td>3.186816e-01</td>\n",
              "      <td>2.971051e-01</td>\n",
              "      <td>1.872106e+01</td>\n",
              "      <td>2.202747e+00</td>\n",
              "    </tr>\n",
              "    <tr>\n",
              "      <th>std</th>\n",
              "      <td>4.636379e-01</td>\n",
              "      <td>1.043548e+00</td>\n",
              "      <td>7.050739e+02</td>\n",
              "      <td>7.404084e-01</td>\n",
              "      <td>1.070500e-01</td>\n",
              "      <td>6.700480e+01</td>\n",
              "      <td>7.123336e+01</td>\n",
              "      <td>4.776961e-01</td>\n",
              "      <td>1.226227e+01</td>\n",
              "      <td>1.252534e+00</td>\n",
              "      <td>7.599490e-02</td>\n",
              "      <td>2.584949e+00</td>\n",
              "      <td>1.587060e+00</td>\n",
              "      <td>4.108432e-02</td>\n",
              "      <td>1.438546e+01</td>\n",
              "      <td>8.378298e-01</td>\n",
              "    </tr>\n",
              "    <tr>\n",
              "      <th>min</th>\n",
              "      <td>1.000000e+00</td>\n",
              "      <td>0.000000e+00</td>\n",
              "      <td>0.000000e+00</td>\n",
              "      <td>1.000000e+00</td>\n",
              "      <td>0.000000e+00</td>\n",
              "      <td>1.000000e+00</td>\n",
              "      <td>1.000000e+00</td>\n",
              "      <td>1.000000e+00</td>\n",
              "      <td>-2.995000e+02</td>\n",
              "      <td>-5.500000e+00</td>\n",
              "      <td>-5.000000e-01</td>\n",
              "      <td>-1.111000e+02</td>\n",
              "      <td>-2.375000e+01</td>\n",
              "      <td>-3.000000e-01</td>\n",
              "      <td>-3.145500e+02</td>\n",
              "      <td>-2.500000e+00</td>\n",
              "    </tr>\n",
              "    <tr>\n",
              "      <th>25%</th>\n",
              "      <td>1.000000e+00</td>\n",
              "      <td>1.000000e+00</td>\n",
              "      <td>1.060000e+00</td>\n",
              "      <td>1.000000e+00</td>\n",
              "      <td>0.000000e+00</td>\n",
              "      <td>1.250000e+02</td>\n",
              "      <td>1.070000e+02</td>\n",
              "      <td>1.000000e+00</td>\n",
              "      <td>6.500000e+00</td>\n",
              "      <td>0.000000e+00</td>\n",
              "      <td>5.000000e-01</td>\n",
              "      <td>0.000000e+00</td>\n",
              "      <td>0.000000e+00</td>\n",
              "      <td>3.000000e-01</td>\n",
              "      <td>1.130000e+01</td>\n",
              "      <td>2.500000e+00</td>\n",
              "    </tr>\n",
              "    <tr>\n",
              "      <th>50%</th>\n",
              "      <td>2.000000e+00</td>\n",
              "      <td>1.000000e+00</td>\n",
              "      <td>1.790000e+00</td>\n",
              "      <td>1.000000e+00</td>\n",
              "      <td>0.000000e+00</td>\n",
              "      <td>1.620000e+02</td>\n",
              "      <td>1.620000e+02</td>\n",
              "      <td>1.000000e+00</td>\n",
              "      <td>9.000000e+00</td>\n",
              "      <td>5.000000e-01</td>\n",
              "      <td>5.000000e-01</td>\n",
              "      <td>1.960000e+00</td>\n",
              "      <td>0.000000e+00</td>\n",
              "      <td>3.000000e-01</td>\n",
              "      <td>1.475000e+01</td>\n",
              "      <td>2.500000e+00</td>\n",
              "    </tr>\n",
              "    <tr>\n",
              "      <th>75%</th>\n",
              "      <td>2.000000e+00</td>\n",
              "      <td>1.000000e+00</td>\n",
              "      <td>3.200000e+00</td>\n",
              "      <td>1.000000e+00</td>\n",
              "      <td>0.000000e+00</td>\n",
              "      <td>2.360000e+02</td>\n",
              "      <td>2.360000e+02</td>\n",
              "      <td>1.000000e+00</td>\n",
              "      <td>1.450000e+01</td>\n",
              "      <td>2.500000e+00</td>\n",
              "      <td>5.000000e-01</td>\n",
              "      <td>2.950000e+00</td>\n",
              "      <td>0.000000e+00</td>\n",
              "      <td>3.000000e-01</td>\n",
              "      <td>2.030000e+01</td>\n",
              "      <td>2.500000e+00</td>\n",
              "    </tr>\n",
              "    <tr>\n",
              "      <th>max</th>\n",
              "      <td>2.000000e+00</td>\n",
              "      <td>9.000000e+00</td>\n",
              "      <td>3.325322e+05</td>\n",
              "      <td>9.900000e+01</td>\n",
              "      <td>1.000000e+00</td>\n",
              "      <td>2.650000e+02</td>\n",
              "      <td>2.650000e+02</td>\n",
              "      <td>5.000000e+00</td>\n",
              "      <td>4.969000e+03</td>\n",
              "      <td>8.881000e+01</td>\n",
              "      <td>3.850000e+00</td>\n",
              "      <td>3.333300e+02</td>\n",
              "      <td>6.639100e+02</td>\n",
              "      <td>3.000000e-01</td>\n",
              "      <td>4.973300e+03</td>\n",
              "      <td>2.750000e+00</td>\n",
              "    </tr>\n",
              "  </tbody>\n",
              "</table>\n",
              "</div>\n",
              "      <button class=\"colab-df-convert\" onclick=\"convertToInteractive('df-2c1fda49-e0e8-4e62-aa43-a7ea610d84f3')\"\n",
              "              title=\"Convert this dataframe to an interactive table.\"\n",
              "              style=\"display:none;\">\n",
              "        \n",
              "  <svg xmlns=\"http://www.w3.org/2000/svg\" height=\"24px\"viewBox=\"0 0 24 24\"\n",
              "       width=\"24px\">\n",
              "    <path d=\"M0 0h24v24H0V0z\" fill=\"none\"/>\n",
              "    <path d=\"M18.56 5.44l.94 2.06.94-2.06 2.06-.94-2.06-.94-.94-2.06-.94 2.06-2.06.94zm-11 1L8.5 8.5l.94-2.06 2.06-.94-2.06-.94L8.5 2.5l-.94 2.06-2.06.94zm10 10l.94 2.06.94-2.06 2.06-.94-2.06-.94-.94-2.06-.94 2.06-2.06.94z\"/><path d=\"M17.41 7.96l-1.37-1.37c-.4-.4-.92-.59-1.43-.59-.52 0-1.04.2-1.43.59L10.3 9.45l-7.72 7.72c-.78.78-.78 2.05 0 2.83L4 21.41c.39.39.9.59 1.41.59.51 0 1.02-.2 1.41-.59l7.78-7.78 2.81-2.81c.8-.78.8-2.07 0-2.86zM5.41 20L4 18.59l7.72-7.72 1.47 1.35L5.41 20z\"/>\n",
              "  </svg>\n",
              "      </button>\n",
              "      \n",
              "  <style>\n",
              "    .colab-df-container {\n",
              "      display:flex;\n",
              "      flex-wrap:wrap;\n",
              "      gap: 12px;\n",
              "    }\n",
              "\n",
              "    .colab-df-convert {\n",
              "      background-color: #E8F0FE;\n",
              "      border: none;\n",
              "      border-radius: 50%;\n",
              "      cursor: pointer;\n",
              "      display: none;\n",
              "      fill: #1967D2;\n",
              "      height: 32px;\n",
              "      padding: 0 0 0 0;\n",
              "      width: 32px;\n",
              "    }\n",
              "\n",
              "    .colab-df-convert:hover {\n",
              "      background-color: #E2EBFA;\n",
              "      box-shadow: 0px 1px 2px rgba(60, 64, 67, 0.3), 0px 1px 3px 1px rgba(60, 64, 67, 0.15);\n",
              "      fill: #174EA6;\n",
              "    }\n",
              "\n",
              "    [theme=dark] .colab-df-convert {\n",
              "      background-color: #3B4455;\n",
              "      fill: #D2E3FC;\n",
              "    }\n",
              "\n",
              "    [theme=dark] .colab-df-convert:hover {\n",
              "      background-color: #434B5C;\n",
              "      box-shadow: 0px 1px 3px 1px rgba(0, 0, 0, 0.15);\n",
              "      filter: drop-shadow(0px 1px 2px rgba(0, 0, 0, 0.3));\n",
              "      fill: #FFFFFF;\n",
              "    }\n",
              "  </style>\n",
              "\n",
              "      <script>\n",
              "        const buttonEl =\n",
              "          document.querySelector('#df-2c1fda49-e0e8-4e62-aa43-a7ea610d84f3 button.colab-df-convert');\n",
              "        buttonEl.style.display =\n",
              "          google.colab.kernel.accessAllowed ? 'block' : 'none';\n",
              "\n",
              "        async function convertToInteractive(key) {\n",
              "          const element = document.querySelector('#df-2c1fda49-e0e8-4e62-aa43-a7ea610d84f3');\n",
              "          const dataTable =\n",
              "            await google.colab.kernel.invokeFunction('convertToInteractive',\n",
              "                                                     [key], {});\n",
              "          if (!dataTable) return;\n",
              "\n",
              "          const docLinkHtml = 'Like what you see? Visit the ' +\n",
              "            '<a target=\"_blank\" href=https://colab.research.google.com/notebooks/data_table.ipynb>data table notebook</a>'\n",
              "            + ' to learn more about interactive tables.';\n",
              "          element.innerHTML = '';\n",
              "          dataTable['output_type'] = 'display_data';\n",
              "          await google.colab.output.renderOutput(dataTable, element);\n",
              "          const docLink = document.createElement('div');\n",
              "          docLink.innerHTML = docLinkHtml;\n",
              "          element.appendChild(docLink);\n",
              "        }\n",
              "      </script>\n",
              "    </div>\n",
              "  </div>\n",
              "  "
            ],
            "text/plain": [
              "           VendorID  passenger_count  trip_distance    RatecodeID  \\\n",
              "count  2.833333e+06     2.833333e+06   3.000140e+06  2.833333e+06   \n",
              "mean   1.687190e+00     1.424628e+00   6.791536e+00  1.044819e+00   \n",
              "std    4.636379e-01     1.043548e+00   7.050739e+02  7.404084e-01   \n",
              "min    1.000000e+00     0.000000e+00   0.000000e+00  1.000000e+00   \n",
              "25%    1.000000e+00     1.000000e+00   1.060000e+00  1.000000e+00   \n",
              "50%    2.000000e+00     1.000000e+00   1.790000e+00  1.000000e+00   \n",
              "75%    2.000000e+00     1.000000e+00   3.200000e+00  1.000000e+00   \n",
              "max    2.000000e+00     9.000000e+00   3.325322e+05  9.900000e+01   \n",
              "\n",
              "       store_and_fwd_flag  PULocationID  DOLocationID  payment_type  \\\n",
              "count        2.833333e+06  3.000140e+06  3.000140e+06  2.833333e+06   \n",
              "mean         1.159412e-02  1.654064e+02  1.623027e+02  1.257773e+00   \n",
              "std          1.070500e-01  6.700480e+01  7.123336e+01  4.776961e-01   \n",
              "min          0.000000e+00  1.000000e+00  1.000000e+00  1.000000e+00   \n",
              "25%          0.000000e+00  1.250000e+02  1.070000e+02  1.000000e+00   \n",
              "50%          0.000000e+00  1.620000e+02  1.620000e+02  1.000000e+00   \n",
              "75%          0.000000e+00  2.360000e+02  2.360000e+02  1.000000e+00   \n",
              "max          1.000000e+00  2.650000e+02  2.650000e+02  5.000000e+00   \n",
              "\n",
              "        fare_amount         extra       mta_tax    tip_amount  tolls_amount  \\\n",
              "count  3.000140e+06  3.000140e+06  3.000140e+06  3.000140e+06  3.000140e+06   \n",
              "mean   1.285592e+01  1.046986e+00  4.928905e-01  2.149018e+00  3.186816e-01   \n",
              "std    1.226227e+01  1.252534e+00  7.599490e-02  2.584949e+00  1.587060e+00   \n",
              "min   -2.995000e+02 -5.500000e+00 -5.000000e-01 -1.111000e+02 -2.375000e+01   \n",
              "25%    6.500000e+00  0.000000e+00  5.000000e-01  0.000000e+00  0.000000e+00   \n",
              "50%    9.000000e+00  5.000000e-01  5.000000e-01  1.960000e+00  0.000000e+00   \n",
              "75%    1.450000e+01  2.500000e+00  5.000000e-01  2.950000e+00  0.000000e+00   \n",
              "max    4.969000e+03  8.881000e+01  3.850000e+00  3.333300e+02  6.639100e+02   \n",
              "\n",
              "       improvement_surcharge  total_amount  congestion_surcharge  \n",
              "count           3.000140e+06  3.000140e+06          3.000140e+06  \n",
              "mean            2.971051e-01  1.872106e+01          2.202747e+00  \n",
              "std             4.108432e-02  1.438546e+01          8.378298e-01  \n",
              "min            -3.000000e-01 -3.145500e+02         -2.500000e+00  \n",
              "25%             3.000000e-01  1.130000e+01          2.500000e+00  \n",
              "50%             3.000000e-01  1.475000e+01          2.500000e+00  \n",
              "75%             3.000000e-01  2.030000e+01          2.500000e+00  \n",
              "max             3.000000e-01  4.973300e+03          2.750000e+00  "
            ]
          },
          "execution_count": 12,
          "metadata": {},
          "output_type": "execute_result"
        }
      ],
      "source": [
        "df.describe()"
      ]
    },
    {
      "cell_type": "code",
      "execution_count": null,
      "metadata": {
        "colab": {
          "base_uri": "https://localhost:8080/"
        },
        "id": "eHuckf48Bjyl",
        "outputId": "10de5556-cf02-40e4-cfa2-fc1b4ef403e5"
      },
      "outputs": [
        {
          "data": {
            "text/plain": [
              "VendorID                 166807\n",
              "tpep_pickup_datetime          0\n",
              "tpep_dropoff_datetime         0\n",
              "passenger_count          166807\n",
              "trip_distance                 0\n",
              "RatecodeID               166807\n",
              "store_and_fwd_flag       166807\n",
              "PULocationID                  0\n",
              "DOLocationID                  0\n",
              "payment_type             166807\n",
              "fare_amount                   0\n",
              "extra                         0\n",
              "mta_tax                       0\n",
              "tip_amount                    0\n",
              "tolls_amount                  0\n",
              "improvement_surcharge         0\n",
              "total_amount                  0\n",
              "congestion_surcharge          0\n",
              "dtype: int64"
            ]
          },
          "execution_count": 13,
          "metadata": {},
          "output_type": "execute_result"
        }
      ],
      "source": [
        "df.isnull().sum()"
      ]
    },
    {
      "cell_type": "code",
      "execution_count": null,
      "metadata": {
        "colab": {
          "base_uri": "https://localhost:8080/",
          "height": 487
        },
        "id": "6EC4KvyPBjym",
        "outputId": "bfc8ffe1-5d22-4125-e116-cd3956ef174a"
      },
      "outputs": [
        {
          "data": {
            "text/html": [
              "\n",
              "  <div id=\"df-74fa73d9-6095-478d-b856-6ba53645f17f\">\n",
              "    <div class=\"colab-df-container\">\n",
              "      <div>\n",
              "<style scoped>\n",
              "    .dataframe tbody tr th:only-of-type {\n",
              "        vertical-align: middle;\n",
              "    }\n",
              "\n",
              "    .dataframe tbody tr th {\n",
              "        vertical-align: top;\n",
              "    }\n",
              "\n",
              "    .dataframe thead th {\n",
              "        text-align: right;\n",
              "    }\n",
              "</style>\n",
              "<table border=\"1\" class=\"dataframe\">\n",
              "  <thead>\n",
              "    <tr style=\"text-align: right;\">\n",
              "      <th></th>\n",
              "      <th>VendorID</th>\n",
              "      <th>tpep_pickup_datetime</th>\n",
              "      <th>tpep_dropoff_datetime</th>\n",
              "      <th>passenger_count</th>\n",
              "      <th>trip_distance</th>\n",
              "      <th>RatecodeID</th>\n",
              "      <th>store_and_fwd_flag</th>\n",
              "      <th>PULocationID</th>\n",
              "      <th>DOLocationID</th>\n",
              "      <th>payment_type</th>\n",
              "      <th>fare_amount</th>\n",
              "      <th>extra</th>\n",
              "      <th>mta_tax</th>\n",
              "      <th>tip_amount</th>\n",
              "      <th>tolls_amount</th>\n",
              "      <th>improvement_surcharge</th>\n",
              "      <th>total_amount</th>\n",
              "      <th>congestion_surcharge</th>\n",
              "    </tr>\n",
              "  </thead>\n",
              "  <tbody>\n",
              "    <tr>\n",
              "      <th>254282</th>\n",
              "      <td>NaN</td>\n",
              "      <td>2021-01-01 11:01:48</td>\n",
              "      <td>2021-01-01 11:01:04</td>\n",
              "      <td>NaN</td>\n",
              "      <td>1.68</td>\n",
              "      <td>NaN</td>\n",
              "      <td>NaN</td>\n",
              "      <td>265</td>\n",
              "      <td>36</td>\n",
              "      <td>NaN</td>\n",
              "      <td>24.94</td>\n",
              "      <td>0.00</td>\n",
              "      <td>0.5</td>\n",
              "      <td>0.00</td>\n",
              "      <td>0.0</td>\n",
              "      <td>0.3</td>\n",
              "      <td>25.74</td>\n",
              "      <td>0.0</td>\n",
              "    </tr>\n",
              "    <tr>\n",
              "      <th>254283</th>\n",
              "      <td>NaN</td>\n",
              "      <td>2021-01-01 11:25:00</td>\n",
              "      <td>2021-01-01 11:34:00</td>\n",
              "      <td>NaN</td>\n",
              "      <td>2.04</td>\n",
              "      <td>NaN</td>\n",
              "      <td>NaN</td>\n",
              "      <td>231</td>\n",
              "      <td>234</td>\n",
              "      <td>NaN</td>\n",
              "      <td>9.57</td>\n",
              "      <td>0.00</td>\n",
              "      <td>0.5</td>\n",
              "      <td>2.10</td>\n",
              "      <td>0.0</td>\n",
              "      <td>0.3</td>\n",
              "      <td>14.97</td>\n",
              "      <td>2.5</td>\n",
              "    </tr>\n",
              "    <tr>\n",
              "      <th>254284</th>\n",
              "      <td>NaN</td>\n",
              "      <td>2021-01-01 11:25:11</td>\n",
              "      <td>2021-01-01 11:34:23</td>\n",
              "      <td>NaN</td>\n",
              "      <td>2.50</td>\n",
              "      <td>NaN</td>\n",
              "      <td>NaN</td>\n",
              "      <td>107</td>\n",
              "      <td>231</td>\n",
              "      <td>NaN</td>\n",
              "      <td>10.00</td>\n",
              "      <td>0.00</td>\n",
              "      <td>0.5</td>\n",
              "      <td>1.33</td>\n",
              "      <td>0.0</td>\n",
              "      <td>0.3</td>\n",
              "      <td>14.63</td>\n",
              "      <td>2.5</td>\n",
              "    </tr>\n",
              "    <tr>\n",
              "      <th>254285</th>\n",
              "      <td>NaN</td>\n",
              "      <td>2021-01-01 11:14:00</td>\n",
              "      <td>2021-01-01 11:27:00</td>\n",
              "      <td>NaN</td>\n",
              "      <td>4.70</td>\n",
              "      <td>NaN</td>\n",
              "      <td>NaN</td>\n",
              "      <td>250</td>\n",
              "      <td>254</td>\n",
              "      <td>NaN</td>\n",
              "      <td>25.45</td>\n",
              "      <td>0.00</td>\n",
              "      <td>0.5</td>\n",
              "      <td>2.75</td>\n",
              "      <td>0.0</td>\n",
              "      <td>0.3</td>\n",
              "      <td>29.00</td>\n",
              "      <td>0.0</td>\n",
              "    </tr>\n",
              "    <tr>\n",
              "      <th>254286</th>\n",
              "      <td>NaN</td>\n",
              "      <td>2021-01-01 11:39:00</td>\n",
              "      <td>2021-01-01 11:44:00</td>\n",
              "      <td>NaN</td>\n",
              "      <td>0.76</td>\n",
              "      <td>NaN</td>\n",
              "      <td>NaN</td>\n",
              "      <td>250</td>\n",
              "      <td>248</td>\n",
              "      <td>NaN</td>\n",
              "      <td>12.67</td>\n",
              "      <td>0.00</td>\n",
              "      <td>0.5</td>\n",
              "      <td>2.75</td>\n",
              "      <td>0.0</td>\n",
              "      <td>0.3</td>\n",
              "      <td>16.22</td>\n",
              "      <td>0.0</td>\n",
              "    </tr>\n",
              "    <tr>\n",
              "      <th>...</th>\n",
              "      <td>...</td>\n",
              "      <td>...</td>\n",
              "      <td>...</td>\n",
              "      <td>...</td>\n",
              "      <td>...</td>\n",
              "      <td>...</td>\n",
              "      <td>...</td>\n",
              "      <td>...</td>\n",
              "      <td>...</td>\n",
              "      <td>...</td>\n",
              "      <td>...</td>\n",
              "      <td>...</td>\n",
              "      <td>...</td>\n",
              "      <td>...</td>\n",
              "      <td>...</td>\n",
              "      <td>...</td>\n",
              "      <td>...</td>\n",
              "      <td>...</td>\n",
              "    </tr>\n",
              "    <tr>\n",
              "      <th>3000135</th>\n",
              "      <td>NaN</td>\n",
              "      <td>2021-07-09 18:06:00</td>\n",
              "      <td>2021-07-09 18:22:00</td>\n",
              "      <td>NaN</td>\n",
              "      <td>4.68</td>\n",
              "      <td>NaN</td>\n",
              "      <td>NaN</td>\n",
              "      <td>185</td>\n",
              "      <td>259</td>\n",
              "      <td>NaN</td>\n",
              "      <td>20.66</td>\n",
              "      <td>2.75</td>\n",
              "      <td>0.5</td>\n",
              "      <td>0.00</td>\n",
              "      <td>0.0</td>\n",
              "      <td>0.3</td>\n",
              "      <td>24.21</td>\n",
              "      <td>0.0</td>\n",
              "    </tr>\n",
              "    <tr>\n",
              "      <th>3000136</th>\n",
              "      <td>NaN</td>\n",
              "      <td>2021-07-09 18:07:33</td>\n",
              "      <td>2021-07-09 19:07:59</td>\n",
              "      <td>NaN</td>\n",
              "      <td>3.50</td>\n",
              "      <td>NaN</td>\n",
              "      <td>NaN</td>\n",
              "      <td>265</td>\n",
              "      <td>258</td>\n",
              "      <td>NaN</td>\n",
              "      <td>29.06</td>\n",
              "      <td>0.00</td>\n",
              "      <td>0.5</td>\n",
              "      <td>0.00</td>\n",
              "      <td>0.0</td>\n",
              "      <td>0.3</td>\n",
              "      <td>29.86</td>\n",
              "      <td>0.0</td>\n",
              "    </tr>\n",
              "    <tr>\n",
              "      <th>3000137</th>\n",
              "      <td>NaN</td>\n",
              "      <td>2021-07-09 18:57:12</td>\n",
              "      <td>2021-07-09 19:11:31</td>\n",
              "      <td>NaN</td>\n",
              "      <td>3.28</td>\n",
              "      <td>NaN</td>\n",
              "      <td>NaN</td>\n",
              "      <td>143</td>\n",
              "      <td>249</td>\n",
              "      <td>NaN</td>\n",
              "      <td>16.05</td>\n",
              "      <td>0.00</td>\n",
              "      <td>0.5</td>\n",
              "      <td>4.13</td>\n",
              "      <td>0.0</td>\n",
              "      <td>0.3</td>\n",
              "      <td>23.48</td>\n",
              "      <td>2.5</td>\n",
              "    </tr>\n",
              "    <tr>\n",
              "      <th>3000138</th>\n",
              "      <td>NaN</td>\n",
              "      <td>2021-07-09 18:25:00</td>\n",
              "      <td>2021-07-09 18:48:00</td>\n",
              "      <td>NaN</td>\n",
              "      <td>4.19</td>\n",
              "      <td>NaN</td>\n",
              "      <td>NaN</td>\n",
              "      <td>238</td>\n",
              "      <td>116</td>\n",
              "      <td>NaN</td>\n",
              "      <td>20.06</td>\n",
              "      <td>2.75</td>\n",
              "      <td>0.5</td>\n",
              "      <td>0.00</td>\n",
              "      <td>0.0</td>\n",
              "      <td>0.3</td>\n",
              "      <td>23.61</td>\n",
              "      <td>0.0</td>\n",
              "    </tr>\n",
              "    <tr>\n",
              "      <th>3000139</th>\n",
              "      <td>NaN</td>\n",
              "      <td>2021-07-09 18:11:00</td>\n",
              "      <td>2021-07-09 18:30:00</td>\n",
              "      <td>NaN</td>\n",
              "      <td>3.51</td>\n",
              "      <td>NaN</td>\n",
              "      <td>NaN</td>\n",
              "      <td>232</td>\n",
              "      <td>68</td>\n",
              "      <td>NaN</td>\n",
              "      <td>15.27</td>\n",
              "      <td>0.00</td>\n",
              "      <td>0.5</td>\n",
              "      <td>3.96</td>\n",
              "      <td>0.0</td>\n",
              "      <td>0.3</td>\n",
              "      <td>22.53</td>\n",
              "      <td>2.5</td>\n",
              "    </tr>\n",
              "  </tbody>\n",
              "</table>\n",
              "<p>166807 rows × 18 columns</p>\n",
              "</div>\n",
              "      <button class=\"colab-df-convert\" onclick=\"convertToInteractive('df-74fa73d9-6095-478d-b856-6ba53645f17f')\"\n",
              "              title=\"Convert this dataframe to an interactive table.\"\n",
              "              style=\"display:none;\">\n",
              "        \n",
              "  <svg xmlns=\"http://www.w3.org/2000/svg\" height=\"24px\"viewBox=\"0 0 24 24\"\n",
              "       width=\"24px\">\n",
              "    <path d=\"M0 0h24v24H0V0z\" fill=\"none\"/>\n",
              "    <path d=\"M18.56 5.44l.94 2.06.94-2.06 2.06-.94-2.06-.94-.94-2.06-.94 2.06-2.06.94zm-11 1L8.5 8.5l.94-2.06 2.06-.94-2.06-.94L8.5 2.5l-.94 2.06-2.06.94zm10 10l.94 2.06.94-2.06 2.06-.94-2.06-.94-.94-2.06-.94 2.06-2.06.94z\"/><path d=\"M17.41 7.96l-1.37-1.37c-.4-.4-.92-.59-1.43-.59-.52 0-1.04.2-1.43.59L10.3 9.45l-7.72 7.72c-.78.78-.78 2.05 0 2.83L4 21.41c.39.39.9.59 1.41.59.51 0 1.02-.2 1.41-.59l7.78-7.78 2.81-2.81c.8-.78.8-2.07 0-2.86zM5.41 20L4 18.59l7.72-7.72 1.47 1.35L5.41 20z\"/>\n",
              "  </svg>\n",
              "      </button>\n",
              "      \n",
              "  <style>\n",
              "    .colab-df-container {\n",
              "      display:flex;\n",
              "      flex-wrap:wrap;\n",
              "      gap: 12px;\n",
              "    }\n",
              "\n",
              "    .colab-df-convert {\n",
              "      background-color: #E8F0FE;\n",
              "      border: none;\n",
              "      border-radius: 50%;\n",
              "      cursor: pointer;\n",
              "      display: none;\n",
              "      fill: #1967D2;\n",
              "      height: 32px;\n",
              "      padding: 0 0 0 0;\n",
              "      width: 32px;\n",
              "    }\n",
              "\n",
              "    .colab-df-convert:hover {\n",
              "      background-color: #E2EBFA;\n",
              "      box-shadow: 0px 1px 2px rgba(60, 64, 67, 0.3), 0px 1px 3px 1px rgba(60, 64, 67, 0.15);\n",
              "      fill: #174EA6;\n",
              "    }\n",
              "\n",
              "    [theme=dark] .colab-df-convert {\n",
              "      background-color: #3B4455;\n",
              "      fill: #D2E3FC;\n",
              "    }\n",
              "\n",
              "    [theme=dark] .colab-df-convert:hover {\n",
              "      background-color: #434B5C;\n",
              "      box-shadow: 0px 1px 3px 1px rgba(0, 0, 0, 0.15);\n",
              "      filter: drop-shadow(0px 1px 2px rgba(0, 0, 0, 0.3));\n",
              "      fill: #FFFFFF;\n",
              "    }\n",
              "  </style>\n",
              "\n",
              "      <script>\n",
              "        const buttonEl =\n",
              "          document.querySelector('#df-74fa73d9-6095-478d-b856-6ba53645f17f button.colab-df-convert');\n",
              "        buttonEl.style.display =\n",
              "          google.colab.kernel.accessAllowed ? 'block' : 'none';\n",
              "\n",
              "        async function convertToInteractive(key) {\n",
              "          const element = document.querySelector('#df-74fa73d9-6095-478d-b856-6ba53645f17f');\n",
              "          const dataTable =\n",
              "            await google.colab.kernel.invokeFunction('convertToInteractive',\n",
              "                                                     [key], {});\n",
              "          if (!dataTable) return;\n",
              "\n",
              "          const docLinkHtml = 'Like what you see? Visit the ' +\n",
              "            '<a target=\"_blank\" href=https://colab.research.google.com/notebooks/data_table.ipynb>data table notebook</a>'\n",
              "            + ' to learn more about interactive tables.';\n",
              "          element.innerHTML = '';\n",
              "          dataTable['output_type'] = 'display_data';\n",
              "          await google.colab.output.renderOutput(dataTable, element);\n",
              "          const docLink = document.createElement('div');\n",
              "          docLink.innerHTML = docLinkHtml;\n",
              "          element.appendChild(docLink);\n",
              "        }\n",
              "      </script>\n",
              "    </div>\n",
              "  </div>\n",
              "  "
            ],
            "text/plain": [
              "         VendorID tpep_pickup_datetime tpep_dropoff_datetime  passenger_count  \\\n",
              "254282        NaN  2021-01-01 11:01:48   2021-01-01 11:01:04              NaN   \n",
              "254283        NaN  2021-01-01 11:25:00   2021-01-01 11:34:00              NaN   \n",
              "254284        NaN  2021-01-01 11:25:11   2021-01-01 11:34:23              NaN   \n",
              "254285        NaN  2021-01-01 11:14:00   2021-01-01 11:27:00              NaN   \n",
              "254286        NaN  2021-01-01 11:39:00   2021-01-01 11:44:00              NaN   \n",
              "...           ...                  ...                   ...              ...   \n",
              "3000135       NaN  2021-07-09 18:06:00   2021-07-09 18:22:00              NaN   \n",
              "3000136       NaN  2021-07-09 18:07:33   2021-07-09 19:07:59              NaN   \n",
              "3000137       NaN  2021-07-09 18:57:12   2021-07-09 19:11:31              NaN   \n",
              "3000138       NaN  2021-07-09 18:25:00   2021-07-09 18:48:00              NaN   \n",
              "3000139       NaN  2021-07-09 18:11:00   2021-07-09 18:30:00              NaN   \n",
              "\n",
              "         trip_distance  RatecodeID  store_and_fwd_flag  PULocationID  \\\n",
              "254282            1.68         NaN                 NaN           265   \n",
              "254283            2.04         NaN                 NaN           231   \n",
              "254284            2.50         NaN                 NaN           107   \n",
              "254285            4.70         NaN                 NaN           250   \n",
              "254286            0.76         NaN                 NaN           250   \n",
              "...                ...         ...                 ...           ...   \n",
              "3000135           4.68         NaN                 NaN           185   \n",
              "3000136           3.50         NaN                 NaN           265   \n",
              "3000137           3.28         NaN                 NaN           143   \n",
              "3000138           4.19         NaN                 NaN           238   \n",
              "3000139           3.51         NaN                 NaN           232   \n",
              "\n",
              "         DOLocationID  payment_type  fare_amount  extra  mta_tax  tip_amount  \\\n",
              "254282             36           NaN        24.94   0.00      0.5        0.00   \n",
              "254283            234           NaN         9.57   0.00      0.5        2.10   \n",
              "254284            231           NaN        10.00   0.00      0.5        1.33   \n",
              "254285            254           NaN        25.45   0.00      0.5        2.75   \n",
              "254286            248           NaN        12.67   0.00      0.5        2.75   \n",
              "...               ...           ...          ...    ...      ...         ...   \n",
              "3000135           259           NaN        20.66   2.75      0.5        0.00   \n",
              "3000136           258           NaN        29.06   0.00      0.5        0.00   \n",
              "3000137           249           NaN        16.05   0.00      0.5        4.13   \n",
              "3000138           116           NaN        20.06   2.75      0.5        0.00   \n",
              "3000139            68           NaN        15.27   0.00      0.5        3.96   \n",
              "\n",
              "         tolls_amount  improvement_surcharge  total_amount  \\\n",
              "254282            0.0                    0.3         25.74   \n",
              "254283            0.0                    0.3         14.97   \n",
              "254284            0.0                    0.3         14.63   \n",
              "254285            0.0                    0.3         29.00   \n",
              "254286            0.0                    0.3         16.22   \n",
              "...               ...                    ...           ...   \n",
              "3000135           0.0                    0.3         24.21   \n",
              "3000136           0.0                    0.3         29.86   \n",
              "3000137           0.0                    0.3         23.48   \n",
              "3000138           0.0                    0.3         23.61   \n",
              "3000139           0.0                    0.3         22.53   \n",
              "\n",
              "         congestion_surcharge  \n",
              "254282                    0.0  \n",
              "254283                    2.5  \n",
              "254284                    2.5  \n",
              "254285                    0.0  \n",
              "254286                    0.0  \n",
              "...                       ...  \n",
              "3000135                   0.0  \n",
              "3000136                   0.0  \n",
              "3000137                   2.5  \n",
              "3000138                   0.0  \n",
              "3000139                   2.5  \n",
              "\n",
              "[166807 rows x 18 columns]"
            ]
          },
          "execution_count": 14,
          "metadata": {},
          "output_type": "execute_result"
        }
      ],
      "source": [
        "df[df.VendorID.isna()]"
      ]
    },
    {
      "cell_type": "code",
      "execution_count": null,
      "metadata": {
        "colab": {
          "base_uri": "https://localhost:8080/",
          "height": 615
        },
        "id": "jFodOwSFBjyn",
        "outputId": "bd8e6628-e158-4429-ebb5-5186be12b73d"
      },
      "outputs": [
        {
          "data": {
            "text/html": [
              "\n",
              "  <div id=\"df-68285d1b-c7f5-494f-b308-852b395e2706\">\n",
              "    <div class=\"colab-df-container\">\n",
              "      <div>\n",
              "<style scoped>\n",
              "    .dataframe tbody tr th:only-of-type {\n",
              "        vertical-align: middle;\n",
              "    }\n",
              "\n",
              "    .dataframe tbody tr th {\n",
              "        vertical-align: top;\n",
              "    }\n",
              "\n",
              "    .dataframe thead th {\n",
              "        text-align: right;\n",
              "    }\n",
              "</style>\n",
              "<table border=\"1\" class=\"dataframe\">\n",
              "  <thead>\n",
              "    <tr style=\"text-align: right;\">\n",
              "      <th></th>\n",
              "      <th>VendorID</th>\n",
              "      <th>passenger_count</th>\n",
              "      <th>trip_distance</th>\n",
              "      <th>RatecodeID</th>\n",
              "      <th>store_and_fwd_flag</th>\n",
              "      <th>PULocationID</th>\n",
              "      <th>DOLocationID</th>\n",
              "      <th>payment_type</th>\n",
              "      <th>fare_amount</th>\n",
              "      <th>extra</th>\n",
              "      <th>mta_tax</th>\n",
              "      <th>tip_amount</th>\n",
              "      <th>tolls_amount</th>\n",
              "      <th>improvement_surcharge</th>\n",
              "      <th>total_amount</th>\n",
              "      <th>congestion_surcharge</th>\n",
              "    </tr>\n",
              "  </thead>\n",
              "  <tbody>\n",
              "    <tr>\n",
              "      <th>VendorID</th>\n",
              "      <td>1.000000</td>\n",
              "      <td>0.164516</td>\n",
              "      <td>0.018958</td>\n",
              "      <td>0.002994</td>\n",
              "      <td>-0.151297</td>\n",
              "      <td>-0.006879</td>\n",
              "      <td>0.001024</td>\n",
              "      <td>-0.018266</td>\n",
              "      <td>0.000595</td>\n",
              "      <td>-0.866970</td>\n",
              "      <td>-0.033558</td>\n",
              "      <td>0.024078</td>\n",
              "      <td>0.002227</td>\n",
              "      <td>-0.046084</td>\n",
              "      <td>0.004948</td>\n",
              "      <td>0.001903</td>\n",
              "    </tr>\n",
              "    <tr>\n",
              "      <th>passenger_count</th>\n",
              "      <td>0.164516</td>\n",
              "      <td>1.000000</td>\n",
              "      <td>0.019118</td>\n",
              "      <td>-0.002252</td>\n",
              "      <td>-0.026811</td>\n",
              "      <td>-0.005629</td>\n",
              "      <td>-0.003783</td>\n",
              "      <td>0.000090</td>\n",
              "      <td>0.014563</td>\n",
              "      <td>-0.136569</td>\n",
              "      <td>0.005829</td>\n",
              "      <td>0.009127</td>\n",
              "      <td>0.011857</td>\n",
              "      <td>0.005817</td>\n",
              "      <td>0.016150</td>\n",
              "      <td>0.008000</td>\n",
              "    </tr>\n",
              "    <tr>\n",
              "      <th>trip_distance</th>\n",
              "      <td>0.018958</td>\n",
              "      <td>0.019118</td>\n",
              "      <td>1.000000</td>\n",
              "      <td>0.125137</td>\n",
              "      <td>-0.003969</td>\n",
              "      <td>-0.003528</td>\n",
              "      <td>-0.001953</td>\n",
              "      <td>-0.008453</td>\n",
              "      <td>0.012520</td>\n",
              "      <td>0.004809</td>\n",
              "      <td>0.000367</td>\n",
              "      <td>-0.000325</td>\n",
              "      <td>0.012403</td>\n",
              "      <td>0.000505</td>\n",
              "      <td>0.011974</td>\n",
              "      <td>-0.012497</td>\n",
              "    </tr>\n",
              "    <tr>\n",
              "      <th>RatecodeID</th>\n",
              "      <td>0.002994</td>\n",
              "      <td>-0.002252</td>\n",
              "      <td>0.125137</td>\n",
              "      <td>1.000000</td>\n",
              "      <td>0.012828</td>\n",
              "      <td>-0.009420</td>\n",
              "      <td>0.008134</td>\n",
              "      <td>0.006946</td>\n",
              "      <td>0.197270</td>\n",
              "      <td>-0.016015</td>\n",
              "      <td>-0.137238</td>\n",
              "      <td>0.100927</td>\n",
              "      <td>0.131085</td>\n",
              "      <td>-0.026662</td>\n",
              "      <td>0.193472</td>\n",
              "      <td>-0.086707</td>\n",
              "    </tr>\n",
              "    <tr>\n",
              "      <th>store_and_fwd_flag</th>\n",
              "      <td>-0.151297</td>\n",
              "      <td>-0.026811</td>\n",
              "      <td>-0.003969</td>\n",
              "      <td>0.012828</td>\n",
              "      <td>1.000000</td>\n",
              "      <td>0.001937</td>\n",
              "      <td>0.003319</td>\n",
              "      <td>0.014723</td>\n",
              "      <td>0.001481</td>\n",
              "      <td>0.126562</td>\n",
              "      <td>0.001124</td>\n",
              "      <td>-0.011021</td>\n",
              "      <td>-0.000858</td>\n",
              "      <td>0.003895</td>\n",
              "      <td>-0.001394</td>\n",
              "      <td>-0.010254</td>\n",
              "    </tr>\n",
              "    <tr>\n",
              "      <th>PULocationID</th>\n",
              "      <td>-0.006879</td>\n",
              "      <td>-0.005629</td>\n",
              "      <td>-0.003528</td>\n",
              "      <td>-0.009420</td>\n",
              "      <td>0.001937</td>\n",
              "      <td>1.000000</td>\n",
              "      <td>0.090422</td>\n",
              "      <td>-0.035494</td>\n",
              "      <td>-0.082111</td>\n",
              "      <td>0.000192</td>\n",
              "      <td>0.004592</td>\n",
              "      <td>-0.023413</td>\n",
              "      <td>-0.061460</td>\n",
              "      <td>0.001437</td>\n",
              "      <td>-0.076787</td>\n",
              "      <td>0.141363</td>\n",
              "    </tr>\n",
              "    <tr>\n",
              "      <th>DOLocationID</th>\n",
              "      <td>0.001024</td>\n",
              "      <td>-0.003783</td>\n",
              "      <td>-0.001953</td>\n",
              "      <td>0.008134</td>\n",
              "      <td>0.003319</td>\n",
              "      <td>0.090422</td>\n",
              "      <td>1.000000</td>\n",
              "      <td>-0.040175</td>\n",
              "      <td>-0.098897</td>\n",
              "      <td>0.008382</td>\n",
              "      <td>0.007288</td>\n",
              "      <td>-0.009148</td>\n",
              "      <td>-0.052060</td>\n",
              "      <td>-0.000643</td>\n",
              "      <td>-0.085385</td>\n",
              "      <td>0.151923</td>\n",
              "    </tr>\n",
              "    <tr>\n",
              "      <th>payment_type</th>\n",
              "      <td>-0.018266</td>\n",
              "      <td>0.000090</td>\n",
              "      <td>-0.008453</td>\n",
              "      <td>0.006946</td>\n",
              "      <td>0.014723</td>\n",
              "      <td>-0.035494</td>\n",
              "      <td>-0.040175</td>\n",
              "      <td>1.000000</td>\n",
              "      <td>-0.049649</td>\n",
              "      <td>-0.026550</td>\n",
              "      <td>-0.276928</td>\n",
              "      <td>-0.455111</td>\n",
              "      <td>-0.019204</td>\n",
              "      <td>-0.306450</td>\n",
              "      <td>-0.145508</td>\n",
              "      <td>-0.236409</td>\n",
              "    </tr>\n",
              "    <tr>\n",
              "      <th>fare_amount</th>\n",
              "      <td>0.000595</td>\n",
              "      <td>0.014563</td>\n",
              "      <td>0.012520</td>\n",
              "      <td>0.197270</td>\n",
              "      <td>0.001481</td>\n",
              "      <td>-0.082111</td>\n",
              "      <td>-0.098897</td>\n",
              "      <td>-0.049649</td>\n",
              "      <td>1.000000</td>\n",
              "      <td>0.033032</td>\n",
              "      <td>0.022731</td>\n",
              "      <td>0.394143</td>\n",
              "      <td>0.502832</td>\n",
              "      <td>0.131207</td>\n",
              "      <td>0.975545</td>\n",
              "      <td>-0.299161</td>\n",
              "    </tr>\n",
              "    <tr>\n",
              "      <th>extra</th>\n",
              "      <td>-0.866970</td>\n",
              "      <td>-0.136569</td>\n",
              "      <td>0.004809</td>\n",
              "      <td>-0.016015</td>\n",
              "      <td>0.126562</td>\n",
              "      <td>0.000192</td>\n",
              "      <td>0.008382</td>\n",
              "      <td>-0.026550</td>\n",
              "      <td>0.033032</td>\n",
              "      <td>1.000000</td>\n",
              "      <td>0.083103</td>\n",
              "      <td>-0.006505</td>\n",
              "      <td>0.037028</td>\n",
              "      <td>0.076559</td>\n",
              "      <td>0.055504</td>\n",
              "      <td>0.076828</td>\n",
              "    </tr>\n",
              "    <tr>\n",
              "      <th>mta_tax</th>\n",
              "      <td>-0.033558</td>\n",
              "      <td>0.005829</td>\n",
              "      <td>0.000367</td>\n",
              "      <td>-0.137238</td>\n",
              "      <td>0.001124</td>\n",
              "      <td>0.004592</td>\n",
              "      <td>0.007288</td>\n",
              "      <td>-0.276928</td>\n",
              "      <td>0.022731</td>\n",
              "      <td>0.083103</td>\n",
              "      <td>1.000000</td>\n",
              "      <td>0.003626</td>\n",
              "      <td>-0.060632</td>\n",
              "      <td>0.888805</td>\n",
              "      <td>0.046322</td>\n",
              "      <td>0.369393</td>\n",
              "    </tr>\n",
              "    <tr>\n",
              "      <th>tip_amount</th>\n",
              "      <td>0.024078</td>\n",
              "      <td>0.009127</td>\n",
              "      <td>-0.000325</td>\n",
              "      <td>0.100927</td>\n",
              "      <td>-0.011021</td>\n",
              "      <td>-0.023413</td>\n",
              "      <td>-0.009148</td>\n",
              "      <td>-0.455111</td>\n",
              "      <td>0.394143</td>\n",
              "      <td>-0.006505</td>\n",
              "      <td>0.003626</td>\n",
              "      <td>1.000000</td>\n",
              "      <td>0.299526</td>\n",
              "      <td>0.057099</td>\n",
              "      <td>0.555818</td>\n",
              "      <td>0.062819</td>\n",
              "    </tr>\n",
              "    <tr>\n",
              "      <th>tolls_amount</th>\n",
              "      <td>0.002227</td>\n",
              "      <td>0.011857</td>\n",
              "      <td>0.012403</td>\n",
              "      <td>0.131085</td>\n",
              "      <td>-0.000858</td>\n",
              "      <td>-0.061460</td>\n",
              "      <td>-0.052060</td>\n",
              "      <td>-0.019204</td>\n",
              "      <td>0.502832</td>\n",
              "      <td>0.037028</td>\n",
              "      <td>-0.060632</td>\n",
              "      <td>0.299526</td>\n",
              "      <td>1.000000</td>\n",
              "      <td>0.020390</td>\n",
              "      <td>0.593061</td>\n",
              "      <td>-0.168830</td>\n",
              "    </tr>\n",
              "    <tr>\n",
              "      <th>improvement_surcharge</th>\n",
              "      <td>-0.046084</td>\n",
              "      <td>0.005817</td>\n",
              "      <td>0.000505</td>\n",
              "      <td>-0.026662</td>\n",
              "      <td>0.003895</td>\n",
              "      <td>0.001437</td>\n",
              "      <td>-0.000643</td>\n",
              "      <td>-0.306450</td>\n",
              "      <td>0.131207</td>\n",
              "      <td>0.076559</td>\n",
              "      <td>0.888805</td>\n",
              "      <td>0.057099</td>\n",
              "      <td>0.020390</td>\n",
              "      <td>1.000000</td>\n",
              "      <td>0.155947</td>\n",
              "      <td>0.348621</td>\n",
              "    </tr>\n",
              "    <tr>\n",
              "      <th>total_amount</th>\n",
              "      <td>0.004948</td>\n",
              "      <td>0.016150</td>\n",
              "      <td>0.011974</td>\n",
              "      <td>0.193472</td>\n",
              "      <td>-0.001394</td>\n",
              "      <td>-0.076787</td>\n",
              "      <td>-0.085385</td>\n",
              "      <td>-0.145508</td>\n",
              "      <td>0.975545</td>\n",
              "      <td>0.055504</td>\n",
              "      <td>0.046322</td>\n",
              "      <td>0.555818</td>\n",
              "      <td>0.593061</td>\n",
              "      <td>0.155947</td>\n",
              "      <td>1.000000</td>\n",
              "      <td>-0.213495</td>\n",
              "    </tr>\n",
              "    <tr>\n",
              "      <th>congestion_surcharge</th>\n",
              "      <td>0.001903</td>\n",
              "      <td>0.008000</td>\n",
              "      <td>-0.012497</td>\n",
              "      <td>-0.086707</td>\n",
              "      <td>-0.010254</td>\n",
              "      <td>0.141363</td>\n",
              "      <td>0.151923</td>\n",
              "      <td>-0.236409</td>\n",
              "      <td>-0.299161</td>\n",
              "      <td>0.076828</td>\n",
              "      <td>0.369393</td>\n",
              "      <td>0.062819</td>\n",
              "      <td>-0.168830</td>\n",
              "      <td>0.348621</td>\n",
              "      <td>-0.213495</td>\n",
              "      <td>1.000000</td>\n",
              "    </tr>\n",
              "  </tbody>\n",
              "</table>\n",
              "</div>\n",
              "      <button class=\"colab-df-convert\" onclick=\"convertToInteractive('df-68285d1b-c7f5-494f-b308-852b395e2706')\"\n",
              "              title=\"Convert this dataframe to an interactive table.\"\n",
              "              style=\"display:none;\">\n",
              "        \n",
              "  <svg xmlns=\"http://www.w3.org/2000/svg\" height=\"24px\"viewBox=\"0 0 24 24\"\n",
              "       width=\"24px\">\n",
              "    <path d=\"M0 0h24v24H0V0z\" fill=\"none\"/>\n",
              "    <path d=\"M18.56 5.44l.94 2.06.94-2.06 2.06-.94-2.06-.94-.94-2.06-.94 2.06-2.06.94zm-11 1L8.5 8.5l.94-2.06 2.06-.94-2.06-.94L8.5 2.5l-.94 2.06-2.06.94zm10 10l.94 2.06.94-2.06 2.06-.94-2.06-.94-.94-2.06-.94 2.06-2.06.94z\"/><path d=\"M17.41 7.96l-1.37-1.37c-.4-.4-.92-.59-1.43-.59-.52 0-1.04.2-1.43.59L10.3 9.45l-7.72 7.72c-.78.78-.78 2.05 0 2.83L4 21.41c.39.39.9.59 1.41.59.51 0 1.02-.2 1.41-.59l7.78-7.78 2.81-2.81c.8-.78.8-2.07 0-2.86zM5.41 20L4 18.59l7.72-7.72 1.47 1.35L5.41 20z\"/>\n",
              "  </svg>\n",
              "      </button>\n",
              "      \n",
              "  <style>\n",
              "    .colab-df-container {\n",
              "      display:flex;\n",
              "      flex-wrap:wrap;\n",
              "      gap: 12px;\n",
              "    }\n",
              "\n",
              "    .colab-df-convert {\n",
              "      background-color: #E8F0FE;\n",
              "      border: none;\n",
              "      border-radius: 50%;\n",
              "      cursor: pointer;\n",
              "      display: none;\n",
              "      fill: #1967D2;\n",
              "      height: 32px;\n",
              "      padding: 0 0 0 0;\n",
              "      width: 32px;\n",
              "    }\n",
              "\n",
              "    .colab-df-convert:hover {\n",
              "      background-color: #E2EBFA;\n",
              "      box-shadow: 0px 1px 2px rgba(60, 64, 67, 0.3), 0px 1px 3px 1px rgba(60, 64, 67, 0.15);\n",
              "      fill: #174EA6;\n",
              "    }\n",
              "\n",
              "    [theme=dark] .colab-df-convert {\n",
              "      background-color: #3B4455;\n",
              "      fill: #D2E3FC;\n",
              "    }\n",
              "\n",
              "    [theme=dark] .colab-df-convert:hover {\n",
              "      background-color: #434B5C;\n",
              "      box-shadow: 0px 1px 3px 1px rgba(0, 0, 0, 0.15);\n",
              "      filter: drop-shadow(0px 1px 2px rgba(0, 0, 0, 0.3));\n",
              "      fill: #FFFFFF;\n",
              "    }\n",
              "  </style>\n",
              "\n",
              "      <script>\n",
              "        const buttonEl =\n",
              "          document.querySelector('#df-68285d1b-c7f5-494f-b308-852b395e2706 button.colab-df-convert');\n",
              "        buttonEl.style.display =\n",
              "          google.colab.kernel.accessAllowed ? 'block' : 'none';\n",
              "\n",
              "        async function convertToInteractive(key) {\n",
              "          const element = document.querySelector('#df-68285d1b-c7f5-494f-b308-852b395e2706');\n",
              "          const dataTable =\n",
              "            await google.colab.kernel.invokeFunction('convertToInteractive',\n",
              "                                                     [key], {});\n",
              "          if (!dataTable) return;\n",
              "\n",
              "          const docLinkHtml = 'Like what you see? Visit the ' +\n",
              "            '<a target=\"_blank\" href=https://colab.research.google.com/notebooks/data_table.ipynb>data table notebook</a>'\n",
              "            + ' to learn more about interactive tables.';\n",
              "          element.innerHTML = '';\n",
              "          dataTable['output_type'] = 'display_data';\n",
              "          await google.colab.output.renderOutput(dataTable, element);\n",
              "          const docLink = document.createElement('div');\n",
              "          docLink.innerHTML = docLinkHtml;\n",
              "          element.appendChild(docLink);\n",
              "        }\n",
              "      </script>\n",
              "    </div>\n",
              "  </div>\n",
              "  "
            ],
            "text/plain": [
              "                       VendorID  passenger_count  trip_distance  RatecodeID  \\\n",
              "VendorID               1.000000         0.164516       0.018958    0.002994   \n",
              "passenger_count        0.164516         1.000000       0.019118   -0.002252   \n",
              "trip_distance          0.018958         0.019118       1.000000    0.125137   \n",
              "RatecodeID             0.002994        -0.002252       0.125137    1.000000   \n",
              "store_and_fwd_flag    -0.151297        -0.026811      -0.003969    0.012828   \n",
              "PULocationID          -0.006879        -0.005629      -0.003528   -0.009420   \n",
              "DOLocationID           0.001024        -0.003783      -0.001953    0.008134   \n",
              "payment_type          -0.018266         0.000090      -0.008453    0.006946   \n",
              "fare_amount            0.000595         0.014563       0.012520    0.197270   \n",
              "extra                 -0.866970        -0.136569       0.004809   -0.016015   \n",
              "mta_tax               -0.033558         0.005829       0.000367   -0.137238   \n",
              "tip_amount             0.024078         0.009127      -0.000325    0.100927   \n",
              "tolls_amount           0.002227         0.011857       0.012403    0.131085   \n",
              "improvement_surcharge -0.046084         0.005817       0.000505   -0.026662   \n",
              "total_amount           0.004948         0.016150       0.011974    0.193472   \n",
              "congestion_surcharge   0.001903         0.008000      -0.012497   -0.086707   \n",
              "\n",
              "                       store_and_fwd_flag  PULocationID  DOLocationID  \\\n",
              "VendorID                        -0.151297     -0.006879      0.001024   \n",
              "passenger_count                 -0.026811     -0.005629     -0.003783   \n",
              "trip_distance                   -0.003969     -0.003528     -0.001953   \n",
              "RatecodeID                       0.012828     -0.009420      0.008134   \n",
              "store_and_fwd_flag               1.000000      0.001937      0.003319   \n",
              "PULocationID                     0.001937      1.000000      0.090422   \n",
              "DOLocationID                     0.003319      0.090422      1.000000   \n",
              "payment_type                     0.014723     -0.035494     -0.040175   \n",
              "fare_amount                      0.001481     -0.082111     -0.098897   \n",
              "extra                            0.126562      0.000192      0.008382   \n",
              "mta_tax                          0.001124      0.004592      0.007288   \n",
              "tip_amount                      -0.011021     -0.023413     -0.009148   \n",
              "tolls_amount                    -0.000858     -0.061460     -0.052060   \n",
              "improvement_surcharge            0.003895      0.001437     -0.000643   \n",
              "total_amount                    -0.001394     -0.076787     -0.085385   \n",
              "congestion_surcharge            -0.010254      0.141363      0.151923   \n",
              "\n",
              "                       payment_type  fare_amount     extra   mta_tax  \\\n",
              "VendorID                  -0.018266     0.000595 -0.866970 -0.033558   \n",
              "passenger_count            0.000090     0.014563 -0.136569  0.005829   \n",
              "trip_distance             -0.008453     0.012520  0.004809  0.000367   \n",
              "RatecodeID                 0.006946     0.197270 -0.016015 -0.137238   \n",
              "store_and_fwd_flag         0.014723     0.001481  0.126562  0.001124   \n",
              "PULocationID              -0.035494    -0.082111  0.000192  0.004592   \n",
              "DOLocationID              -0.040175    -0.098897  0.008382  0.007288   \n",
              "payment_type               1.000000    -0.049649 -0.026550 -0.276928   \n",
              "fare_amount               -0.049649     1.000000  0.033032  0.022731   \n",
              "extra                     -0.026550     0.033032  1.000000  0.083103   \n",
              "mta_tax                   -0.276928     0.022731  0.083103  1.000000   \n",
              "tip_amount                -0.455111     0.394143 -0.006505  0.003626   \n",
              "tolls_amount              -0.019204     0.502832  0.037028 -0.060632   \n",
              "improvement_surcharge     -0.306450     0.131207  0.076559  0.888805   \n",
              "total_amount              -0.145508     0.975545  0.055504  0.046322   \n",
              "congestion_surcharge      -0.236409    -0.299161  0.076828  0.369393   \n",
              "\n",
              "                       tip_amount  tolls_amount  improvement_surcharge  \\\n",
              "VendorID                 0.024078      0.002227              -0.046084   \n",
              "passenger_count          0.009127      0.011857               0.005817   \n",
              "trip_distance           -0.000325      0.012403               0.000505   \n",
              "RatecodeID               0.100927      0.131085              -0.026662   \n",
              "store_and_fwd_flag      -0.011021     -0.000858               0.003895   \n",
              "PULocationID            -0.023413     -0.061460               0.001437   \n",
              "DOLocationID            -0.009148     -0.052060              -0.000643   \n",
              "payment_type            -0.455111     -0.019204              -0.306450   \n",
              "fare_amount              0.394143      0.502832               0.131207   \n",
              "extra                   -0.006505      0.037028               0.076559   \n",
              "mta_tax                  0.003626     -0.060632               0.888805   \n",
              "tip_amount               1.000000      0.299526               0.057099   \n",
              "tolls_amount             0.299526      1.000000               0.020390   \n",
              "improvement_surcharge    0.057099      0.020390               1.000000   \n",
              "total_amount             0.555818      0.593061               0.155947   \n",
              "congestion_surcharge     0.062819     -0.168830               0.348621   \n",
              "\n",
              "                       total_amount  congestion_surcharge  \n",
              "VendorID                   0.004948              0.001903  \n",
              "passenger_count            0.016150              0.008000  \n",
              "trip_distance              0.011974             -0.012497  \n",
              "RatecodeID                 0.193472             -0.086707  \n",
              "store_and_fwd_flag        -0.001394             -0.010254  \n",
              "PULocationID              -0.076787              0.141363  \n",
              "DOLocationID              -0.085385              0.151923  \n",
              "payment_type              -0.145508             -0.236409  \n",
              "fare_amount                0.975545             -0.299161  \n",
              "extra                      0.055504              0.076828  \n",
              "mta_tax                    0.046322              0.369393  \n",
              "tip_amount                 0.555818              0.062819  \n",
              "tolls_amount               0.593061             -0.168830  \n",
              "improvement_surcharge      0.155947              0.348621  \n",
              "total_amount               1.000000             -0.213495  \n",
              "congestion_surcharge      -0.213495              1.000000  "
            ]
          },
          "execution_count": 15,
          "metadata": {},
          "output_type": "execute_result"
        }
      ],
      "source": [
        "df.corr()"
      ]
    },
    {
      "cell_type": "code",
      "execution_count": null,
      "metadata": {
        "colab": {
          "base_uri": "https://localhost:8080/",
          "height": 615
        },
        "id": "0LLCqu5PBjyp",
        "outputId": "0a44fa1b-0227-4250-a92f-426c06252c1b",
        "scrolled": true
      },
      "outputs": [
        {
          "data": {
            "text/plain": [
              "<matplotlib.axes._subplots.AxesSubplot at 0x7f9e8e560890>"
            ]
          },
          "execution_count": 16,
          "metadata": {},
          "output_type": "execute_result"
        },
        {
          "data": {
            "image/png": "[encoded data removed]",
            "text/plain": [
              "<Figure size 864x576 with 2 Axes>"
            ]
          },
          "metadata": {},
          "output_type": "display_data"
        }
      ],
      "source": [
        "corr = df.corr()\n",
        "\n",
        "kot = corr[corr>=.3]\n",
        "plt.figure(figsize=(12,8))\n",
        "sns.heatmap(kot, cmap=\"Greens\")"
      ]
    },
    {
      "cell_type": "code",
      "execution_count": 47,
      "metadata": {
        "id": "uCY-5hmJBjyq"
      },
      "outputs": [],
      "source": [
        "from datetime import datetime"
      ]
    },
    {
      "cell_type": "code",
      "execution_count": 48,
      "metadata": {
        "id": "u2k7CpmjBjyr"
      },
      "outputs": [],
      "source": [
        "df['pickup_day_no'] = df['tpep_pickup_datetime'].dt.weekday\n",
        "df['pickup_hour'] = df['tpep_pickup_datetime'].dt.hour\n",
        "df['pickup_month'] = df['tpep_pickup_datetime'].dt.month"
      ]
    },
    {
      "cell_type": "code",
      "execution_count": 49,
      "metadata": {
        "id": "WCVzCQl0Bjys"
      },
      "outputs": [],
      "source": [
        "df['duration'] = (df.tpep_dropoff_datetime-df.tpep_pickup_datetime)/np.timedelta64(1, 'm')"
      ]
    },
    {
      "cell_type": "code",
      "execution_count": null,
      "metadata": {
        "colab": {
          "base_uri": "https://localhost:8080/",
          "height": 299
        },
        "id": "H39LtwWvBjyt",
        "outputId": "e600330f-e5c3-479b-c278-882a51c60e03"
      },
      "outputs": [
        {
          "data": {
            "text/html": [
              "\n",
              "  <div id=\"df-ec937528-e23d-42cd-ad3e-2f84aaa24360\">\n",
              "    <div class=\"colab-df-container\">\n",
              "      <div>\n",
              "<style scoped>\n",
              "    .dataframe tbody tr th:only-of-type {\n",
              "        vertical-align: middle;\n",
              "    }\n",
              "\n",
              "    .dataframe tbody tr th {\n",
              "        vertical-align: top;\n",
              "    }\n",
              "\n",
              "    .dataframe thead th {\n",
              "        text-align: right;\n",
              "    }\n",
              "</style>\n",
              "<table border=\"1\" class=\"dataframe\">\n",
              "  <thead>\n",
              "    <tr style=\"text-align: right;\">\n",
              "      <th></th>\n",
              "      <th>VendorID</th>\n",
              "      <th>tpep_pickup_datetime</th>\n",
              "      <th>tpep_dropoff_datetime</th>\n",
              "      <th>passenger_count</th>\n",
              "      <th>trip_distance</th>\n",
              "      <th>RatecodeID</th>\n",
              "      <th>store_and_fwd_flag</th>\n",
              "      <th>PULocationID</th>\n",
              "      <th>DOLocationID</th>\n",
              "      <th>payment_type</th>\n",
              "      <th>...</th>\n",
              "      <th>mta_tax</th>\n",
              "      <th>tip_amount</th>\n",
              "      <th>tolls_amount</th>\n",
              "      <th>improvement_surcharge</th>\n",
              "      <th>total_amount</th>\n",
              "      <th>congestion_surcharge</th>\n",
              "      <th>pickup_day_no</th>\n",
              "      <th>pickup_hour</th>\n",
              "      <th>pickup_month</th>\n",
              "      <th>duration</th>\n",
              "    </tr>\n",
              "  </thead>\n",
              "  <tbody>\n",
              "    <tr>\n",
              "      <th>0</th>\n",
              "      <td>2.0</td>\n",
              "      <td>2021-01-01 00:31:49</td>\n",
              "      <td>2021-01-01 00:48:21</td>\n",
              "      <td>1.0</td>\n",
              "      <td>4.94</td>\n",
              "      <td>1.0</td>\n",
              "      <td>0.0</td>\n",
              "      <td>68</td>\n",
              "      <td>33</td>\n",
              "      <td>1.0</td>\n",
              "      <td>...</td>\n",
              "      <td>0.5</td>\n",
              "      <td>4.06</td>\n",
              "      <td>0.00</td>\n",
              "      <td>0.3</td>\n",
              "      <td>24.36</td>\n",
              "      <td>2.5</td>\n",
              "      <td>4</td>\n",
              "      <td>0</td>\n",
              "      <td>1</td>\n",
              "      <td>16.533333</td>\n",
              "    </tr>\n",
              "    <tr>\n",
              "      <th>1</th>\n",
              "      <td>1.0</td>\n",
              "      <td>2021-01-01 00:26:12</td>\n",
              "      <td>2021-01-01 00:39:46</td>\n",
              "      <td>2.0</td>\n",
              "      <td>2.70</td>\n",
              "      <td>1.0</td>\n",
              "      <td>0.0</td>\n",
              "      <td>263</td>\n",
              "      <td>142</td>\n",
              "      <td>1.0</td>\n",
              "      <td>...</td>\n",
              "      <td>0.5</td>\n",
              "      <td>3.15</td>\n",
              "      <td>0.00</td>\n",
              "      <td>0.3</td>\n",
              "      <td>18.95</td>\n",
              "      <td>2.5</td>\n",
              "      <td>4</td>\n",
              "      <td>0</td>\n",
              "      <td>1</td>\n",
              "      <td>13.566667</td>\n",
              "    </tr>\n",
              "    <tr>\n",
              "      <th>2</th>\n",
              "      <td>2.0</td>\n",
              "      <td>2021-01-01 00:42:11</td>\n",
              "      <td>2021-01-01 00:44:24</td>\n",
              "      <td>5.0</td>\n",
              "      <td>0.81</td>\n",
              "      <td>1.0</td>\n",
              "      <td>0.0</td>\n",
              "      <td>50</td>\n",
              "      <td>142</td>\n",
              "      <td>2.0</td>\n",
              "      <td>...</td>\n",
              "      <td>0.5</td>\n",
              "      <td>0.00</td>\n",
              "      <td>0.00</td>\n",
              "      <td>0.3</td>\n",
              "      <td>8.30</td>\n",
              "      <td>2.5</td>\n",
              "      <td>4</td>\n",
              "      <td>0</td>\n",
              "      <td>1</td>\n",
              "      <td>2.216667</td>\n",
              "    </tr>\n",
              "    <tr>\n",
              "      <th>3</th>\n",
              "      <td>2.0</td>\n",
              "      <td>2021-01-01 00:18:36</td>\n",
              "      <td>2021-01-01 00:27:10</td>\n",
              "      <td>2.0</td>\n",
              "      <td>1.66</td>\n",
              "      <td>1.0</td>\n",
              "      <td>0.0</td>\n",
              "      <td>151</td>\n",
              "      <td>142</td>\n",
              "      <td>2.0</td>\n",
              "      <td>...</td>\n",
              "      <td>0.5</td>\n",
              "      <td>0.00</td>\n",
              "      <td>0.00</td>\n",
              "      <td>0.3</td>\n",
              "      <td>12.30</td>\n",
              "      <td>2.5</td>\n",
              "      <td>4</td>\n",
              "      <td>0</td>\n",
              "      <td>1</td>\n",
              "      <td>8.566667</td>\n",
              "    </tr>\n",
              "    <tr>\n",
              "      <th>4</th>\n",
              "      <td>1.0</td>\n",
              "      <td>2021-01-01 00:37:40</td>\n",
              "      <td>2021-01-01 01:04:46</td>\n",
              "      <td>2.0</td>\n",
              "      <td>19.10</td>\n",
              "      <td>1.0</td>\n",
              "      <td>0.0</td>\n",
              "      <td>132</td>\n",
              "      <td>3</td>\n",
              "      <td>2.0</td>\n",
              "      <td>...</td>\n",
              "      <td>0.5</td>\n",
              "      <td>0.00</td>\n",
              "      <td>6.12</td>\n",
              "      <td>0.3</td>\n",
              "      <td>59.42</td>\n",
              "      <td>0.0</td>\n",
              "      <td>4</td>\n",
              "      <td>0</td>\n",
              "      <td>1</td>\n",
              "      <td>27.100000</td>\n",
              "    </tr>\n",
              "  </tbody>\n",
              "</table>\n",
              "<p>5 rows × 22 columns</p>\n",
              "</div>\n",
              "      <button class=\"colab-df-convert\" onclick=\"convertToInteractive('df-ec937528-e23d-42cd-ad3e-2f84aaa24360')\"\n",
              "              title=\"Convert this dataframe to an interactive table.\"\n",
              "              style=\"display:none;\">\n",
              "        \n",
              "  <svg xmlns=\"http://www.w3.org/2000/svg\" height=\"24px\"viewBox=\"0 0 24 24\"\n",
              "       width=\"24px\">\n",
              "    <path d=\"M0 0h24v24H0V0z\" fill=\"none\"/>\n",
              "    <path d=\"M18.56 5.44l.94 2.06.94-2.06 2.06-.94-2.06-.94-.94-2.06-.94 2.06-2.06.94zm-11 1L8.5 8.5l.94-2.06 2.06-.94-2.06-.94L8.5 2.5l-.94 2.06-2.06.94zm10 10l.94 2.06.94-2.06 2.06-.94-2.06-.94-.94-2.06-.94 2.06-2.06.94z\"/><path d=\"M17.41 7.96l-1.37-1.37c-.4-.4-.92-.59-1.43-.59-.52 0-1.04.2-1.43.59L10.3 9.45l-7.72 7.72c-.78.78-.78 2.05 0 2.83L4 21.41c.39.39.9.59 1.41.59.51 0 1.02-.2 1.41-.59l7.78-7.78 2.81-2.81c.8-.78.8-2.07 0-2.86zM5.41 20L4 18.59l7.72-7.72 1.47 1.35L5.41 20z\"/>\n",
              "  </svg>\n",
              "      </button>\n",
              "      \n",
              "  <style>\n",
              "    .colab-df-container {\n",
              "      display:flex;\n",
              "      flex-wrap:wrap;\n",
              "      gap: 12px;\n",
              "    }\n",
              "\n",
              "    .colab-df-convert {\n",
              "      background-color: #E8F0FE;\n",
              "      border: none;\n",
              "      border-radius: 50%;\n",
              "      cursor: pointer;\n",
              "      display: none;\n",
              "      fill: #1967D2;\n",
              "      height: 32px;\n",
              "      padding: 0 0 0 0;\n",
              "      width: 32px;\n",
              "    }\n",
              "\n",
              "    .colab-df-convert:hover {\n",
              "      background-color: #E2EBFA;\n",
              "      box-shadow: 0px 1px 2px rgba(60, 64, 67, 0.3), 0px 1px 3px 1px rgba(60, 64, 67, 0.15);\n",
              "      fill: #174EA6;\n",
              "    }\n",
              "\n",
              "    [theme=dark] .colab-df-convert {\n",
              "      background-color: #3B4455;\n",
              "      fill: #D2E3FC;\n",
              "    }\n",
              "\n",
              "    [theme=dark] .colab-df-convert:hover {\n",
              "      background-color: #434B5C;\n",
              "      box-shadow: 0px 1px 3px 1px rgba(0, 0, 0, 0.15);\n",
              "      filter: drop-shadow(0px 1px 2px rgba(0, 0, 0, 0.3));\n",
              "      fill: #FFFFFF;\n",
              "    }\n",
              "  </style>\n",
              "\n",
              "      <script>\n",
              "        const buttonEl =\n",
              "          document.querySelector('#df-ec937528-e23d-42cd-ad3e-2f84aaa24360 button.colab-df-convert');\n",
              "        buttonEl.style.display =\n",
              "          google.colab.kernel.accessAllowed ? 'block' : 'none';\n",
              "\n",
              "        async function convertToInteractive(key) {\n",
              "          const element = document.querySelector('#df-ec937528-e23d-42cd-ad3e-2f84aaa24360');\n",
              "          const dataTable =\n",
              "            await google.colab.kernel.invokeFunction('convertToInteractive',\n",
              "                                                     [key], {});\n",
              "          if (!dataTable) return;\n",
              "\n",
              "          const docLinkHtml = 'Like what you see? Visit the ' +\n",
              "            '<a target=\"_blank\" href=https://colab.research.google.com/notebooks/data_table.ipynb>data table notebook</a>'\n",
              "            + ' to learn more about interactive tables.';\n",
              "          element.innerHTML = '';\n",
              "          dataTable['output_type'] = 'display_data';\n",
              "          await google.colab.output.renderOutput(dataTable, element);\n",
              "          const docLink = document.createElement('div');\n",
              "          docLink.innerHTML = docLinkHtml;\n",
              "          element.appendChild(docLink);\n",
              "        }\n",
              "      </script>\n",
              "    </div>\n",
              "  </div>\n",
              "  "
            ],
            "text/plain": [
              "   VendorID tpep_pickup_datetime tpep_dropoff_datetime  passenger_count  \\\n",
              "0       2.0  2021-01-01 00:31:49   2021-01-01 00:48:21              1.0   \n",
              "1       1.0  2021-01-01 00:26:12   2021-01-01 00:39:46              2.0   \n",
              "2       2.0  2021-01-01 00:42:11   2021-01-01 00:44:24              5.0   \n",
              "3       2.0  2021-01-01 00:18:36   2021-01-01 00:27:10              2.0   \n",
              "4       1.0  2021-01-01 00:37:40   2021-01-01 01:04:46              2.0   \n",
              "\n",
              "   trip_distance  RatecodeID  store_and_fwd_flag  PULocationID  DOLocationID  \\\n",
              "0           4.94         1.0                 0.0            68            33   \n",
              "1           2.70         1.0                 0.0           263           142   \n",
              "2           0.81         1.0                 0.0            50           142   \n",
              "3           1.66         1.0                 0.0           151           142   \n",
              "4          19.10         1.0                 0.0           132             3   \n",
              "\n",
              "   payment_type  ...  mta_tax  tip_amount  tolls_amount  \\\n",
              "0           1.0  ...      0.5        4.06          0.00   \n",
              "1           1.0  ...      0.5        3.15          0.00   \n",
              "2           2.0  ...      0.5        0.00          0.00   \n",
              "3           2.0  ...      0.5        0.00          0.00   \n",
              "4           2.0  ...      0.5        0.00          6.12   \n",
              "\n",
              "   improvement_surcharge  total_amount  congestion_surcharge  pickup_day_no  \\\n",
              "0                    0.3         24.36                   2.5              4   \n",
              "1                    0.3         18.95                   2.5              4   \n",
              "2                    0.3          8.30                   2.5              4   \n",
              "3                    0.3         12.30                   2.5              4   \n",
              "4                    0.3         59.42                   0.0              4   \n",
              "\n",
              "   pickup_hour  pickup_month   duration  \n",
              "0            0             1  16.533333  \n",
              "1            0             1  13.566667  \n",
              "2            0             1   2.216667  \n",
              "3            0             1   8.566667  \n",
              "4            0             1  27.100000  \n",
              "\n",
              "[5 rows x 22 columns]"
            ]
          },
          "execution_count": 20,
          "metadata": {},
          "output_type": "execute_result"
        }
      ],
      "source": [
        "df.head()"
      ]
    },
    {
      "cell_type": "code",
      "execution_count": 50,
      "metadata": {
        "id": "7O0PzuRrBjyu"
      },
      "outputs": [],
      "source": [
        "df = df.drop(columns=['tpep_pickup_datetime', 'tpep_dropoff_datetime'])"
      ]
    },
    {
      "cell_type": "code",
      "execution_count": 15,
      "metadata": {
        "colab": {
          "base_uri": "https://localhost:8080/"
        },
        "id": "dlomCbSkBjyv",
        "outputId": "72e27e25-1fe6-40d2-a44b-5db3e60af3e8"
      },
      "outputs": [
        {
          "output_type": "execute_result",
          "data": {
            "text/plain": [
              "2.0    1947037\n",
              "1.0     886296\n",
              "Name: VendorID, dtype: int64"
            ]
          },
          "metadata": {},
          "execution_count": 15
        }
      ],
      "source": [
        "df.VendorID.value_counts()"
      ]
    },
    {
      "cell_type": "code",
      "execution_count": 51,
      "metadata": {
        "id": "v1tRrSPxBjyw"
      },
      "outputs": [],
      "source": [
        "df['passenger_count'] = df['passenger_count'].fillna(df['passenger_count'].median())  "
      ]
    },
    {
      "cell_type": "code",
      "execution_count": 52,
      "metadata": {
        "id": "4Jv7s9KfBjyx"
      },
      "outputs": [],
      "source": [
        "df = df.fillna(0)"
      ]
    },
    {
      "cell_type": "code",
      "execution_count": null,
      "metadata": {
        "colab": {
          "base_uri": "https://localhost:8080/"
        },
        "id": "jNga9J7ZBjyx",
        "outputId": "b33780c3-a301-4dfb-a6e2-41f63089addf"
      },
      "outputs": [
        {
          "data": {
            "text/plain": [
              "VendorID                 0\n",
              "passenger_count          0\n",
              "trip_distance            0\n",
              "RatecodeID               0\n",
              "store_and_fwd_flag       0\n",
              "PULocationID             0\n",
              "DOLocationID             0\n",
              "payment_type             0\n",
              "fare_amount              0\n",
              "extra                    0\n",
              "mta_tax                  0\n",
              "tip_amount               0\n",
              "tolls_amount             0\n",
              "improvement_surcharge    0\n",
              "total_amount             0\n",
              "congestion_surcharge     0\n",
              "pickup_day_no            0\n",
              "pickup_hour              0\n",
              "pickup_month             0\n",
              "duration                 0\n",
              "dtype: int64"
            ]
          },
          "execution_count": 14,
          "metadata": {},
          "output_type": "execute_result"
        }
      ],
      "source": [
        "df.isnull().sum()"
      ]
    },
    {
      "cell_type": "code",
      "execution_count": null,
      "metadata": {
        "id": "J8eNHKN4Bjyy"
      },
      "outputs": [],
      "source": [
        "def find_outliers(column):\n",
        "    return column[np.abs(column-column.mean()) > (3*column.std())]"
      ]
    },
    {
      "cell_type": "code",
      "execution_count": null,
      "metadata": {
        "id": "s-qE6mSaBjyz"
      },
      "outputs": [],
      "source": [
        "def kdeplot(df, column):\n",
        "    sns.kdeplot(data=df, x=column, fill=True, common_norm=False, palette=\"crest\", alpha=.5, linewidth=0)"
      ]
    },
    {
      "cell_type": "code",
      "execution_count": 53,
      "metadata": {
        "id": "6s5UFTkdBjy0"
      },
      "outputs": [],
      "source": [
        "names = ['duration', 'extra', 'mta_tax', 'tip_amount', 'tolls_amount', 'improvement_surcharge', 'congestion_surcharge']"
      ]
    },
    {
      "cell_type": "code",
      "execution_count": 54,
      "metadata": {
        "id": "Atb-sqSKBjy0"
      },
      "outputs": [],
      "source": [
        "for col in names:\n",
        "    df[col].values[df[col] < 0] = df[col].median()"
      ]
    },
    {
      "cell_type": "markdown",
      "metadata": {
        "id": "pjtiINF0Bjy1"
      },
      "source": [
        "## Анализ целевой переменной"
      ]
    },
    {
      "cell_type": "code",
      "execution_count": 17,
      "metadata": {
        "colab": {
          "base_uri": "https://localhost:8080/"
        },
        "id": "t8HVp12rBjy2",
        "outputId": "efe4d072-e265-486a-9986-0d9e137bd321"
      },
      "outputs": [
        {
          "output_type": "execute_result",
          "data": {
            "text/plain": [
              "26.455729974350504"
            ]
          },
          "metadata": {},
          "execution_count": 17
        }
      ],
      "source": [
        "df['fare_amount'].skew()"
      ]
    },
    {
      "cell_type": "code",
      "execution_count": null,
      "metadata": {
        "colab": {
          "base_uri": "https://localhost:8080/",
          "height": 313
        },
        "id": "89OmEBFj2b9J",
        "outputId": "dd87fa3a-4507-4586-a336-c6efc5325f46"
      },
      "outputs": [
        {
          "data": {
            "text/plain": [
              "Text(0.5, 1.0, 'Fare amount distribution')"
            ]
          },
          "execution_count": 22,
          "metadata": {},
          "output_type": "execute_result"
        },
        {
          "data": {
            "image/png": "[encoded data removed]",
            "text/plain": [
              "<Figure size 432x288 with 1 Axes>"
            ]
          },
          "metadata": {},
          "output_type": "display_data"
        }
      ],
      "source": [
        "plt.hist(df['fare_amount'], \n",
        "         bins=np.arange(-50, 200),\n",
        "         log=True)\n",
        "plt.xlabel('fare_amount')\n",
        "plt.title('Fare amount distribution')"
      ]
    },
    {
      "cell_type": "code",
      "execution_count": 55,
      "metadata": {
        "id": "OOfsEVQ72t1M"
      },
      "outputs": [],
      "source": [
        "def clip(df, a, b, col):\n",
        "    for c in col:\n",
        "        df = df[(df[c]>a) & (df[c]<b)]\n",
        "    return df"
      ]
    },
    {
      "cell_type": "code",
      "execution_count": 56,
      "metadata": {
        "id": "vmPpQHad2w2d"
      },
      "outputs": [],
      "source": [
        "df = clip(df, 1, 200, ['fare_amount'])"
      ]
    },
    {
      "cell_type": "code",
      "execution_count": null,
      "metadata": {
        "colab": {
          "base_uri": "https://localhost:8080/",
          "height": 386
        },
        "id": "QBLaK2v0uNSK",
        "outputId": "77fc4641-4894-4bd9-95df-220d4719c2ef"
      },
      "outputs": [
        {
          "data": {
            "text/plain": [
              "<seaborn.axisgrid.FacetGrid at 0x7fd30ab33d90>"
            ]
          },
          "execution_count": 25,
          "metadata": {},
          "output_type": "execute_result"
        },
        {
          "data": {
            "image/png": "[encoded data removed]",
            "text/plain": [
              "<Figure size 360x360 with 1 Axes>"
            ]
          },
          "metadata": {},
          "output_type": "display_data"
        }
      ],
      "source": [
        "sns.displot(df, x=\"fare_amount\", kde=True, bins=50)"
      ]
    },
    {
      "cell_type": "code",
      "execution_count": 18,
      "metadata": {
        "id": "_W6aMRk9Bjy2"
      },
      "outputs": [],
      "source": [
        "fare1 = pd.DataFrame((np.log1p(df['fare_amount'])).to_numpy(), columns=[\"fare_amount\"])"
      ]
    },
    {
      "cell_type": "code",
      "execution_count": 21,
      "metadata": {
        "colab": {
          "base_uri": "https://localhost:8080/"
        },
        "id": "irEh8xBRBjy3",
        "outputId": "e1f97f0c-e1ec-4744-e5a2-751da02181d0",
        "scrolled": true
      },
      "outputs": [
        {
          "output_type": "execute_result",
          "data": {
            "text/plain": [
              "fare_amount    0.901751\n",
              "dtype: float64"
            ]
          },
          "metadata": {},
          "execution_count": 21
        }
      ],
      "source": [
        "fare1.skew()"
      ]
    },
    {
      "cell_type": "code",
      "execution_count": 22,
      "metadata": {
        "colab": {
          "base_uri": "https://localhost:8080/",
          "height": 386
        },
        "id": "pl2832UeuTI3",
        "outputId": "eb4f36fd-5af0-4bbb-cb45-8afd9efdb63c"
      },
      "outputs": [
        {
          "output_type": "execute_result",
          "data": {
            "text/plain": [
              "<seaborn.axisgrid.FacetGrid at 0x7f6a367ba4d0>"
            ]
          },
          "metadata": {},
          "execution_count": 22
        },
        {
          "output_type": "display_data",
          "data": {
            "text/plain": [
              "<Figure size 360x360 with 1 Axes>"
            ],
            "image/png": "[encoded data removed]"
          },
          "metadata": {
            "needs_background": "light"
          }
        }
      ],
      "source": [
        "sns.displot(fare1, x=\"fare_amount\", kde=True, bins=20)"
      ]
    },
    {
      "cell_type": "code",
      "execution_count": 57,
      "metadata": {
        "id": "23bG_2deBjy3"
      },
      "outputs": [],
      "source": [
        "from sklearn.preprocessing import PowerTransformer, StandardScaler, QuantileTransformer"
      ]
    },
    {
      "cell_type": "code",
      "execution_count": 58,
      "metadata": {
        "id": "9c62XejRBjy4"
      },
      "outputs": [],
      "source": [
        "pt = PowerTransformer()"
      ]
    },
    {
      "cell_type": "code",
      "execution_count": 59,
      "metadata": {
        "colab": {
          "base_uri": "https://localhost:8080/"
        },
        "id": "hdp8M719Bjy5",
        "outputId": "747054b1-66fb-4215-aa25-df2baf542851"
      },
      "outputs": [
        {
          "output_type": "execute_result",
          "data": {
            "text/plain": [
              "PowerTransformer()"
            ]
          },
          "metadata": {},
          "execution_count": 59
        }
      ],
      "source": [
        "pt.fit(df[[\"fare_amount\"]])"
      ]
    },
    {
      "cell_type": "code",
      "execution_count": 60,
      "metadata": {
        "colab": {
          "base_uri": "https://localhost:8080/"
        },
        "id": "IiUcA91hBjy6",
        "outputId": "6be5a210-4e98-455b-a15d-b7ef3b37c1c0"
      },
      "outputs": [
        {
          "output_type": "execute_result",
          "data": {
            "text/plain": [
              "array([[ 0.86976586],\n",
              "       [ 0.40337869],\n",
              "       [-1.49944282],\n",
              "       ...,\n",
              "       [ 0.83201914],\n",
              "       [ 1.1223107 ],\n",
              "       [ 0.76272226]])"
            ]
          },
          "metadata": {},
          "execution_count": 60
        }
      ],
      "source": [
        "pt.transform(df[[\"fare_amount\"]])"
      ]
    },
    {
      "cell_type": "code",
      "execution_count": 61,
      "metadata": {
        "id": "NtewnX1MBjy6"
      },
      "outputs": [],
      "source": [
        "fare2 = pd.DataFrame(pt.transform(df[[\"fare_amount\"]]), columns=[\"fare_amount\"])"
      ]
    },
    {
      "cell_type": "code",
      "execution_count": 28,
      "metadata": {
        "colab": {
          "base_uri": "https://localhost:8080/"
        },
        "id": "18jVo03eBjy7",
        "outputId": "36be85b7-3954-4f7a-9b75-e3985135f84d"
      },
      "outputs": [
        {
          "output_type": "execute_result",
          "data": {
            "text/plain": [
              "fare_amount    0.050493\n",
              "dtype: float64"
            ]
          },
          "metadata": {},
          "execution_count": 28
        }
      ],
      "source": [
        "fare2.skew()"
      ]
    },
    {
      "cell_type": "code",
      "execution_count": null,
      "metadata": {
        "colab": {
          "base_uri": "https://localhost:8080/",
          "height": 386
        },
        "id": "qc0komkXudFL",
        "outputId": "53f80f25-d2f5-45f1-f879-ebf52bf3ddf3"
      },
      "outputs": [
        {
          "data": {
            "text/plain": [
              "<seaborn.axisgrid.FacetGrid at 0x7f77209ab090>"
            ]
          },
          "execution_count": 27,
          "metadata": {},
          "output_type": "execute_result"
        },
        {
          "data": {
            "image/png": "[encoded data removed]",
            "text/plain": [
              "<Figure size 360x360 with 1 Axes>"
            ]
          },
          "metadata": {},
          "output_type": "display_data"
        }
      ],
      "source": [
        "sns.displot(fare2, x=\"fare_amount\", kde=True, bins=20)"
      ]
    },
    {
      "cell_type": "code",
      "execution_count": null,
      "metadata": {
        "colab": {
          "base_uri": "https://localhost:8080/"
        },
        "id": "bgQJ--prBjy7",
        "outputId": "e376281e-dccf-417f-8ad8-ff8087a3c646"
      },
      "outputs": [
        {
          "data": {
            "text/plain": [
              "array([[0.8013013 ],\n",
              "       [0.66466466],\n",
              "       [0.06156156],\n",
              "       ...,\n",
              "       [0.79590058],\n",
              "       [0.85615616],\n",
              "       [0.77400734]])"
            ]
          },
          "execution_count": 30,
          "metadata": {},
          "output_type": "execute_result"
        }
      ],
      "source": [
        "qt = QuantileTransformer(random_state=42)\n",
        "qt.fit_transform(df[[\"fare_amount\"]])"
      ]
    },
    {
      "cell_type": "code",
      "execution_count": null,
      "metadata": {
        "id": "FK7aWRFyBjy8"
      },
      "outputs": [],
      "source": [
        "fare3 = pd.DataFrame(qt.transform(df[[\"fare_amount\"]]), columns=[\"fare_amount\"])"
      ]
    },
    {
      "cell_type": "code",
      "execution_count": null,
      "metadata": {
        "colab": {
          "base_uri": "https://localhost:8080/"
        },
        "id": "43TbUeMIBjy8",
        "outputId": "5acae9c6-c8c0-4cec-99f0-721dea927f76"
      },
      "outputs": [
        {
          "data": {
            "text/plain": [
              "array([[0.8013013 ],\n",
              "       [0.66466466],\n",
              "       [0.06156156],\n",
              "       ...,\n",
              "       [0.79590058],\n",
              "       [0.85615616],\n",
              "       [0.77400734]])"
            ]
          },
          "execution_count": 32,
          "metadata": {},
          "output_type": "execute_result"
        }
      ],
      "source": [
        "fare3.values"
      ]
    },
    {
      "cell_type": "code",
      "execution_count": null,
      "metadata": {
        "colab": {
          "base_uri": "https://localhost:8080/"
        },
        "id": "o4NQIfD0Bjy9",
        "outputId": "2d46fcc1-523e-4710-f76b-9790790491fe"
      },
      "outputs": [
        {
          "data": {
            "text/plain": [
              "fare_amount    0.003976\n",
              "dtype: float64"
            ]
          },
          "execution_count": 33,
          "metadata": {},
          "output_type": "execute_result"
        }
      ],
      "source": [
        "fare3.skew()"
      ]
    },
    {
      "cell_type": "code",
      "execution_count": null,
      "metadata": {
        "colab": {
          "base_uri": "https://localhost:8080/",
          "height": 386
        },
        "id": "blrfgKDOujIJ",
        "outputId": "4c02def4-ba9d-46e3-dc98-c50ddeff1d38"
      },
      "outputs": [
        {
          "data": {
            "text/plain": [
              "<seaborn.axisgrid.FacetGrid at 0x7f3602fc44d0>"
            ]
          },
          "execution_count": 34,
          "metadata": {},
          "output_type": "execute_result"
        },
        {
          "data": {
            "image/png": "[encoded data removed]",
            "text/plain": [
              "<Figure size 360x360 with 1 Axes>"
            ]
          },
          "metadata": {},
          "output_type": "display_data"
        }
      ],
      "source": [
        "sns.displot(fare3, x=\"fare_amount\", kde=True, bins=20)"
      ]
    },
    {
      "cell_type": "code",
      "execution_count": 62,
      "metadata": {
        "id": "MEFolTqZBjy9"
      },
      "outputs": [],
      "source": [
        "y = df[\"fare_amount\"].values\n",
        "#y_transformed = fare3.values.ravel()\n",
        "y_transformed = fare2.values.ravel()"
      ]
    },
    {
      "cell_type": "code",
      "execution_count": 63,
      "metadata": {
        "id": "Tz47T0aHBjy-"
      },
      "outputs": [],
      "source": [
        "X = df.drop(columns=[\"fare_amount\"])"
      ]
    },
    {
      "cell_type": "code",
      "execution_count": 64,
      "metadata": {
        "id": "3ShSzRHBBjy-"
      },
      "outputs": [],
      "source": [
        "X = pd.get_dummies(X,columns=['VendorID', 'RatecodeID', 'payment_type'])"
      ]
    },
    {
      "cell_type": "code",
      "execution_count": 65,
      "metadata": {
        "id": "jV0pyXlqBjy_"
      },
      "outputs": [],
      "source": [
        "X = pd.get_dummies(X, columns=['store_and_fwd_flag'], drop_first=True)"
      ]
    },
    {
      "cell_type": "code",
      "execution_count": 66,
      "metadata": {
        "id": "ad7J8qkkBjzA"
      },
      "outputs": [],
      "source": [
        "scaler = StandardScaler()\n",
        "X = scaler.fit_transform(X)"
      ]
    },
    {
      "cell_type": "markdown",
      "metadata": {
        "id": "RAaMEb6xBjzA"
      },
      "source": [
        "## Sklearn"
      ]
    },
    {
      "cell_type": "code",
      "execution_count": 67,
      "metadata": {
        "id": "k9K5v_K4BjzB"
      },
      "outputs": [],
      "source": [
        "from sklearn.tree import DecisionTreeRegressor\n",
        "from sklearn.linear_model import SGDRegressor\n",
        "from sklearn.metrics import mean_absolute_error, mean_squared_error\n",
        "from sklearn.model_selection import cross_val_predict, cross_val_score, \\\n",
        "    RandomizedSearchCV, KFold"
      ]
    },
    {
      "cell_type": "markdown",
      "metadata": {
        "id": "sNIHbPi1N8EX"
      },
      "source": [
        "## Skopt/SGDRegressor"
      ]
    },
    {
      "cell_type": "code",
      "execution_count": 68,
      "metadata": {
        "colab": {
          "base_uri": "https://localhost:8080/"
        },
        "id": "Tfe8rZ_6IG0s",
        "outputId": "ac238e2a-2c24-4ce0-eb2d-ecd6d4ea47d9"
      },
      "outputs": [
        {
          "output_type": "stream",
          "name": "stdout",
          "text": [
            "Requirement already satisfied: scikit-optimize in /usr/local/lib/python3.7/dist-packages (0.9.0)\n",
            "Requirement already satisfied: scikit-learn>=0.20.0 in /usr/local/lib/python3.7/dist-packages (from scikit-optimize) (1.0.2)\n",
            "Requirement already satisfied: pyaml>=16.9 in /usr/local/lib/python3.7/dist-packages (from scikit-optimize) (21.10.1)\n",
            "Requirement already satisfied: scipy>=0.19.1 in /usr/local/lib/python3.7/dist-packages (from scikit-optimize) (1.4.1)\n",
            "Requirement already satisfied: joblib>=0.11 in /usr/local/lib/python3.7/dist-packages (from scikit-optimize) (1.1.0)\n",
            "Requirement already satisfied: numpy>=1.13.3 in /usr/local/lib/python3.7/dist-packages (from scikit-optimize) (1.21.6)\n",
            "Requirement already satisfied: PyYAML in /usr/local/lib/python3.7/dist-packages (from pyaml>=16.9->scikit-optimize) (3.13)\n",
            "Requirement already satisfied: threadpoolctl>=2.0.0 in /usr/local/lib/python3.7/dist-packages (from scikit-learn>=0.20.0->scikit-optimize) (3.1.0)\n"
          ]
        }
      ],
      "source": [
        "pip install scikit-optimize"
      ]
    },
    {
      "cell_type": "code",
      "execution_count": 69,
      "metadata": {
        "id": "qlBp7miZN3TW"
      },
      "outputs": [],
      "source": [
        "from skopt import BayesSearchCV\n",
        "from sklearn.model_selection import train_test_split"
      ]
    },
    {
      "cell_type": "code",
      "execution_count": 33,
      "metadata": {
        "id": "9baREofPQ6QE"
      },
      "outputs": [],
      "source": [
        "opt = BayesSearchCV(\n",
        "    SGDRegressor(random_state=42, max_iter=5000),\n",
        "    {\n",
        "        'penalty': ['elasticnet'],\n",
        "        'alpha': [1e-7, 1e-6, 1e-5, 1e-4, 1e-3, 1e-2],\n",
        "        'l1_ratio':  list(np.arange(0, 0.5, 0.1)),\n",
        "        'loss':['huber', 'squared_error'],\n",
        "    },\n",
        "    cv=3\n",
        ")"
      ]
    },
    {
      "cell_type": "code",
      "execution_count": null,
      "metadata": {
        "id": "uRmCLgMQS7hU"
      },
      "outputs": [],
      "source": [
        "opt.fit(X, y)"
      ]
    },
    {
      "cell_type": "code",
      "execution_count": null,
      "metadata": {
        "id": "z9Ap4q8UTAw0"
      },
      "outputs": [],
      "source": [
        "opt.best_params_"
      ]
    },
    {
      "cell_type": "code",
      "execution_count": 32,
      "metadata": {
        "id": "fakB9V69yBkh"
      },
      "outputs": [],
      "source": [
        "mysgdr = SGDRegressor(random_state=42, alpha= 0.001, l1_ratio=0.3, loss=\"huber\", penalty=\"elasticnet\")"
      ]
    },
    {
      "cell_type": "code",
      "execution_count": 33,
      "metadata": {
        "colab": {
          "base_uri": "https://localhost:8080/"
        },
        "id": "68CDC_g7yVqd",
        "outputId": "87d86ec9-ede1-4676-db43-558e1f5ce2d4"
      },
      "outputs": [
        {
          "output_type": "execute_result",
          "data": {
            "text/plain": [
              "SGDRegressor(alpha=0.001, l1_ratio=0.3, loss='huber', penalty='elasticnet',\n",
              "             random_state=42)"
            ]
          },
          "metadata": {},
          "execution_count": 33
        }
      ],
      "source": [
        "mysgdr.fit(X, y)"
      ]
    },
    {
      "cell_type": "code",
      "execution_count": 34,
      "metadata": {
        "id": "LzV9qY3VyjsH"
      },
      "outputs": [],
      "source": [
        "y_pred = cross_val_predict(mysgdr, X, y)"
      ]
    },
    {
      "cell_type": "code",
      "execution_count": 35,
      "metadata": {
        "colab": {
          "base_uri": "https://localhost:8080/"
        },
        "id": "FIm1gYK3ysiu",
        "outputId": "eabac218-0e17-43e3-a5b4-31d9376395e8"
      },
      "outputs": [
        {
          "output_type": "execute_result",
          "data": {
            "text/plain": [
              "0.16171847212038215"
            ]
          },
          "metadata": {},
          "execution_count": 35
        }
      ],
      "source": [
        "mean_squared_error(y, y_pred)"
      ]
    },
    {
      "cell_type": "code",
      "source": [
        "plt.hist(y, bins=np.arange(0, 75), alpha=0.5, label='y')\n",
        "plt.hist(y_pred, bins=np.arange(0, 75), alpha=0.5, label='y_pred')\n",
        "plt.legend(loc='upper right')\n",
        "plt.xlabel('fare_amount')\n",
        "plt.title('Fare amount distribution')\n",
        "plt.show()"
      ],
      "metadata": {
        "colab": {
          "base_uri": "https://localhost:8080/",
          "height": 296
        },
        "id": "JgLW6kwu_5EQ",
        "outputId": "99d3f691-071e-4231-bee0-6b2b1474e334"
      },
      "execution_count": 44,
      "outputs": [
        {
          "output_type": "display_data",
          "data": {
            "text/plain": [
              "<Figure size 432x288 with 1 Axes>"
            ],
            "image/png": "[encoded data removed]"
          },
          "metadata": {
            "needs_background": "light"
          }
        }
      ]
    },
    {
      "cell_type": "markdown",
      "metadata": {
        "id": "VGjFRbLe4avD"
      },
      "source": [
        "## Skopt/DecisionTreeRegressor"
      ]
    },
    {
      "cell_type": "code",
      "execution_count": null,
      "metadata": {
        "id": "Ob2lFocQ4TOy"
      },
      "outputs": [],
      "source": [
        "X_train, X_test, y_train, y_test = train_test_split(X, y, random_state=42)"
      ]
    },
    {
      "cell_type": "code",
      "execution_count": 31,
      "metadata": {
        "id": "jfYu0zQP_aiv"
      },
      "outputs": [],
      "source": [
        "opt_tree = BayesSearchCV(\n",
        "    DecisionTreeRegressor(random_state=42),\n",
        "    {\n",
        "        'max_depth':list(range(1, 10)),\n",
        "        'min_samples_split':list(range(2, 100, 5)),\n",
        "    },\n",
        "    cv=3\n",
        ")"
      ]
    },
    {
      "cell_type": "code",
      "execution_count": 32,
      "metadata": {
        "colab": {
          "base_uri": "https://localhost:8080/"
        },
        "id": "fCWTwlhiBou_",
        "outputId": "be009d9f-8bef-4921-a2c8-8ecf4152ab6e"
      },
      "outputs": [
        {
          "output_type": "stream",
          "name": "stderr",
          "text": [
            "/usr/local/lib/python3.7/dist-packages/skopt/optimizer/optimizer.py:449: UserWarning: The objective has been evaluated at this point before.\n",
            "  warnings.warn(\"The objective has been evaluated \"\n",
            "/usr/local/lib/python3.7/dist-packages/skopt/optimizer/optimizer.py:449: UserWarning: The objective has been evaluated at this point before.\n",
            "  warnings.warn(\"The objective has been evaluated \"\n",
            "/usr/local/lib/python3.7/dist-packages/skopt/optimizer/optimizer.py:449: UserWarning: The objective has been evaluated at this point before.\n",
            "  warnings.warn(\"The objective has been evaluated \"\n",
            "/usr/local/lib/python3.7/dist-packages/skopt/optimizer/optimizer.py:449: UserWarning: The objective has been evaluated at this point before.\n",
            "  warnings.warn(\"The objective has been evaluated \"\n",
            "/usr/local/lib/python3.7/dist-packages/skopt/optimizer/optimizer.py:449: UserWarning: The objective has been evaluated at this point before.\n",
            "  warnings.warn(\"The objective has been evaluated \"\n",
            "/usr/local/lib/python3.7/dist-packages/skopt/optimizer/optimizer.py:449: UserWarning: The objective has been evaluated at this point before.\n",
            "  warnings.warn(\"The objective has been evaluated \"\n",
            "/usr/local/lib/python3.7/dist-packages/skopt/optimizer/optimizer.py:449: UserWarning: The objective has been evaluated at this point before.\n",
            "  warnings.warn(\"The objective has been evaluated \"\n",
            "/usr/local/lib/python3.7/dist-packages/skopt/optimizer/optimizer.py:449: UserWarning: The objective has been evaluated at this point before.\n",
            "  warnings.warn(\"The objective has been evaluated \"\n",
            "/usr/local/lib/python3.7/dist-packages/skopt/optimizer/optimizer.py:449: UserWarning: The objective has been evaluated at this point before.\n",
            "  warnings.warn(\"The objective has been evaluated \"\n"
          ]
        },
        {
          "output_type": "execute_result",
          "data": {
            "text/plain": [
              "BayesSearchCV(cv=3, estimator=DecisionTreeRegressor(random_state=42),\n",
              "              search_spaces={'max_depth': [1, 2, 3, 4, 5, 6, 7, 8, 9],\n",
              "                             'min_samples_split': [2, 7, 12, 17, 22, 27, 32, 37,\n",
              "                                                   42, 47, 52, 57, 62, 67, 72,\n",
              "                                                   77, 82, 87, 92, 97]})"
            ]
          },
          "metadata": {},
          "execution_count": 32
        }
      ],
      "source": [
        "opt_tree.fit(X, y_transformed)"
      ]
    },
    {
      "cell_type": "code",
      "execution_count": 33,
      "metadata": {
        "colab": {
          "base_uri": "https://localhost:8080/"
        },
        "id": "KoXdVZgjBugM",
        "outputId": "31f7e45b-c6ab-4055-ddac-50ac35f55b1c"
      },
      "outputs": [
        {
          "output_type": "execute_result",
          "data": {
            "text/plain": [
              "OrderedDict([('max_depth', 9), ('min_samples_split', 7)])"
            ]
          },
          "metadata": {},
          "execution_count": 33
        }
      ],
      "source": [
        "opt_tree.best_params_"
      ]
    },
    {
      "cell_type": "code",
      "execution_count": 36,
      "metadata": {
        "id": "YvlXsVWOBznG"
      },
      "outputs": [],
      "source": [
        "tree = DecisionTreeRegressor(random_state=42, max_depth=9, min_samples_split=7)"
      ]
    },
    {
      "cell_type": "code",
      "execution_count": 37,
      "metadata": {
        "colab": {
          "base_uri": "https://localhost:8080/"
        },
        "id": "DroltbGoGmzh",
        "outputId": "171c1303-bb1c-455c-ab70-f84f3c29df9c"
      },
      "outputs": [
        {
          "output_type": "execute_result",
          "data": {
            "text/plain": [
              "DecisionTreeRegressor(max_depth=9, min_samples_split=7, random_state=42)"
            ]
          },
          "metadata": {},
          "execution_count": 37
        }
      ],
      "source": [
        "tree.fit(X, y_transformed)"
      ]
    },
    {
      "cell_type": "code",
      "execution_count": 38,
      "metadata": {
        "id": "W4x5Gf2OGrlw"
      },
      "outputs": [],
      "source": [
        "y_pred_tree = cross_val_predict(tree, X, y_transformed)"
      ]
    },
    {
      "cell_type": "code",
      "execution_count": 39,
      "metadata": {
        "colab": {
          "base_uri": "https://localhost:8080/"
        },
        "id": "WH2uAdFDG10C",
        "outputId": "e2e72119-5e71-4d9d-d4f0-cb0714eca1c2"
      },
      "outputs": [
        {
          "output_type": "stream",
          "name": "stderr",
          "text": [
            "/usr/local/lib/python3.7/dist-packages/sklearn/base.py:451: UserWarning: X does not have valid feature names, but PowerTransformer was fitted with feature names\n",
            "  \"X does not have valid feature names, but\"\n"
          ]
        }
      ],
      "source": [
        "#y_pred_tree = qt.inverse_transform([[el] for el in y_pred_tree])\n",
        "y_pred_tree = pt.inverse_transform([[el] for el in y_pred_tree])"
      ]
    },
    {
      "cell_type": "code",
      "execution_count": 40,
      "metadata": {
        "colab": {
          "base_uri": "https://localhost:8080/"
        },
        "id": "1ILR8at_HL70",
        "outputId": "ab079178-f85c-4867-cff2-ab787d658167"
      },
      "outputs": [
        {
          "output_type": "execute_result",
          "data": {
            "text/plain": [
              "1.762461605389471"
            ]
          },
          "metadata": {},
          "execution_count": 40
        }
      ],
      "source": [
        "mean_squared_error(y, y_pred_tree)"
      ]
    },
    {
      "cell_type": "code",
      "source": [
        "plt.hist(y, bins=np.arange(0, 75), alpha=0.5, label='y')\n",
        "plt.hist(y_pred_tree, bins=np.arange(0, 75), alpha=0.5, label='y_pred')\n",
        "plt.legend(loc='upper right')\n",
        "plt.xlabel('fare_amount')\n",
        "plt.title('Fare amount distribution')\n",
        "plt.show()\n",
        "print(mean_squared_error(y, y_pred_tree))"
      ],
      "metadata": {
        "colab": {
          "base_uri": "https://localhost:8080/",
          "height": 296
        },
        "id": "JzsrWqDyAnFl",
        "outputId": "6eccdc22-3be8-4bf2-d57f-d7c44a5e93d5"
      },
      "execution_count": 45,
      "outputs": [
        {
          "output_type": "display_data",
          "data": {
            "text/plain": [
              "<Figure size 432x288 with 1 Axes>"
            ],
            "image/png": "[encoded data removed]"
          },
          "metadata": {
            "needs_background": "light"
          }
        }
      ]
    },
    {
      "cell_type": "markdown",
      "metadata": {
        "id": "J56N4I2N7pAU"
      },
      "source": [
        "###Skopt/RandomForestRegressor"
      ]
    },
    {
      "cell_type": "code",
      "execution_count": null,
      "metadata": {
        "id": "XxJzYpiT-Cbv"
      },
      "outputs": [],
      "source": [
        "X_train, X_test, y_train, y_test = train_test_split(X, y, random_state=42)"
      ]
    },
    {
      "cell_type": "code",
      "execution_count": 80,
      "metadata": {
        "id": "XMI9qnGY7gqw"
      },
      "outputs": [],
      "source": [
        "from sklearn.ensemble import RandomForestRegressor"
      ]
    },
    {
      "cell_type": "code",
      "execution_count": 81,
      "metadata": {
        "id": "0nzM3MT37hpR"
      },
      "outputs": [],
      "source": [
        "regr = RandomForestRegressor(n_estimators=7, max_depth=9, random_state=42, min_samples_split=7, n_jobs=-1)"
      ]
    },
    {
      "cell_type": "code",
      "execution_count": 82,
      "metadata": {
        "colab": {
          "base_uri": "https://localhost:8080/"
        },
        "id": "FI963yCn9CAX",
        "outputId": "c7ab7b5b-b7c3-4f73-95aa-b512e0fa7b68"
      },
      "outputs": [
        {
          "output_type": "execute_result",
          "data": {
            "text/plain": [
              "RandomForestRegressor(max_depth=9, min_samples_split=7, n_estimators=7,\n",
              "                      n_jobs=-1, random_state=42)"
            ]
          },
          "metadata": {},
          "execution_count": 82
        }
      ],
      "source": [
        "regr.fit(X, y_transformed)"
      ]
    },
    {
      "cell_type": "code",
      "execution_count": 83,
      "metadata": {
        "id": "B3ykNl3P9Gcj"
      },
      "outputs": [],
      "source": [
        "y_pred_forest = cross_val_predict(regr, X, y_transformed)"
      ]
    },
    {
      "cell_type": "code",
      "execution_count": 84,
      "metadata": {
        "colab": {
          "base_uri": "https://localhost:8080/"
        },
        "id": "7snDyC7q9dGm",
        "outputId": "e7e5bdae-ab69-4a5c-a546-3dc07b77ba39"
      },
      "outputs": [
        {
          "output_type": "stream",
          "name": "stderr",
          "text": [
            "/usr/local/lib/python3.7/dist-packages/sklearn/base.py:451: UserWarning: X does not have valid feature names, but PowerTransformer was fitted with feature names\n",
            "  \"X does not have valid feature names, but\"\n"
          ]
        }
      ],
      "source": [
        "y_pred_forest = pt.inverse_transform([[el] for el in y_pred_forest])"
      ]
    },
    {
      "cell_type": "code",
      "execution_count": 85,
      "metadata": {
        "colab": {
          "base_uri": "https://localhost:8080/"
        },
        "id": "3GziUyRd9kpR",
        "outputId": "c5a713e4-5ac0-4f49-e3de-3c301fb3eac5"
      },
      "outputs": [
        {
          "output_type": "execute_result",
          "data": {
            "text/plain": [
              "1.5262688863344445"
            ]
          },
          "metadata": {},
          "execution_count": 85
        }
      ],
      "source": [
        "mean_squared_error(y, y_pred_forest)"
      ]
    },
    {
      "cell_type": "code",
      "source": [
        "plt.hist(y, bins=np.arange(0, 75), alpha=0.5, label='y')\n",
        "plt.hist(y_pred_forest, bins=np.arange(0, 75), alpha=0.5, label='y_pred')\n",
        "plt.legend(loc='upper right')\n",
        "plt.xlabel('fare_amount')\n",
        "plt.title('Fare amount distribution')\n",
        "plt.show()"
      ],
      "metadata": {
        "colab": {
          "base_uri": "https://localhost:8080/",
          "height": 296
        },
        "id": "czIvhOR7A4Rr",
        "outputId": "5cb98427-2efa-44b9-deb9-82f895f72887"
      },
      "execution_count": 86,
      "outputs": [
        {
          "output_type": "display_data",
          "data": {
            "text/plain": [
              "<Figure size 432x288 with 1 Axes>"
            ],
            "image/png": "[encoded data removed]"
          },
          "metadata": {
            "needs_background": "light"
          }
        }
      ]
    },
    {
      "cell_type": "markdown",
      "metadata": {
        "id": "5VBT6apcjfU7"
      },
      "source": [
        "### Catboost"
      ]
    },
    {
      "cell_type": "code",
      "execution_count": 31,
      "metadata": {
        "colab": {
          "base_uri": "https://localhost:8080/"
        },
        "id": "-q1Bv_Uyjq9F",
        "outputId": "524c95bf-62ac-45f8-81d7-81f9177cd7bb"
      },
      "outputs": [
        {
          "output_type": "stream",
          "name": "stdout",
          "text": [
            "Collecting catboost\n",
            "  Downloading catboost-1.0.5-cp37-none-manylinux1_x86_64.whl (76.6 MB)\n",
            "\u001b[K     |████████████████████████████████| 76.6 MB 67 kB/s \n",
            "\u001b[?25hRequirement already satisfied: numpy>=1.16.0 in /usr/local/lib/python3.7/dist-packages (from catboost) (1.21.6)\n",
            "Requirement already satisfied: plotly in /usr/local/lib/python3.7/dist-packages (from catboost) (5.5.0)\n",
            "Requirement already satisfied: matplotlib in /usr/local/lib/python3.7/dist-packages (from catboost) (3.2.2)\n",
            "Requirement already satisfied: graphviz in /usr/local/lib/python3.7/dist-packages (from catboost) (0.10.1)\n",
            "Requirement already satisfied: six in /usr/local/lib/python3.7/dist-packages (from catboost) (1.15.0)\n",
            "Requirement already satisfied: pandas>=0.24.0 in /usr/local/lib/python3.7/dist-packages (from catboost) (1.3.5)\n",
            "Requirement already satisfied: scipy in /usr/local/lib/python3.7/dist-packages (from catboost) (1.4.1)\n",
            "Requirement already satisfied: pytz>=2017.3 in /usr/local/lib/python3.7/dist-packages (from pandas>=0.24.0->catboost) (2022.1)\n",
            "Requirement already satisfied: python-dateutil>=2.7.3 in /usr/local/lib/python3.7/dist-packages (from pandas>=0.24.0->catboost) (2.8.2)\n",
            "Requirement already satisfied: pyparsing!=2.0.4,!=2.1.2,!=2.1.6,>=2.0.1 in /usr/local/lib/python3.7/dist-packages (from matplotlib->catboost) (3.0.9)\n",
            "Requirement already satisfied: cycler>=0.10 in /usr/local/lib/python3.7/dist-packages (from matplotlib->catboost) (0.11.0)\n",
            "Requirement already satisfied: kiwisolver>=1.0.1 in /usr/local/lib/python3.7/dist-packages (from matplotlib->catboost) (1.4.2)\n",
            "Requirement already satisfied: typing-extensions in /usr/local/lib/python3.7/dist-packages (from kiwisolver>=1.0.1->matplotlib->catboost) (4.2.0)\n",
            "Requirement already satisfied: tenacity>=6.2.0 in /usr/local/lib/python3.7/dist-packages (from plotly->catboost) (8.0.1)\n",
            "Installing collected packages: catboost\n",
            "Successfully installed catboost-1.0.5\n"
          ]
        }
      ],
      "source": [
        "pip install catboost"
      ]
    },
    {
      "cell_type": "code",
      "execution_count": 32,
      "metadata": {
        "id": "F9ZMEpQcjepI"
      },
      "outputs": [],
      "source": [
        "from catboost import CatBoostRegressor"
      ]
    },
    {
      "cell_type": "code",
      "source": [
        "grid_opt = {\n",
        "    'iterations': list(range(1, 2000)),\n",
        "    'depth': list(range(1,12)),\n",
        "    'learning_rate': list(np.arange(0, 1, 0.1)),\n",
        "    'random_strength': list(np.arange(1e-9, 10,0.1)), \n",
        "    'bagging_temperature': list(np.arange(0.0, 1.0,0.1)), \n",
        "    'l2_leaf_reg': list(range(2, 100)), \n",
        "   }"
      ],
      "metadata": {
        "id": "_8cWmh7AGg8O"
      },
      "execution_count": 38,
      "outputs": []
    },
    {
      "cell_type": "code",
      "source": [
        "reg = CatBoostRegressor(verbose = False)"
      ],
      "metadata": {
        "id": "lHMD8N_QH6NF"
      },
      "execution_count": 39,
      "outputs": []
    },
    {
      "cell_type": "code",
      "source": [
        "opt = BayesSearchCV(estimator=reg,                                    \n",
        "                    search_spaces=grid_opt,                                                    \n",
        "                    cv=5,                                           \n",
        "                    n_iter=60,                                        # max number of trials\n",
        "                    n_points=3,                                       # number of hyperparameter sets evaluated at the same time\n",
        "                    n_jobs=-1,                                        # number of jobs                                      # if not iid it optimizes on the cv score\n",
        "                    return_train_score=False,                         \n",
        "                    refit=False,                                             # optmizer parameters: we use Gaussian Process (GP)\n",
        "                    random_state=42)                                   # random state for replicability"
      ],
      "metadata": {
        "id": "AGhhJ-ywQqKq"
      },
      "execution_count": 72,
      "outputs": []
    },
    {
      "cell_type": "code",
      "execution_count": 85,
      "metadata": {
        "id": "bMj5kgA7jhKJ"
      },
      "outputs": [],
      "source": [
        " model = CatBoostRegressor(iterations=400, max_depth=10)"
      ]
    },
    {
      "cell_type": "code",
      "execution_count": 86,
      "metadata": {
        "colab": {
          "base_uri": "https://localhost:8080/"
        },
        "id": "bej18HFjH5ox",
        "outputId": "fe4409bf-1ae8-40b2-f236-3e5186756e39"
      },
      "outputs": [
        {
          "output_type": "stream",
          "name": "stdout",
          "text": [
            "Learning rate set to 0.305303\n",
            "0:\tlearn: 0.7125961\ttotal: 1.23s\tremaining: 8m 10s\n",
            "1:\tlearn: 0.5109500\ttotal: 2.49s\tremaining: 8m 16s\n",
            "2:\tlearn: 0.3710354\ttotal: 3.87s\tremaining: 8m 32s\n",
            "3:\tlearn: 0.2737240\ttotal: 5.25s\tremaining: 8m 40s\n",
            "4:\tlearn: 0.2079290\ttotal: 7.05s\tremaining: 9m 17s\n",
            "5:\tlearn: 0.1647586\ttotal: 9.33s\tremaining: 10m 12s\n",
            "6:\tlearn: 0.1362284\ttotal: 11.3s\tremaining: 10m 35s\n",
            "7:\tlearn: 0.1168555\ttotal: 13.1s\tremaining: 10m 44s\n",
            "8:\tlearn: 0.1043195\ttotal: 14.7s\tremaining: 10m 37s\n",
            "9:\tlearn: 0.0961763\ttotal: 16s\tremaining: 10m 24s\n",
            "10:\tlearn: 0.0909237\ttotal: 17.6s\tremaining: 10m 22s\n",
            "11:\tlearn: 0.0872094\ttotal: 18.5s\tremaining: 9m 58s\n",
            "12:\tlearn: 0.0836795\ttotal: 19.4s\tremaining: 9m 37s\n",
            "13:\tlearn: 0.0811887\ttotal: 20.3s\tremaining: 9m 19s\n",
            "14:\tlearn: 0.0791191\ttotal: 21.2s\tremaining: 9m 3s\n",
            "15:\tlearn: 0.0769201\ttotal: 22.1s\tremaining: 8m 50s\n",
            "16:\tlearn: 0.0753556\ttotal: 23s\tremaining: 8m 38s\n",
            "17:\tlearn: 0.0742004\ttotal: 23.9s\tremaining: 8m 27s\n",
            "18:\tlearn: 0.0725725\ttotal: 24.8s\tremaining: 8m 17s\n",
            "19:\tlearn: 0.0716950\ttotal: 25.7s\tremaining: 8m 8s\n",
            "20:\tlearn: 0.0703851\ttotal: 26.6s\tremaining: 8m\n",
            "21:\tlearn: 0.0697069\ttotal: 27.5s\tremaining: 7m 52s\n",
            "22:\tlearn: 0.0689468\ttotal: 28.4s\tremaining: 7m 45s\n",
            "23:\tlearn: 0.0681746\ttotal: 29.3s\tremaining: 7m 38s\n",
            "24:\tlearn: 0.0672400\ttotal: 30.2s\tremaining: 7m 32s\n",
            "25:\tlearn: 0.0659887\ttotal: 31s\tremaining: 7m 26s\n",
            "26:\tlearn: 0.0651488\ttotal: 31.9s\tremaining: 7m 20s\n",
            "27:\tlearn: 0.0643921\ttotal: 32.8s\tremaining: 7m 15s\n",
            "28:\tlearn: 0.0637947\ttotal: 33.7s\tremaining: 7m 11s\n",
            "29:\tlearn: 0.0633324\ttotal: 34.6s\tremaining: 7m 6s\n",
            "30:\tlearn: 0.0624260\ttotal: 35.5s\tremaining: 7m 2s\n",
            "31:\tlearn: 0.0616852\ttotal: 36.4s\tremaining: 6m 58s\n",
            "32:\tlearn: 0.0611786\ttotal: 37.3s\tremaining: 6m 54s\n",
            "33:\tlearn: 0.0603806\ttotal: 38.2s\tremaining: 6m 50s\n",
            "34:\tlearn: 0.0597303\ttotal: 39s\tremaining: 6m 46s\n",
            "35:\tlearn: 0.0590768\ttotal: 39.9s\tremaining: 6m 43s\n",
            "36:\tlearn: 0.0585188\ttotal: 40.8s\tremaining: 6m 40s\n",
            "37:\tlearn: 0.0578510\ttotal: 41.7s\tremaining: 6m 36s\n",
            "38:\tlearn: 0.0572658\ttotal: 42.6s\tremaining: 6m 33s\n",
            "39:\tlearn: 0.0567598\ttotal: 43.4s\tremaining: 6m 30s\n",
            "40:\tlearn: 0.0560859\ttotal: 44.3s\tremaining: 6m 28s\n",
            "41:\tlearn: 0.0556627\ttotal: 45.2s\tremaining: 6m 25s\n",
            "42:\tlearn: 0.0552399\ttotal: 46.1s\tremaining: 6m 22s\n",
            "43:\tlearn: 0.0548905\ttotal: 47s\tremaining: 6m 20s\n",
            "44:\tlearn: 0.0544052\ttotal: 47.9s\tremaining: 6m 17s\n",
            "45:\tlearn: 0.0538768\ttotal: 48.8s\tremaining: 6m 15s\n",
            "46:\tlearn: 0.0533967\ttotal: 49.7s\tremaining: 6m 12s\n",
            "47:\tlearn: 0.0529720\ttotal: 50.5s\tremaining: 6m 10s\n",
            "48:\tlearn: 0.0524492\ttotal: 51.4s\tremaining: 6m 8s\n",
            "49:\tlearn: 0.0520837\ttotal: 52.3s\tremaining: 6m 6s\n",
            "50:\tlearn: 0.0516296\ttotal: 53.2s\tremaining: 6m 4s\n",
            "51:\tlearn: 0.0511067\ttotal: 54.2s\tremaining: 6m 2s\n",
            "52:\tlearn: 0.0506833\ttotal: 55.1s\tremaining: 6m\n",
            "53:\tlearn: 0.0502673\ttotal: 56.1s\tremaining: 5m 59s\n",
            "54:\tlearn: 0.0497838\ttotal: 57s\tremaining: 5m 57s\n",
            "55:\tlearn: 0.0494472\ttotal: 57.9s\tremaining: 5m 55s\n",
            "56:\tlearn: 0.0491246\ttotal: 58.8s\tremaining: 5m 53s\n",
            "57:\tlearn: 0.0487332\ttotal: 59.7s\tremaining: 5m 51s\n",
            "58:\tlearn: 0.0483254\ttotal: 1m\tremaining: 5m 50s\n",
            "59:\tlearn: 0.0479197\ttotal: 1m 1s\tremaining: 5m 48s\n",
            "60:\tlearn: 0.0475771\ttotal: 1m 2s\tremaining: 5m 46s\n",
            "61:\tlearn: 0.0471642\ttotal: 1m 3s\tremaining: 5m 44s\n",
            "62:\tlearn: 0.0468435\ttotal: 1m 4s\tremaining: 5m 43s\n",
            "63:\tlearn: 0.0465428\ttotal: 1m 5s\tremaining: 5m 41s\n",
            "64:\tlearn: 0.0463157\ttotal: 1m 5s\tremaining: 5m 39s\n",
            "65:\tlearn: 0.0459943\ttotal: 1m 6s\tremaining: 5m 38s\n",
            "66:\tlearn: 0.0456528\ttotal: 1m 7s\tremaining: 5m 36s\n",
            "67:\tlearn: 0.0453454\ttotal: 1m 8s\tremaining: 5m 34s\n",
            "68:\tlearn: 0.0450275\ttotal: 1m 9s\tremaining: 5m 33s\n",
            "69:\tlearn: 0.0446910\ttotal: 1m 10s\tremaining: 5m 31s\n",
            "70:\tlearn: 0.0443986\ttotal: 1m 11s\tremaining: 5m 30s\n",
            "71:\tlearn: 0.0440931\ttotal: 1m 12s\tremaining: 5m 28s\n",
            "72:\tlearn: 0.0437671\ttotal: 1m 13s\tremaining: 5m 27s\n",
            "73:\tlearn: 0.0435571\ttotal: 1m 13s\tremaining: 5m 25s\n",
            "74:\tlearn: 0.0432226\ttotal: 1m 14s\tremaining: 5m 24s\n",
            "75:\tlearn: 0.0429928\ttotal: 1m 15s\tremaining: 5m 22s\n",
            "76:\tlearn: 0.0427678\ttotal: 1m 16s\tremaining: 5m 21s\n",
            "77:\tlearn: 0.0424893\ttotal: 1m 17s\tremaining: 5m 20s\n",
            "78:\tlearn: 0.0422302\ttotal: 1m 18s\tremaining: 5m 18s\n",
            "79:\tlearn: 0.0419694\ttotal: 1m 19s\tremaining: 5m 17s\n",
            "80:\tlearn: 0.0417156\ttotal: 1m 20s\tremaining: 5m 15s\n",
            "81:\tlearn: 0.0414746\ttotal: 1m 21s\tremaining: 5m 14s\n",
            "82:\tlearn: 0.0412619\ttotal: 1m 21s\tremaining: 5m 12s\n",
            "83:\tlearn: 0.0409673\ttotal: 1m 22s\tremaining: 5m 11s\n",
            "84:\tlearn: 0.0407614\ttotal: 1m 23s\tremaining: 5m 10s\n",
            "85:\tlearn: 0.0405343\ttotal: 1m 24s\tremaining: 5m 8s\n",
            "86:\tlearn: 0.0403487\ttotal: 1m 25s\tremaining: 5m 7s\n",
            "87:\tlearn: 0.0401599\ttotal: 1m 26s\tremaining: 5m 6s\n",
            "88:\tlearn: 0.0399286\ttotal: 1m 27s\tremaining: 5m 4s\n",
            "89:\tlearn: 0.0396839\ttotal: 1m 28s\tremaining: 5m 3s\n",
            "90:\tlearn: 0.0394504\ttotal: 1m 28s\tremaining: 5m 2s\n",
            "91:\tlearn: 0.0393094\ttotal: 1m 29s\tremaining: 5m\n",
            "92:\tlearn: 0.0391382\ttotal: 1m 30s\tremaining: 4m 59s\n",
            "93:\tlearn: 0.0388866\ttotal: 1m 31s\tremaining: 4m 58s\n",
            "94:\tlearn: 0.0386770\ttotal: 1m 32s\tremaining: 4m 56s\n",
            "95:\tlearn: 0.0384860\ttotal: 1m 33s\tremaining: 4m 55s\n",
            "96:\tlearn: 0.0383001\ttotal: 1m 34s\tremaining: 4m 54s\n",
            "97:\tlearn: 0.0381014\ttotal: 1m 35s\tremaining: 4m 53s\n",
            "98:\tlearn: 0.0379085\ttotal: 1m 35s\tremaining: 4m 51s\n",
            "99:\tlearn: 0.0377023\ttotal: 1m 36s\tremaining: 4m 50s\n",
            "100:\tlearn: 0.0375302\ttotal: 1m 37s\tremaining: 4m 49s\n",
            "101:\tlearn: 0.0373593\ttotal: 1m 38s\tremaining: 4m 48s\n",
            "102:\tlearn: 0.0371979\ttotal: 1m 39s\tremaining: 4m 47s\n",
            "103:\tlearn: 0.0369893\ttotal: 1m 40s\tremaining: 4m 45s\n",
            "104:\tlearn: 0.0367899\ttotal: 1m 41s\tremaining: 4m 44s\n",
            "105:\tlearn: 0.0366008\ttotal: 1m 42s\tremaining: 4m 45s\n",
            "106:\tlearn: 0.0364070\ttotal: 1m 43s\tremaining: 4m 44s\n",
            "107:\tlearn: 0.0362731\ttotal: 1m 44s\tremaining: 4m 42s\n",
            "108:\tlearn: 0.0361294\ttotal: 1m 45s\tremaining: 4m 41s\n",
            "109:\tlearn: 0.0359431\ttotal: 1m 46s\tremaining: 4m 40s\n",
            "110:\tlearn: 0.0357746\ttotal: 1m 47s\tremaining: 4m 39s\n",
            "111:\tlearn: 0.0356053\ttotal: 1m 48s\tremaining: 4m 38s\n",
            "112:\tlearn: 0.0353649\ttotal: 1m 49s\tremaining: 4m 36s\n",
            "113:\tlearn: 0.0351333\ttotal: 1m 49s\tremaining: 4m 35s\n",
            "114:\tlearn: 0.0349792\ttotal: 1m 50s\tremaining: 4m 34s\n",
            "115:\tlearn: 0.0348152\ttotal: 1m 51s\tremaining: 4m 33s\n",
            "116:\tlearn: 0.0346397\ttotal: 1m 52s\tremaining: 4m 32s\n",
            "117:\tlearn: 0.0345049\ttotal: 1m 53s\tremaining: 4m 31s\n",
            "118:\tlearn: 0.0343233\ttotal: 1m 54s\tremaining: 4m 30s\n",
            "119:\tlearn: 0.0341967\ttotal: 1m 55s\tremaining: 4m 29s\n",
            "120:\tlearn: 0.0340571\ttotal: 1m 56s\tremaining: 4m 28s\n",
            "121:\tlearn: 0.0339056\ttotal: 1m 57s\tremaining: 4m 27s\n",
            "122:\tlearn: 0.0337630\ttotal: 1m 58s\tremaining: 4m 25s\n",
            "123:\tlearn: 0.0336499\ttotal: 1m 58s\tremaining: 4m 24s\n",
            "124:\tlearn: 0.0334916\ttotal: 1m 59s\tremaining: 4m 23s\n",
            "125:\tlearn: 0.0333192\ttotal: 2m\tremaining: 4m 22s\n",
            "126:\tlearn: 0.0332004\ttotal: 2m 1s\tremaining: 4m 21s\n",
            "127:\tlearn: 0.0330283\ttotal: 2m 2s\tremaining: 4m 20s\n",
            "128:\tlearn: 0.0328884\ttotal: 2m 3s\tremaining: 4m 19s\n",
            "129:\tlearn: 0.0327403\ttotal: 2m 4s\tremaining: 4m 18s\n",
            "130:\tlearn: 0.0326329\ttotal: 2m 5s\tremaining: 4m 17s\n",
            "131:\tlearn: 0.0325015\ttotal: 2m 6s\tremaining: 4m 16s\n",
            "132:\tlearn: 0.0323695\ttotal: 2m 7s\tremaining: 4m 14s\n",
            "133:\tlearn: 0.0322705\ttotal: 2m 7s\tremaining: 4m 13s\n",
            "134:\tlearn: 0.0321225\ttotal: 2m 8s\tremaining: 4m 12s\n",
            "135:\tlearn: 0.0319756\ttotal: 2m 9s\tremaining: 4m 11s\n",
            "136:\tlearn: 0.0318485\ttotal: 2m 10s\tremaining: 4m 10s\n",
            "137:\tlearn: 0.0317297\ttotal: 2m 11s\tremaining: 4m 9s\n",
            "138:\tlearn: 0.0316145\ttotal: 2m 12s\tremaining: 4m 8s\n",
            "139:\tlearn: 0.0315170\ttotal: 2m 13s\tremaining: 4m 7s\n",
            "140:\tlearn: 0.0314151\ttotal: 2m 14s\tremaining: 4m 6s\n",
            "141:\tlearn: 0.0312716\ttotal: 2m 15s\tremaining: 4m 5s\n",
            "142:\tlearn: 0.0311631\ttotal: 2m 16s\tremaining: 4m 4s\n",
            "143:\tlearn: 0.0310263\ttotal: 2m 17s\tremaining: 4m 3s\n",
            "144:\tlearn: 0.0308989\ttotal: 2m 18s\tremaining: 4m 2s\n",
            "145:\tlearn: 0.0307782\ttotal: 2m 19s\tremaining: 4m 1s\n",
            "146:\tlearn: 0.0307022\ttotal: 2m 20s\tremaining: 4m\n",
            "147:\tlearn: 0.0305172\ttotal: 2m 20s\tremaining: 3m 59s\n",
            "148:\tlearn: 0.0303852\ttotal: 2m 21s\tremaining: 3m 58s\n",
            "149:\tlearn: 0.0302792\ttotal: 2m 22s\tremaining: 3m 57s\n",
            "150:\tlearn: 0.0301708\ttotal: 2m 23s\tremaining: 3m 56s\n",
            "151:\tlearn: 0.0300451\ttotal: 2m 24s\tremaining: 3m 55s\n",
            "152:\tlearn: 0.0299328\ttotal: 2m 25s\tremaining: 3m 54s\n",
            "153:\tlearn: 0.0298398\ttotal: 2m 26s\tremaining: 3m 53s\n",
            "154:\tlearn: 0.0297081\ttotal: 2m 27s\tremaining: 3m 52s\n",
            "155:\tlearn: 0.0296046\ttotal: 2m 28s\tremaining: 3m 51s\n",
            "156:\tlearn: 0.0294927\ttotal: 2m 29s\tremaining: 3m 50s\n",
            "157:\tlearn: 0.0293937\ttotal: 2m 29s\tremaining: 3m 49s\n",
            "158:\tlearn: 0.0292954\ttotal: 2m 30s\tremaining: 3m 48s\n",
            "159:\tlearn: 0.0292063\ttotal: 2m 31s\tremaining: 3m 47s\n",
            "160:\tlearn: 0.0290898\ttotal: 2m 32s\tremaining: 3m 46s\n",
            "161:\tlearn: 0.0289626\ttotal: 2m 33s\tremaining: 3m 45s\n",
            "162:\tlearn: 0.0288541\ttotal: 2m 34s\tremaining: 3m 44s\n",
            "163:\tlearn: 0.0287413\ttotal: 2m 35s\tremaining: 3m 43s\n",
            "164:\tlearn: 0.0286359\ttotal: 2m 36s\tremaining: 3m 42s\n",
            "165:\tlearn: 0.0285318\ttotal: 2m 37s\tremaining: 3m 41s\n",
            "166:\tlearn: 0.0284331\ttotal: 2m 37s\tremaining: 3m 40s\n",
            "167:\tlearn: 0.0283271\ttotal: 2m 38s\tremaining: 3m 39s\n",
            "168:\tlearn: 0.0282362\ttotal: 2m 39s\tremaining: 3m 38s\n",
            "169:\tlearn: 0.0281592\ttotal: 2m 40s\tremaining: 3m 37s\n",
            "170:\tlearn: 0.0280734\ttotal: 2m 41s\tremaining: 3m 36s\n",
            "171:\tlearn: 0.0279816\ttotal: 2m 42s\tremaining: 3m 35s\n",
            "172:\tlearn: 0.0278972\ttotal: 2m 43s\tremaining: 3m 34s\n",
            "173:\tlearn: 0.0278066\ttotal: 2m 44s\tremaining: 3m 33s\n",
            "174:\tlearn: 0.0277098\ttotal: 2m 45s\tremaining: 3m 32s\n",
            "175:\tlearn: 0.0276139\ttotal: 2m 45s\tremaining: 3m 31s\n",
            "176:\tlearn: 0.0275349\ttotal: 2m 46s\tremaining: 3m 30s\n",
            "177:\tlearn: 0.0274466\ttotal: 2m 47s\tremaining: 3m 29s\n",
            "178:\tlearn: 0.0273787\ttotal: 2m 48s\tremaining: 3m 28s\n",
            "179:\tlearn: 0.0272784\ttotal: 2m 49s\tremaining: 3m 27s\n",
            "180:\tlearn: 0.0271836\ttotal: 2m 50s\tremaining: 3m 26s\n",
            "181:\tlearn: 0.0271038\ttotal: 2m 51s\tremaining: 3m 25s\n",
            "182:\tlearn: 0.0270259\ttotal: 2m 52s\tremaining: 3m 24s\n",
            "183:\tlearn: 0.0269503\ttotal: 2m 53s\tremaining: 3m 23s\n",
            "184:\tlearn: 0.0268978\ttotal: 2m 53s\tremaining: 3m 22s\n",
            "185:\tlearn: 0.0268180\ttotal: 2m 54s\tremaining: 3m 21s\n",
            "186:\tlearn: 0.0267227\ttotal: 2m 55s\tremaining: 3m 20s\n",
            "187:\tlearn: 0.0266311\ttotal: 2m 56s\tremaining: 3m 19s\n",
            "188:\tlearn: 0.0265551\ttotal: 2m 57s\tremaining: 3m 18s\n",
            "189:\tlearn: 0.0264700\ttotal: 2m 58s\tremaining: 3m 17s\n",
            "190:\tlearn: 0.0263999\ttotal: 2m 59s\tremaining: 3m 16s\n",
            "191:\tlearn: 0.0263301\ttotal: 3m\tremaining: 3m 15s\n",
            "192:\tlearn: 0.0262416\ttotal: 3m 1s\tremaining: 3m 14s\n",
            "193:\tlearn: 0.0261635\ttotal: 3m 2s\tremaining: 3m 13s\n",
            "194:\tlearn: 0.0260827\ttotal: 3m 3s\tremaining: 3m 12s\n",
            "195:\tlearn: 0.0260199\ttotal: 3m 4s\tremaining: 3m 11s\n",
            "196:\tlearn: 0.0259409\ttotal: 3m 4s\tremaining: 3m 10s\n",
            "197:\tlearn: 0.0258746\ttotal: 3m 5s\tremaining: 3m 9s\n",
            "198:\tlearn: 0.0257851\ttotal: 3m 6s\tremaining: 3m 8s\n",
            "199:\tlearn: 0.0257012\ttotal: 3m 7s\tremaining: 3m 7s\n",
            "200:\tlearn: 0.0256297\ttotal: 3m 8s\tremaining: 3m 6s\n",
            "201:\tlearn: 0.0255486\ttotal: 3m 9s\tremaining: 3m 5s\n",
            "202:\tlearn: 0.0254715\ttotal: 3m 10s\tremaining: 3m 4s\n",
            "203:\tlearn: 0.0254017\ttotal: 3m 11s\tremaining: 3m 3s\n",
            "204:\tlearn: 0.0253447\ttotal: 3m 12s\tremaining: 3m 2s\n",
            "205:\tlearn: 0.0252766\ttotal: 3m 13s\tremaining: 3m 1s\n",
            "206:\tlearn: 0.0251995\ttotal: 3m 13s\tremaining: 3m\n",
            "207:\tlearn: 0.0251361\ttotal: 3m 14s\tremaining: 2m 59s\n",
            "208:\tlearn: 0.0250625\ttotal: 3m 15s\tremaining: 2m 58s\n",
            "209:\tlearn: 0.0249890\ttotal: 3m 16s\tremaining: 2m 57s\n",
            "210:\tlearn: 0.0249117\ttotal: 3m 17s\tremaining: 2m 56s\n",
            "211:\tlearn: 0.0248408\ttotal: 3m 18s\tremaining: 2m 55s\n",
            "212:\tlearn: 0.0247790\ttotal: 3m 19s\tremaining: 2m 54s\n",
            "213:\tlearn: 0.0247219\ttotal: 3m 20s\tremaining: 2m 53s\n",
            "214:\tlearn: 0.0246500\ttotal: 3m 21s\tremaining: 2m 53s\n",
            "215:\tlearn: 0.0245804\ttotal: 3m 21s\tremaining: 2m 52s\n",
            "216:\tlearn: 0.0245164\ttotal: 3m 22s\tremaining: 2m 51s\n",
            "217:\tlearn: 0.0244614\ttotal: 3m 23s\tremaining: 2m 50s\n",
            "218:\tlearn: 0.0243924\ttotal: 3m 24s\tremaining: 2m 49s\n",
            "219:\tlearn: 0.0243251\ttotal: 3m 25s\tremaining: 2m 48s\n",
            "220:\tlearn: 0.0242618\ttotal: 3m 26s\tremaining: 2m 47s\n",
            "221:\tlearn: 0.0242020\ttotal: 3m 27s\tremaining: 2m 46s\n",
            "222:\tlearn: 0.0241337\ttotal: 3m 28s\tremaining: 2m 45s\n",
            "223:\tlearn: 0.0240771\ttotal: 3m 29s\tremaining: 2m 44s\n",
            "224:\tlearn: 0.0240098\ttotal: 3m 30s\tremaining: 2m 43s\n",
            "225:\tlearn: 0.0239444\ttotal: 3m 31s\tremaining: 2m 42s\n",
            "226:\tlearn: 0.0238902\ttotal: 3m 33s\tremaining: 2m 42s\n",
            "227:\tlearn: 0.0238431\ttotal: 3m 35s\tremaining: 2m 42s\n",
            "228:\tlearn: 0.0237867\ttotal: 3m 38s\tremaining: 2m 42s\n",
            "229:\tlearn: 0.0237182\ttotal: 3m 39s\tremaining: 2m 42s\n",
            "230:\tlearn: 0.0236578\ttotal: 3m 41s\tremaining: 2m 41s\n",
            "231:\tlearn: 0.0235928\ttotal: 3m 42s\tremaining: 2m 41s\n",
            "232:\tlearn: 0.0235561\ttotal: 3m 44s\tremaining: 2m 40s\n",
            "233:\tlearn: 0.0235021\ttotal: 3m 46s\tremaining: 2m 40s\n",
            "234:\tlearn: 0.0234353\ttotal: 3m 47s\tremaining: 2m 39s\n",
            "235:\tlearn: 0.0233691\ttotal: 3m 49s\tremaining: 2m 39s\n",
            "236:\tlearn: 0.0233113\ttotal: 3m 51s\tremaining: 2m 39s\n",
            "237:\tlearn: 0.0232695\ttotal: 3m 52s\tremaining: 2m 38s\n",
            "238:\tlearn: 0.0232147\ttotal: 3m 54s\tremaining: 2m 37s\n",
            "239:\tlearn: 0.0231607\ttotal: 3m 55s\tremaining: 2m 37s\n",
            "240:\tlearn: 0.0231100\ttotal: 3m 56s\tremaining: 2m 35s\n",
            "241:\tlearn: 0.0230544\ttotal: 3m 57s\tremaining: 2m 34s\n",
            "242:\tlearn: 0.0230050\ttotal: 3m 58s\tremaining: 2m 33s\n",
            "243:\tlearn: 0.0229571\ttotal: 3m 59s\tremaining: 2m 32s\n",
            "244:\tlearn: 0.0229079\ttotal: 4m\tremaining: 2m 31s\n",
            "245:\tlearn: 0.0228613\ttotal: 4m\tremaining: 2m 30s\n",
            "246:\tlearn: 0.0228209\ttotal: 4m 1s\tremaining: 2m 29s\n",
            "247:\tlearn: 0.0227646\ttotal: 4m 2s\tremaining: 2m 28s\n",
            "248:\tlearn: 0.0227137\ttotal: 4m 3s\tremaining: 2m 27s\n",
            "249:\tlearn: 0.0226673\ttotal: 4m 4s\tremaining: 2m 26s\n",
            "250:\tlearn: 0.0226280\ttotal: 4m 5s\tremaining: 2m 25s\n",
            "251:\tlearn: 0.0225848\ttotal: 4m 6s\tremaining: 2m 24s\n",
            "252:\tlearn: 0.0225380\ttotal: 4m 7s\tremaining: 2m 23s\n",
            "253:\tlearn: 0.0224847\ttotal: 4m 8s\tremaining: 2m 22s\n",
            "254:\tlearn: 0.0224249\ttotal: 4m 8s\tremaining: 2m 21s\n",
            "255:\tlearn: 0.0223791\ttotal: 4m 9s\tremaining: 2m 20s\n",
            "256:\tlearn: 0.0223291\ttotal: 4m 10s\tremaining: 2m 19s\n",
            "257:\tlearn: 0.0222675\ttotal: 4m 11s\tremaining: 2m 18s\n",
            "258:\tlearn: 0.0222168\ttotal: 4m 12s\tremaining: 2m 17s\n",
            "259:\tlearn: 0.0221728\ttotal: 4m 13s\tremaining: 2m 16s\n",
            "260:\tlearn: 0.0221012\ttotal: 4m 14s\tremaining: 2m 15s\n",
            "261:\tlearn: 0.0220597\ttotal: 4m 15s\tremaining: 2m 14s\n",
            "262:\tlearn: 0.0220221\ttotal: 4m 15s\tremaining: 2m 13s\n",
            "263:\tlearn: 0.0219719\ttotal: 4m 16s\tremaining: 2m 12s\n",
            "264:\tlearn: 0.0219143\ttotal: 4m 17s\tremaining: 2m 11s\n",
            "265:\tlearn: 0.0218664\ttotal: 4m 18s\tremaining: 2m 10s\n",
            "266:\tlearn: 0.0218251\ttotal: 4m 19s\tremaining: 2m 9s\n",
            "267:\tlearn: 0.0217739\ttotal: 4m 20s\tremaining: 2m 8s\n",
            "268:\tlearn: 0.0217381\ttotal: 4m 21s\tremaining: 2m 7s\n",
            "269:\tlearn: 0.0216948\ttotal: 4m 22s\tremaining: 2m 6s\n",
            "270:\tlearn: 0.0216477\ttotal: 4m 22s\tremaining: 2m 5s\n",
            "271:\tlearn: 0.0215961\ttotal: 4m 23s\tremaining: 2m 4s\n",
            "272:\tlearn: 0.0215448\ttotal: 4m 24s\tremaining: 2m 3s\n",
            "273:\tlearn: 0.0214953\ttotal: 4m 25s\tremaining: 2m 2s\n",
            "274:\tlearn: 0.0214525\ttotal: 4m 26s\tremaining: 2m 1s\n",
            "275:\tlearn: 0.0214108\ttotal: 4m 27s\tremaining: 2m\n",
            "276:\tlearn: 0.0213744\ttotal: 4m 28s\tremaining: 1m 59s\n",
            "277:\tlearn: 0.0213226\ttotal: 4m 29s\tremaining: 1m 58s\n",
            "278:\tlearn: 0.0212733\ttotal: 4m 29s\tremaining: 1m 57s\n",
            "279:\tlearn: 0.0212361\ttotal: 4m 30s\tremaining: 1m 56s\n",
            "280:\tlearn: 0.0211904\ttotal: 4m 31s\tremaining: 1m 55s\n",
            "281:\tlearn: 0.0211531\ttotal: 4m 32s\tremaining: 1m 54s\n",
            "282:\tlearn: 0.0211134\ttotal: 4m 33s\tremaining: 1m 53s\n",
            "283:\tlearn: 0.0210703\ttotal: 4m 34s\tremaining: 1m 52s\n",
            "284:\tlearn: 0.0210320\ttotal: 4m 35s\tremaining: 1m 51s\n",
            "285:\tlearn: 0.0209938\ttotal: 4m 36s\tremaining: 1m 50s\n",
            "286:\tlearn: 0.0209569\ttotal: 4m 36s\tremaining: 1m 49s\n",
            "287:\tlearn: 0.0209143\ttotal: 4m 37s\tremaining: 1m 48s\n",
            "288:\tlearn: 0.0208803\ttotal: 4m 38s\tremaining: 1m 47s\n",
            "289:\tlearn: 0.0208398\ttotal: 4m 39s\tremaining: 1m 46s\n",
            "290:\tlearn: 0.0208001\ttotal: 4m 40s\tremaining: 1m 45s\n",
            "291:\tlearn: 0.0207618\ttotal: 4m 41s\tremaining: 1m 44s\n",
            "292:\tlearn: 0.0207201\ttotal: 4m 42s\tremaining: 1m 43s\n",
            "293:\tlearn: 0.0206816\ttotal: 4m 43s\tremaining: 1m 42s\n",
            "294:\tlearn: 0.0206477\ttotal: 4m 43s\tremaining: 1m 41s\n",
            "295:\tlearn: 0.0206190\ttotal: 4m 44s\tremaining: 1m 40s\n",
            "296:\tlearn: 0.0205887\ttotal: 4m 45s\tremaining: 1m 39s\n",
            "297:\tlearn: 0.0205506\ttotal: 4m 46s\tremaining: 1m 38s\n",
            "298:\tlearn: 0.0205088\ttotal: 4m 47s\tremaining: 1m 37s\n",
            "299:\tlearn: 0.0204642\ttotal: 4m 48s\tremaining: 1m 36s\n",
            "300:\tlearn: 0.0204288\ttotal: 4m 49s\tremaining: 1m 35s\n",
            "301:\tlearn: 0.0204006\ttotal: 4m 50s\tremaining: 1m 34s\n",
            "302:\tlearn: 0.0203691\ttotal: 4m 51s\tremaining: 1m 33s\n",
            "303:\tlearn: 0.0203319\ttotal: 4m 51s\tremaining: 1m 32s\n",
            "304:\tlearn: 0.0202986\ttotal: 4m 52s\tremaining: 1m 31s\n",
            "305:\tlearn: 0.0202629\ttotal: 4m 53s\tremaining: 1m 30s\n",
            "306:\tlearn: 0.0202315\ttotal: 4m 54s\tremaining: 1m 29s\n",
            "307:\tlearn: 0.0201968\ttotal: 4m 55s\tremaining: 1m 28s\n",
            "308:\tlearn: 0.0201572\ttotal: 4m 56s\tremaining: 1m 27s\n",
            "309:\tlearn: 0.0201247\ttotal: 4m 57s\tremaining: 1m 26s\n",
            "310:\tlearn: 0.0200914\ttotal: 4m 58s\tremaining: 1m 25s\n",
            "311:\tlearn: 0.0200590\ttotal: 4m 59s\tremaining: 1m 24s\n",
            "312:\tlearn: 0.0200361\ttotal: 5m\tremaining: 1m 23s\n",
            "313:\tlearn: 0.0200042\ttotal: 5m 1s\tremaining: 1m 22s\n",
            "314:\tlearn: 0.0199589\ttotal: 5m 1s\tremaining: 1m 21s\n",
            "315:\tlearn: 0.0199187\ttotal: 5m 2s\tremaining: 1m 20s\n",
            "316:\tlearn: 0.0198779\ttotal: 5m 3s\tremaining: 1m 19s\n",
            "317:\tlearn: 0.0198359\ttotal: 5m 4s\tremaining: 1m 18s\n",
            "318:\tlearn: 0.0197997\ttotal: 5m 5s\tremaining: 1m 17s\n",
            "319:\tlearn: 0.0197659\ttotal: 5m 6s\tremaining: 1m 16s\n",
            "320:\tlearn: 0.0197433\ttotal: 5m 7s\tremaining: 1m 15s\n",
            "321:\tlearn: 0.0197172\ttotal: 5m 8s\tremaining: 1m 14s\n",
            "322:\tlearn: 0.0196827\ttotal: 5m 8s\tremaining: 1m 13s\n",
            "323:\tlearn: 0.0196532\ttotal: 5m 9s\tremaining: 1m 12s\n",
            "324:\tlearn: 0.0196154\ttotal: 5m 10s\tremaining: 1m 11s\n",
            "325:\tlearn: 0.0195845\ttotal: 5m 11s\tremaining: 1m 10s\n",
            "326:\tlearn: 0.0195553\ttotal: 5m 12s\tremaining: 1m 9s\n",
            "327:\tlearn: 0.0195262\ttotal: 5m 13s\tremaining: 1m 8s\n",
            "328:\tlearn: 0.0194865\ttotal: 5m 14s\tremaining: 1m 7s\n",
            "329:\tlearn: 0.0194423\ttotal: 5m 15s\tremaining: 1m 6s\n",
            "330:\tlearn: 0.0194159\ttotal: 5m 15s\tremaining: 1m 5s\n",
            "331:\tlearn: 0.0193845\ttotal: 5m 16s\tremaining: 1m 4s\n",
            "332:\tlearn: 0.0193558\ttotal: 5m 17s\tremaining: 1m 3s\n",
            "333:\tlearn: 0.0193272\ttotal: 5m 18s\tremaining: 1m 2s\n",
            "334:\tlearn: 0.0192933\ttotal: 5m 19s\tremaining: 1m 1s\n",
            "335:\tlearn: 0.0192594\ttotal: 5m 20s\tremaining: 1m 1s\n",
            "336:\tlearn: 0.0192316\ttotal: 5m 21s\tremaining: 1m\n",
            "337:\tlearn: 0.0191880\ttotal: 5m 22s\tremaining: 59.1s\n",
            "338:\tlearn: 0.0191549\ttotal: 5m 23s\tremaining: 58.1s\n",
            "339:\tlearn: 0.0191250\ttotal: 5m 23s\tremaining: 57.2s\n",
            "340:\tlearn: 0.0190945\ttotal: 5m 24s\tremaining: 56.2s\n",
            "341:\tlearn: 0.0190648\ttotal: 5m 25s\tremaining: 55.2s\n",
            "342:\tlearn: 0.0190327\ttotal: 5m 26s\tremaining: 54.3s\n",
            "343:\tlearn: 0.0190006\ttotal: 5m 27s\tremaining: 53.3s\n",
            "344:\tlearn: 0.0189754\ttotal: 5m 28s\tremaining: 52.3s\n",
            "345:\tlearn: 0.0189460\ttotal: 5m 29s\tremaining: 51.4s\n",
            "346:\tlearn: 0.0189205\ttotal: 5m 30s\tremaining: 50.4s\n",
            "347:\tlearn: 0.0188856\ttotal: 5m 30s\tremaining: 49.5s\n",
            "348:\tlearn: 0.0188483\ttotal: 5m 32s\tremaining: 48.6s\n",
            "349:\tlearn: 0.0188251\ttotal: 5m 34s\tremaining: 47.7s\n",
            "350:\tlearn: 0.0188046\ttotal: 5m 34s\tremaining: 46.8s\n",
            "351:\tlearn: 0.0187775\ttotal: 5m 35s\tremaining: 45.8s\n",
            "352:\tlearn: 0.0187539\ttotal: 5m 36s\tremaining: 44.8s\n",
            "353:\tlearn: 0.0187209\ttotal: 5m 37s\tremaining: 43.9s\n",
            "354:\tlearn: 0.0186951\ttotal: 5m 38s\tremaining: 42.9s\n",
            "355:\tlearn: 0.0186743\ttotal: 5m 39s\tremaining: 41.9s\n",
            "356:\tlearn: 0.0186439\ttotal: 5m 40s\tremaining: 41s\n",
            "357:\tlearn: 0.0186110\ttotal: 5m 41s\tremaining: 40s\n",
            "358:\tlearn: 0.0185831\ttotal: 5m 41s\tremaining: 39s\n",
            "359:\tlearn: 0.0185568\ttotal: 5m 42s\tremaining: 38.1s\n",
            "360:\tlearn: 0.0185290\ttotal: 5m 43s\tremaining: 37.1s\n",
            "361:\tlearn: 0.0184957\ttotal: 5m 44s\tremaining: 36.2s\n",
            "362:\tlearn: 0.0184780\ttotal: 5m 45s\tremaining: 35.2s\n",
            "363:\tlearn: 0.0184486\ttotal: 5m 46s\tremaining: 34.2s\n",
            "364:\tlearn: 0.0184219\ttotal: 5m 47s\tremaining: 33.3s\n",
            "365:\tlearn: 0.0183956\ttotal: 5m 48s\tremaining: 32.3s\n",
            "366:\tlearn: 0.0183701\ttotal: 5m 48s\tremaining: 31.4s\n",
            "367:\tlearn: 0.0183454\ttotal: 5m 49s\tremaining: 30.4s\n",
            "368:\tlearn: 0.0183119\ttotal: 5m 50s\tremaining: 29.5s\n",
            "369:\tlearn: 0.0182832\ttotal: 5m 51s\tremaining: 28.5s\n",
            "370:\tlearn: 0.0182521\ttotal: 5m 52s\tremaining: 27.6s\n",
            "371:\tlearn: 0.0182193\ttotal: 5m 53s\tremaining: 26.6s\n",
            "372:\tlearn: 0.0182012\ttotal: 5m 54s\tremaining: 25.6s\n",
            "373:\tlearn: 0.0181782\ttotal: 5m 55s\tremaining: 24.7s\n",
            "374:\tlearn: 0.0181477\ttotal: 5m 56s\tremaining: 23.7s\n",
            "375:\tlearn: 0.0181257\ttotal: 5m 57s\tremaining: 22.8s\n",
            "376:\tlearn: 0.0181025\ttotal: 5m 57s\tremaining: 21.8s\n",
            "377:\tlearn: 0.0180715\ttotal: 5m 58s\tremaining: 20.9s\n",
            "378:\tlearn: 0.0180461\ttotal: 5m 59s\tremaining: 19.9s\n",
            "379:\tlearn: 0.0180180\ttotal: 6m\tremaining: 19s\n",
            "380:\tlearn: 0.0179969\ttotal: 6m 1s\tremaining: 18s\n",
            "381:\tlearn: 0.0179721\ttotal: 6m 2s\tremaining: 17.1s\n",
            "382:\tlearn: 0.0179453\ttotal: 6m 3s\tremaining: 16.1s\n",
            "383:\tlearn: 0.0179228\ttotal: 6m 4s\tremaining: 15.2s\n",
            "384:\tlearn: 0.0178998\ttotal: 6m 5s\tremaining: 14.2s\n",
            "385:\tlearn: 0.0178743\ttotal: 6m 5s\tremaining: 13.3s\n",
            "386:\tlearn: 0.0178449\ttotal: 6m 6s\tremaining: 12.3s\n",
            "387:\tlearn: 0.0178242\ttotal: 6m 7s\tremaining: 11.4s\n",
            "388:\tlearn: 0.0178072\ttotal: 6m 8s\tremaining: 10.4s\n",
            "389:\tlearn: 0.0177809\ttotal: 6m 9s\tremaining: 9.47s\n",
            "390:\tlearn: 0.0177485\ttotal: 6m 10s\tremaining: 8.52s\n",
            "391:\tlearn: 0.0177198\ttotal: 6m 11s\tremaining: 7.58s\n",
            "392:\tlearn: 0.0176962\ttotal: 6m 12s\tremaining: 6.63s\n",
            "393:\tlearn: 0.0176808\ttotal: 6m 13s\tremaining: 5.68s\n",
            "394:\tlearn: 0.0176634\ttotal: 6m 13s\tremaining: 4.73s\n",
            "395:\tlearn: 0.0176421\ttotal: 6m 14s\tremaining: 3.79s\n",
            "396:\tlearn: 0.0176239\ttotal: 6m 15s\tremaining: 2.84s\n",
            "397:\tlearn: 0.0175946\ttotal: 6m 16s\tremaining: 1.89s\n",
            "398:\tlearn: 0.0175710\ttotal: 6m 17s\tremaining: 946ms\n",
            "399:\tlearn: 0.0175504\ttotal: 6m 18s\tremaining: 0us\n"
          ]
        },
        {
          "output_type": "execute_result",
          "data": {
            "text/plain": [
              "<catboost.core.CatBoostRegressor at 0x7f9a688c5950>"
            ]
          },
          "metadata": {},
          "execution_count": 86
        }
      ],
      "source": [
        "model.fit(X, y_transformed)"
      ]
    },
    {
      "cell_type": "code",
      "source": [
        "catboost_preds = cross_val_predict(model, X, y_transformed, cv=3)"
      ],
      "metadata": {
        "colab": {
          "base_uri": "https://localhost:8080/"
        },
        "id": "xd5q8NOzuB0R",
        "outputId": "97e8bc4a-a68e-4a34-cd78-15784f6ed6ad"
      },
      "execution_count": 87,
      "outputs": [
        {
          "output_type": "stream",
          "name": "stdout",
          "text": [
            "Learning rate set to 0.286357\n",
            "0:\tlearn: 0.7287424\ttotal: 606ms\tremaining: 4m 1s\n",
            "1:\tlearn: 0.5347967\ttotal: 1.19s\tremaining: 3m 56s\n",
            "2:\tlearn: 0.3966323\ttotal: 1.78s\tremaining: 3m 55s\n",
            "3:\tlearn: 0.2989312\ttotal: 2.37s\tremaining: 3m 55s\n",
            "4:\tlearn: 0.2299147\ttotal: 2.98s\tremaining: 3m 55s\n",
            "5:\tlearn: 0.1812730\ttotal: 3.59s\tremaining: 3m 55s\n",
            "6:\tlearn: 0.1484255\ttotal: 4.21s\tremaining: 3m 56s\n",
            "7:\tlearn: 0.1252372\ttotal: 4.79s\tremaining: 3m 54s\n",
            "8:\tlearn: 0.1101541\ttotal: 5.39s\tremaining: 3m 54s\n",
            "9:\tlearn: 0.1002578\ttotal: 5.97s\tremaining: 3m 53s\n",
            "10:\tlearn: 0.0932226\ttotal: 6.56s\tremaining: 3m 51s\n",
            "11:\tlearn: 0.0886911\ttotal: 7.13s\tremaining: 3m 50s\n",
            "12:\tlearn: 0.0851587\ttotal: 7.72s\tremaining: 3m 49s\n",
            "13:\tlearn: 0.0825273\ttotal: 8.3s\tremaining: 3m 48s\n",
            "14:\tlearn: 0.0796716\ttotal: 8.89s\tremaining: 3m 48s\n",
            "15:\tlearn: 0.0777274\ttotal: 9.47s\tremaining: 3m 47s\n",
            "16:\tlearn: 0.0761724\ttotal: 10.1s\tremaining: 3m 46s\n",
            "17:\tlearn: 0.0746917\ttotal: 10.6s\tremaining: 3m 45s\n",
            "18:\tlearn: 0.0731217\ttotal: 11.2s\tremaining: 3m 45s\n",
            "19:\tlearn: 0.0720545\ttotal: 11.8s\tremaining: 3m 44s\n",
            "20:\tlearn: 0.0710288\ttotal: 12.4s\tremaining: 3m 44s\n",
            "21:\tlearn: 0.0699804\ttotal: 13.1s\tremaining: 3m 44s\n",
            "22:\tlearn: 0.0688380\ttotal: 13.7s\tremaining: 3m 43s\n",
            "23:\tlearn: 0.0677773\ttotal: 14.2s\tremaining: 3m 43s\n",
            "24:\tlearn: 0.0671049\ttotal: 14.8s\tremaining: 3m 42s\n",
            "25:\tlearn: 0.0663872\ttotal: 15.4s\tremaining: 3m 41s\n",
            "26:\tlearn: 0.0655982\ttotal: 16s\tremaining: 3m 41s\n",
            "27:\tlearn: 0.0646444\ttotal: 16.6s\tremaining: 3m 40s\n",
            "28:\tlearn: 0.0637009\ttotal: 17.2s\tremaining: 3m 40s\n",
            "29:\tlearn: 0.0630887\ttotal: 17.8s\tremaining: 3m 39s\n",
            "30:\tlearn: 0.0625659\ttotal: 18.4s\tremaining: 3m 39s\n",
            "31:\tlearn: 0.0619979\ttotal: 19s\tremaining: 3m 38s\n",
            "32:\tlearn: 0.0612769\ttotal: 19.7s\tremaining: 3m 38s\n",
            "33:\tlearn: 0.0607779\ttotal: 20.3s\tremaining: 3m 38s\n",
            "34:\tlearn: 0.0601196\ttotal: 20.9s\tremaining: 3m 38s\n",
            "35:\tlearn: 0.0597876\ttotal: 21.5s\tremaining: 3m 37s\n",
            "36:\tlearn: 0.0592666\ttotal: 22.2s\tremaining: 3m 37s\n",
            "37:\tlearn: 0.0585564\ttotal: 22.7s\tremaining: 3m 36s\n",
            "38:\tlearn: 0.0578160\ttotal: 23.4s\tremaining: 3m 36s\n",
            "39:\tlearn: 0.0574791\ttotal: 23.9s\tremaining: 3m 35s\n",
            "40:\tlearn: 0.0568689\ttotal: 24.5s\tremaining: 3m 34s\n",
            "41:\tlearn: 0.0565588\ttotal: 25.1s\tremaining: 3m 34s\n",
            "42:\tlearn: 0.0561022\ttotal: 25.7s\tremaining: 3m 33s\n",
            "43:\tlearn: 0.0557740\ttotal: 26.3s\tremaining: 3m 33s\n",
            "44:\tlearn: 0.0553134\ttotal: 26.9s\tremaining: 3m 32s\n",
            "45:\tlearn: 0.0548352\ttotal: 27.5s\tremaining: 3m 31s\n",
            "46:\tlearn: 0.0543660\ttotal: 28.1s\tremaining: 3m 31s\n",
            "47:\tlearn: 0.0538773\ttotal: 28.7s\tremaining: 3m 30s\n",
            "48:\tlearn: 0.0534274\ttotal: 29.3s\tremaining: 3m 29s\n",
            "49:\tlearn: 0.0530716\ttotal: 29.9s\tremaining: 3m 29s\n",
            "50:\tlearn: 0.0525731\ttotal: 30.5s\tremaining: 3m 28s\n",
            "51:\tlearn: 0.0521607\ttotal: 31.1s\tremaining: 3m 28s\n",
            "52:\tlearn: 0.0517683\ttotal: 31.7s\tremaining: 3m 27s\n",
            "53:\tlearn: 0.0513911\ttotal: 32.3s\tremaining: 3m 26s\n",
            "54:\tlearn: 0.0511665\ttotal: 32.9s\tremaining: 3m 26s\n",
            "55:\tlearn: 0.0508144\ttotal: 33.5s\tremaining: 3m 25s\n",
            "56:\tlearn: 0.0506477\ttotal: 34.1s\tremaining: 3m 24s\n",
            "57:\tlearn: 0.0501979\ttotal: 34.6s\tremaining: 3m 24s\n",
            "58:\tlearn: 0.0498285\ttotal: 35.2s\tremaining: 3m 23s\n",
            "59:\tlearn: 0.0494978\ttotal: 35.8s\tremaining: 3m 22s\n",
            "60:\tlearn: 0.0491504\ttotal: 36.4s\tremaining: 3m 22s\n",
            "61:\tlearn: 0.0487936\ttotal: 37s\tremaining: 3m 21s\n",
            "62:\tlearn: 0.0486273\ttotal: 37.6s\tremaining: 3m 20s\n",
            "63:\tlearn: 0.0482547\ttotal: 38.1s\tremaining: 3m 20s\n",
            "64:\tlearn: 0.0479617\ttotal: 38.8s\tremaining: 3m 19s\n",
            "65:\tlearn: 0.0475974\ttotal: 39.3s\tremaining: 3m 19s\n",
            "66:\tlearn: 0.0473419\ttotal: 39.9s\tremaining: 3m 18s\n",
            "67:\tlearn: 0.0471069\ttotal: 40.5s\tremaining: 3m 17s\n",
            "68:\tlearn: 0.0468420\ttotal: 41.1s\tremaining: 3m 17s\n",
            "69:\tlearn: 0.0466868\ttotal: 41.7s\tremaining: 3m 16s\n",
            "70:\tlearn: 0.0463950\ttotal: 42.3s\tremaining: 3m 15s\n",
            "71:\tlearn: 0.0461053\ttotal: 43.2s\tremaining: 3m 16s\n",
            "72:\tlearn: 0.0458357\ttotal: 44.1s\tremaining: 3m 17s\n",
            "73:\tlearn: 0.0455639\ttotal: 44.7s\tremaining: 3m 17s\n",
            "74:\tlearn: 0.0453316\ttotal: 45.3s\tremaining: 3m 16s\n",
            "75:\tlearn: 0.0451529\ttotal: 45.9s\tremaining: 3m 15s\n",
            "76:\tlearn: 0.0449515\ttotal: 46.5s\tremaining: 3m 14s\n",
            "77:\tlearn: 0.0446525\ttotal: 47.1s\tremaining: 3m 14s\n",
            "78:\tlearn: 0.0444009\ttotal: 47.6s\tremaining: 3m 13s\n",
            "79:\tlearn: 0.0441628\ttotal: 48.2s\tremaining: 3m 12s\n",
            "80:\tlearn: 0.0439138\ttotal: 48.8s\tremaining: 3m 12s\n",
            "81:\tlearn: 0.0435933\ttotal: 49.4s\tremaining: 3m 11s\n",
            "82:\tlearn: 0.0432472\ttotal: 50s\tremaining: 3m 10s\n",
            "83:\tlearn: 0.0431240\ttotal: 50.6s\tremaining: 3m 10s\n",
            "84:\tlearn: 0.0428860\ttotal: 51.2s\tremaining: 3m 9s\n",
            "85:\tlearn: 0.0426339\ttotal: 51.8s\tremaining: 3m 9s\n",
            "86:\tlearn: 0.0424811\ttotal: 52.4s\tremaining: 3m 8s\n",
            "87:\tlearn: 0.0422073\ttotal: 52.9s\tremaining: 3m 7s\n",
            "88:\tlearn: 0.0420671\ttotal: 53.5s\tremaining: 3m 7s\n",
            "89:\tlearn: 0.0419576\ttotal: 54.1s\tremaining: 3m 6s\n",
            "90:\tlearn: 0.0417100\ttotal: 54.7s\tremaining: 3m 5s\n",
            "91:\tlearn: 0.0415455\ttotal: 55.3s\tremaining: 3m 5s\n",
            "92:\tlearn: 0.0413316\ttotal: 55.9s\tremaining: 3m 4s\n",
            "93:\tlearn: 0.0410956\ttotal: 56.4s\tremaining: 3m 3s\n",
            "94:\tlearn: 0.0409212\ttotal: 57s\tremaining: 3m 3s\n",
            "95:\tlearn: 0.0407466\ttotal: 57.6s\tremaining: 3m 2s\n",
            "96:\tlearn: 0.0405624\ttotal: 58.2s\tremaining: 3m 1s\n",
            "97:\tlearn: 0.0403315\ttotal: 58.8s\tremaining: 3m 1s\n",
            "98:\tlearn: 0.0400927\ttotal: 59.4s\tremaining: 3m\n",
            "99:\tlearn: 0.0399026\ttotal: 60s\tremaining: 2m 59s\n",
            "100:\tlearn: 0.0396932\ttotal: 1m\tremaining: 2m 59s\n",
            "101:\tlearn: 0.0395133\ttotal: 1m 1s\tremaining: 2m 58s\n",
            "102:\tlearn: 0.0394222\ttotal: 1m 1s\tremaining: 2m 57s\n",
            "103:\tlearn: 0.0392591\ttotal: 1m 2s\tremaining: 2m 57s\n",
            "104:\tlearn: 0.0390085\ttotal: 1m 2s\tremaining: 2m 56s\n",
            "105:\tlearn: 0.0387749\ttotal: 1m 3s\tremaining: 2m 56s\n",
            "106:\tlearn: 0.0385738\ttotal: 1m 4s\tremaining: 2m 55s\n",
            "107:\tlearn: 0.0383237\ttotal: 1m 4s\tremaining: 2m 54s\n",
            "108:\tlearn: 0.0381532\ttotal: 1m 5s\tremaining: 2m 54s\n",
            "109:\tlearn: 0.0379821\ttotal: 1m 5s\tremaining: 2m 53s\n",
            "110:\tlearn: 0.0377764\ttotal: 1m 6s\tremaining: 2m 52s\n",
            "111:\tlearn: 0.0375844\ttotal: 1m 6s\tremaining: 2m 52s\n",
            "112:\tlearn: 0.0374207\ttotal: 1m 7s\tremaining: 2m 51s\n",
            "113:\tlearn: 0.0372387\ttotal: 1m 8s\tremaining: 2m 50s\n",
            "114:\tlearn: 0.0370827\ttotal: 1m 8s\tremaining: 2m 50s\n",
            "115:\tlearn: 0.0369229\ttotal: 1m 9s\tremaining: 2m 49s\n",
            "116:\tlearn: 0.0367497\ttotal: 1m 9s\tremaining: 2m 49s\n",
            "117:\tlearn: 0.0365756\ttotal: 1m 10s\tremaining: 2m 48s\n",
            "118:\tlearn: 0.0364056\ttotal: 1m 11s\tremaining: 2m 47s\n",
            "119:\tlearn: 0.0362198\ttotal: 1m 11s\tremaining: 2m 47s\n",
            "120:\tlearn: 0.0360457\ttotal: 1m 12s\tremaining: 2m 46s\n",
            "121:\tlearn: 0.0358806\ttotal: 1m 12s\tremaining: 2m 45s\n",
            "122:\tlearn: 0.0356979\ttotal: 1m 13s\tremaining: 2m 45s\n",
            "123:\tlearn: 0.0355364\ttotal: 1m 14s\tremaining: 2m 44s\n",
            "124:\tlearn: 0.0353912\ttotal: 1m 14s\tremaining: 2m 44s\n",
            "125:\tlearn: 0.0352374\ttotal: 1m 15s\tremaining: 2m 43s\n",
            "126:\tlearn: 0.0350277\ttotal: 1m 15s\tremaining: 2m 42s\n",
            "127:\tlearn: 0.0348923\ttotal: 1m 16s\tremaining: 2m 42s\n",
            "128:\tlearn: 0.0348027\ttotal: 1m 16s\tremaining: 2m 41s\n",
            "129:\tlearn: 0.0346535\ttotal: 1m 17s\tremaining: 2m 41s\n",
            "130:\tlearn: 0.0344543\ttotal: 1m 18s\tremaining: 2m 40s\n",
            "131:\tlearn: 0.0342949\ttotal: 1m 18s\tremaining: 2m 39s\n",
            "132:\tlearn: 0.0341643\ttotal: 1m 19s\tremaining: 2m 39s\n",
            "133:\tlearn: 0.0340184\ttotal: 1m 20s\tremaining: 2m 39s\n",
            "134:\tlearn: 0.0338999\ttotal: 1m 20s\tremaining: 2m 38s\n",
            "135:\tlearn: 0.0337586\ttotal: 1m 21s\tremaining: 2m 38s\n",
            "136:\tlearn: 0.0336281\ttotal: 1m 22s\tremaining: 2m 37s\n",
            "137:\tlearn: 0.0335031\ttotal: 1m 22s\tremaining: 2m 36s\n",
            "138:\tlearn: 0.0333727\ttotal: 1m 23s\tremaining: 2m 36s\n",
            "139:\tlearn: 0.0332366\ttotal: 1m 23s\tremaining: 2m 35s\n",
            "140:\tlearn: 0.0330713\ttotal: 1m 24s\tremaining: 2m 35s\n",
            "141:\tlearn: 0.0329669\ttotal: 1m 25s\tremaining: 2m 34s\n",
            "142:\tlearn: 0.0328288\ttotal: 1m 25s\tremaining: 2m 33s\n",
            "143:\tlearn: 0.0326775\ttotal: 1m 26s\tremaining: 2m 33s\n",
            "144:\tlearn: 0.0325715\ttotal: 1m 26s\tremaining: 2m 32s\n",
            "145:\tlearn: 0.0324148\ttotal: 1m 27s\tremaining: 2m 32s\n",
            "146:\tlearn: 0.0322836\ttotal: 1m 27s\tremaining: 2m 31s\n",
            "147:\tlearn: 0.0322403\ttotal: 1m 28s\tremaining: 2m 30s\n",
            "148:\tlearn: 0.0321012\ttotal: 1m 29s\tremaining: 2m 30s\n",
            "149:\tlearn: 0.0320150\ttotal: 1m 29s\tremaining: 2m 29s\n",
            "150:\tlearn: 0.0318789\ttotal: 1m 30s\tremaining: 2m 29s\n",
            "151:\tlearn: 0.0317548\ttotal: 1m 30s\tremaining: 2m 28s\n",
            "152:\tlearn: 0.0316276\ttotal: 1m 31s\tremaining: 2m 27s\n",
            "153:\tlearn: 0.0315219\ttotal: 1m 32s\tremaining: 2m 27s\n",
            "154:\tlearn: 0.0313990\ttotal: 1m 32s\tremaining: 2m 26s\n",
            "155:\tlearn: 0.0312690\ttotal: 1m 33s\tremaining: 2m 26s\n",
            "156:\tlearn: 0.0311609\ttotal: 1m 33s\tremaining: 2m 25s\n",
            "157:\tlearn: 0.0310621\ttotal: 1m 34s\tremaining: 2m 24s\n",
            "158:\tlearn: 0.0309799\ttotal: 1m 35s\tremaining: 2m 24s\n",
            "159:\tlearn: 0.0309176\ttotal: 1m 35s\tremaining: 2m 23s\n",
            "160:\tlearn: 0.0308038\ttotal: 1m 36s\tremaining: 2m 23s\n",
            "161:\tlearn: 0.0306828\ttotal: 1m 36s\tremaining: 2m 22s\n",
            "162:\tlearn: 0.0305590\ttotal: 1m 37s\tremaining: 2m 21s\n",
            "163:\tlearn: 0.0304569\ttotal: 1m 38s\tremaining: 2m 21s\n",
            "164:\tlearn: 0.0304383\ttotal: 1m 38s\tremaining: 2m 20s\n",
            "165:\tlearn: 0.0303252\ttotal: 1m 39s\tremaining: 2m 20s\n",
            "166:\tlearn: 0.0302282\ttotal: 1m 39s\tremaining: 2m 19s\n",
            "167:\tlearn: 0.0301171\ttotal: 1m 40s\tremaining: 2m 18s\n",
            "168:\tlearn: 0.0300139\ttotal: 1m 41s\tremaining: 2m 18s\n",
            "169:\tlearn: 0.0298942\ttotal: 1m 41s\tremaining: 2m 17s\n",
            "170:\tlearn: 0.0297709\ttotal: 1m 42s\tremaining: 2m 17s\n",
            "171:\tlearn: 0.0296690\ttotal: 1m 43s\tremaining: 2m 16s\n",
            "172:\tlearn: 0.0295737\ttotal: 1m 43s\tremaining: 2m 15s\n",
            "173:\tlearn: 0.0294821\ttotal: 1m 44s\tremaining: 2m 15s\n",
            "174:\tlearn: 0.0293939\ttotal: 1m 44s\tremaining: 2m 14s\n",
            "175:\tlearn: 0.0292803\ttotal: 1m 45s\tremaining: 2m 14s\n",
            "176:\tlearn: 0.0291712\ttotal: 1m 45s\tremaining: 2m 13s\n",
            "177:\tlearn: 0.0290995\ttotal: 1m 46s\tremaining: 2m 12s\n",
            "178:\tlearn: 0.0290054\ttotal: 1m 47s\tremaining: 2m 12s\n",
            "179:\tlearn: 0.0289247\ttotal: 1m 47s\tremaining: 2m 11s\n",
            "180:\tlearn: 0.0288114\ttotal: 1m 48s\tremaining: 2m 11s\n",
            "181:\tlearn: 0.0287138\ttotal: 1m 48s\tremaining: 2m 10s\n",
            "182:\tlearn: 0.0286166\ttotal: 1m 49s\tremaining: 2m 9s\n",
            "183:\tlearn: 0.0285299\ttotal: 1m 50s\tremaining: 2m 9s\n",
            "184:\tlearn: 0.0284364\ttotal: 1m 50s\tremaining: 2m 8s\n",
            "185:\tlearn: 0.0283484\ttotal: 1m 51s\tremaining: 2m 8s\n",
            "186:\tlearn: 0.0282526\ttotal: 1m 51s\tremaining: 2m 7s\n",
            "187:\tlearn: 0.0281625\ttotal: 1m 52s\tremaining: 2m 6s\n",
            "188:\tlearn: 0.0281022\ttotal: 1m 53s\tremaining: 2m 6s\n",
            "189:\tlearn: 0.0280530\ttotal: 1m 53s\tremaining: 2m 5s\n",
            "190:\tlearn: 0.0279694\ttotal: 1m 54s\tremaining: 2m 5s\n",
            "191:\tlearn: 0.0278748\ttotal: 1m 54s\tremaining: 2m 4s\n",
            "192:\tlearn: 0.0277840\ttotal: 1m 55s\tremaining: 2m 3s\n",
            "193:\tlearn: 0.0277001\ttotal: 1m 56s\tremaining: 2m 3s\n",
            "194:\tlearn: 0.0276139\ttotal: 1m 56s\tremaining: 2m 2s\n",
            "195:\tlearn: 0.0275053\ttotal: 1m 57s\tremaining: 2m 1s\n",
            "196:\tlearn: 0.0274360\ttotal: 1m 57s\tremaining: 2m 1s\n",
            "197:\tlearn: 0.0273316\ttotal: 1m 58s\tremaining: 2m\n",
            "198:\tlearn: 0.0272543\ttotal: 1m 58s\tremaining: 2m\n",
            "199:\tlearn: 0.0271821\ttotal: 1m 59s\tremaining: 1m 59s\n",
            "200:\tlearn: 0.0270981\ttotal: 2m\tremaining: 1m 58s\n",
            "201:\tlearn: 0.0270394\ttotal: 2m\tremaining: 1m 58s\n",
            "202:\tlearn: 0.0269579\ttotal: 2m 1s\tremaining: 1m 57s\n",
            "203:\tlearn: 0.0268919\ttotal: 2m 1s\tremaining: 1m 57s\n",
            "204:\tlearn: 0.0268163\ttotal: 2m 2s\tremaining: 1m 56s\n",
            "205:\tlearn: 0.0267300\ttotal: 2m 3s\tremaining: 1m 55s\n",
            "206:\tlearn: 0.0266416\ttotal: 2m 3s\tremaining: 1m 55s\n",
            "207:\tlearn: 0.0265862\ttotal: 2m 4s\tremaining: 1m 54s\n",
            "208:\tlearn: 0.0265072\ttotal: 2m 4s\tremaining: 1m 54s\n",
            "209:\tlearn: 0.0264306\ttotal: 2m 5s\tremaining: 1m 53s\n",
            "210:\tlearn: 0.0263962\ttotal: 2m 6s\tremaining: 1m 52s\n",
            "211:\tlearn: 0.0263258\ttotal: 2m 6s\tremaining: 1m 52s\n",
            "212:\tlearn: 0.0262393\ttotal: 2m 7s\tremaining: 1m 51s\n",
            "213:\tlearn: 0.0261742\ttotal: 2m 7s\tremaining: 1m 51s\n",
            "214:\tlearn: 0.0260955\ttotal: 2m 8s\tremaining: 1m 50s\n",
            "215:\tlearn: 0.0259949\ttotal: 2m 9s\tremaining: 1m 49s\n",
            "216:\tlearn: 0.0259242\ttotal: 2m 9s\tremaining: 1m 49s\n",
            "217:\tlearn: 0.0258345\ttotal: 2m 10s\tremaining: 1m 48s\n",
            "218:\tlearn: 0.0257593\ttotal: 2m 10s\tremaining: 1m 48s\n",
            "219:\tlearn: 0.0256824\ttotal: 2m 11s\tremaining: 1m 47s\n",
            "220:\tlearn: 0.0256151\ttotal: 2m 11s\tremaining: 1m 46s\n",
            "221:\tlearn: 0.0255414\ttotal: 2m 12s\tremaining: 1m 46s\n",
            "222:\tlearn: 0.0254611\ttotal: 2m 13s\tremaining: 1m 45s\n",
            "223:\tlearn: 0.0253931\ttotal: 2m 13s\tremaining: 1m 45s\n",
            "224:\tlearn: 0.0253251\ttotal: 2m 14s\tremaining: 1m 44s\n",
            "225:\tlearn: 0.0252682\ttotal: 2m 14s\tremaining: 1m 43s\n",
            "226:\tlearn: 0.0252042\ttotal: 2m 15s\tremaining: 1m 43s\n",
            "227:\tlearn: 0.0251365\ttotal: 2m 16s\tremaining: 1m 42s\n",
            "228:\tlearn: 0.0250737\ttotal: 2m 16s\tremaining: 1m 42s\n",
            "229:\tlearn: 0.0250109\ttotal: 2m 17s\tremaining: 1m 41s\n",
            "230:\tlearn: 0.0249653\ttotal: 2m 17s\tremaining: 1m 40s\n",
            "231:\tlearn: 0.0249115\ttotal: 2m 18s\tremaining: 1m 40s\n",
            "232:\tlearn: 0.0248511\ttotal: 2m 19s\tremaining: 1m 39s\n",
            "233:\tlearn: 0.0247967\ttotal: 2m 19s\tremaining: 1m 39s\n",
            "234:\tlearn: 0.0247346\ttotal: 2m 20s\tremaining: 1m 38s\n",
            "235:\tlearn: 0.0246601\ttotal: 2m 21s\tremaining: 1m 38s\n",
            "236:\tlearn: 0.0245980\ttotal: 2m 21s\tremaining: 1m 37s\n",
            "237:\tlearn: 0.0245204\ttotal: 2m 22s\tremaining: 1m 36s\n",
            "238:\tlearn: 0.0244629\ttotal: 2m 23s\tremaining: 1m 36s\n",
            "239:\tlearn: 0.0244057\ttotal: 2m 23s\tremaining: 1m 35s\n",
            "240:\tlearn: 0.0243508\ttotal: 2m 24s\tremaining: 1m 35s\n",
            "241:\tlearn: 0.0242976\ttotal: 2m 24s\tremaining: 1m 34s\n",
            "242:\tlearn: 0.0242315\ttotal: 2m 25s\tremaining: 1m 33s\n",
            "243:\tlearn: 0.0241720\ttotal: 2m 25s\tremaining: 1m 33s\n",
            "244:\tlearn: 0.0241164\ttotal: 2m 26s\tremaining: 1m 32s\n",
            "245:\tlearn: 0.0240534\ttotal: 2m 27s\tremaining: 1m 32s\n",
            "246:\tlearn: 0.0239849\ttotal: 2m 27s\tremaining: 1m 31s\n",
            "247:\tlearn: 0.0239279\ttotal: 2m 28s\tremaining: 1m 30s\n",
            "248:\tlearn: 0.0238818\ttotal: 2m 28s\tremaining: 1m 30s\n",
            "249:\tlearn: 0.0238171\ttotal: 2m 29s\tremaining: 1m 29s\n",
            "250:\tlearn: 0.0237666\ttotal: 2m 30s\tremaining: 1m 29s\n",
            "251:\tlearn: 0.0236899\ttotal: 2m 31s\tremaining: 1m 28s\n",
            "252:\tlearn: 0.0236273\ttotal: 2m 32s\tremaining: 1m 28s\n",
            "253:\tlearn: 0.0235745\ttotal: 2m 32s\tremaining: 1m 27s\n",
            "254:\tlearn: 0.0235148\ttotal: 2m 33s\tremaining: 1m 27s\n",
            "255:\tlearn: 0.0234592\ttotal: 2m 33s\tremaining: 1m 26s\n",
            "256:\tlearn: 0.0233874\ttotal: 2m 34s\tremaining: 1m 25s\n",
            "257:\tlearn: 0.0233302\ttotal: 2m 35s\tremaining: 1m 25s\n",
            "258:\tlearn: 0.0232879\ttotal: 2m 35s\tremaining: 1m 24s\n",
            "259:\tlearn: 0.0232406\ttotal: 2m 36s\tremaining: 1m 24s\n",
            "260:\tlearn: 0.0231911\ttotal: 2m 36s\tremaining: 1m 23s\n",
            "261:\tlearn: 0.0231387\ttotal: 2m 37s\tremaining: 1m 22s\n",
            "262:\tlearn: 0.0230921\ttotal: 2m 38s\tremaining: 1m 22s\n",
            "263:\tlearn: 0.0230525\ttotal: 2m 38s\tremaining: 1m 21s\n",
            "264:\tlearn: 0.0230094\ttotal: 2m 39s\tremaining: 1m 21s\n",
            "265:\tlearn: 0.0229546\ttotal: 2m 39s\tremaining: 1m 20s\n",
            "266:\tlearn: 0.0228998\ttotal: 2m 40s\tremaining: 1m 19s\n",
            "267:\tlearn: 0.0228558\ttotal: 2m 41s\tremaining: 1m 19s\n",
            "268:\tlearn: 0.0228249\ttotal: 2m 41s\tremaining: 1m 18s\n",
            "269:\tlearn: 0.0227821\ttotal: 2m 42s\tremaining: 1m 18s\n",
            "270:\tlearn: 0.0227445\ttotal: 2m 42s\tremaining: 1m 17s\n",
            "271:\tlearn: 0.0226829\ttotal: 2m 43s\tremaining: 1m 16s\n",
            "272:\tlearn: 0.0226345\ttotal: 2m 44s\tremaining: 1m 16s\n",
            "273:\tlearn: 0.0225880\ttotal: 2m 44s\tremaining: 1m 15s\n",
            "274:\tlearn: 0.0225381\ttotal: 2m 45s\tremaining: 1m 15s\n",
            "275:\tlearn: 0.0224871\ttotal: 2m 45s\tremaining: 1m 14s\n",
            "276:\tlearn: 0.0224406\ttotal: 2m 46s\tremaining: 1m 13s\n",
            "277:\tlearn: 0.0223971\ttotal: 2m 46s\tremaining: 1m 13s\n",
            "278:\tlearn: 0.0223415\ttotal: 2m 47s\tremaining: 1m 12s\n",
            "279:\tlearn: 0.0222945\ttotal: 2m 48s\tremaining: 1m 12s\n",
            "280:\tlearn: 0.0222538\ttotal: 2m 48s\tremaining: 1m 11s\n",
            "281:\tlearn: 0.0222027\ttotal: 2m 49s\tremaining: 1m 10s\n",
            "282:\tlearn: 0.0221660\ttotal: 2m 49s\tremaining: 1m 10s\n",
            "283:\tlearn: 0.0221113\ttotal: 2m 50s\tremaining: 1m 9s\n",
            "284:\tlearn: 0.0220706\ttotal: 2m 51s\tremaining: 1m 9s\n",
            "285:\tlearn: 0.0219937\ttotal: 2m 51s\tremaining: 1m 8s\n",
            "286:\tlearn: 0.0219498\ttotal: 2m 52s\tremaining: 1m 7s\n",
            "287:\tlearn: 0.0219015\ttotal: 2m 52s\tremaining: 1m 7s\n",
            "288:\tlearn: 0.0218497\ttotal: 2m 53s\tremaining: 1m 6s\n",
            "289:\tlearn: 0.0218068\ttotal: 2m 54s\tremaining: 1m 6s\n",
            "290:\tlearn: 0.0217610\ttotal: 2m 54s\tremaining: 1m 5s\n",
            "291:\tlearn: 0.0217197\ttotal: 2m 55s\tremaining: 1m 4s\n",
            "292:\tlearn: 0.0216861\ttotal: 2m 55s\tremaining: 1m 4s\n",
            "293:\tlearn: 0.0216443\ttotal: 2m 56s\tremaining: 1m 3s\n",
            "294:\tlearn: 0.0215960\ttotal: 2m 56s\tremaining: 1m 2s\n",
            "295:\tlearn: 0.0215567\ttotal: 2m 57s\tremaining: 1m 2s\n",
            "296:\tlearn: 0.0215149\ttotal: 2m 58s\tremaining: 1m 1s\n",
            "297:\tlearn: 0.0214879\ttotal: 2m 58s\tremaining: 1m 1s\n",
            "298:\tlearn: 0.0214403\ttotal: 2m 59s\tremaining: 1m\n",
            "299:\tlearn: 0.0214024\ttotal: 2m 59s\tremaining: 60s\n",
            "300:\tlearn: 0.0213817\ttotal: 3m\tremaining: 59.4s\n",
            "301:\tlearn: 0.0213141\ttotal: 3m 1s\tremaining: 58.8s\n",
            "302:\tlearn: 0.0212711\ttotal: 3m 1s\tremaining: 58.2s\n",
            "303:\tlearn: 0.0212515\ttotal: 3m 2s\tremaining: 57.6s\n",
            "304:\tlearn: 0.0212136\ttotal: 3m 2s\tremaining: 57s\n",
            "305:\tlearn: 0.0211636\ttotal: 3m 3s\tremaining: 56.4s\n",
            "306:\tlearn: 0.0211249\ttotal: 3m 4s\tremaining: 55.8s\n",
            "307:\tlearn: 0.0210892\ttotal: 3m 4s\tremaining: 55.2s\n",
            "308:\tlearn: 0.0210429\ttotal: 3m 5s\tremaining: 54.5s\n",
            "309:\tlearn: 0.0209976\ttotal: 3m 5s\tremaining: 53.9s\n",
            "310:\tlearn: 0.0209639\ttotal: 3m 6s\tremaining: 53.3s\n",
            "311:\tlearn: 0.0209251\ttotal: 3m 6s\tremaining: 52.7s\n",
            "312:\tlearn: 0.0208795\ttotal: 3m 7s\tremaining: 52.1s\n",
            "313:\tlearn: 0.0208352\ttotal: 3m 8s\tremaining: 51.5s\n",
            "314:\tlearn: 0.0208098\ttotal: 3m 8s\tremaining: 50.9s\n",
            "315:\tlearn: 0.0207623\ttotal: 3m 9s\tremaining: 50.3s\n",
            "316:\tlearn: 0.0207253\ttotal: 3m 9s\tremaining: 49.7s\n",
            "317:\tlearn: 0.0206810\ttotal: 3m 10s\tremaining: 49.1s\n",
            "318:\tlearn: 0.0206470\ttotal: 3m 11s\tremaining: 48.5s\n",
            "319:\tlearn: 0.0206121\ttotal: 3m 11s\tremaining: 47.9s\n",
            "320:\tlearn: 0.0205806\ttotal: 3m 12s\tremaining: 47.3s\n",
            "321:\tlearn: 0.0205408\ttotal: 3m 12s\tremaining: 46.7s\n",
            "322:\tlearn: 0.0205059\ttotal: 3m 13s\tremaining: 46.1s\n",
            "323:\tlearn: 0.0204729\ttotal: 3m 14s\tremaining: 45.5s\n",
            "324:\tlearn: 0.0204307\ttotal: 3m 14s\tremaining: 44.9s\n",
            "325:\tlearn: 0.0203902\ttotal: 3m 15s\tremaining: 44.3s\n",
            "326:\tlearn: 0.0203603\ttotal: 3m 15s\tremaining: 43.7s\n",
            "327:\tlearn: 0.0203288\ttotal: 3m 16s\tremaining: 43.1s\n",
            "328:\tlearn: 0.0202873\ttotal: 3m 17s\tremaining: 42.5s\n",
            "329:\tlearn: 0.0202465\ttotal: 3m 17s\tremaining: 41.9s\n",
            "330:\tlearn: 0.0202137\ttotal: 3m 18s\tremaining: 41.3s\n",
            "331:\tlearn: 0.0201817\ttotal: 3m 18s\tremaining: 40.7s\n",
            "332:\tlearn: 0.0201422\ttotal: 3m 19s\tremaining: 40.1s\n",
            "333:\tlearn: 0.0201032\ttotal: 3m 20s\tremaining: 39.6s\n",
            "334:\tlearn: 0.0200698\ttotal: 3m 20s\tremaining: 39s\n",
            "335:\tlearn: 0.0200326\ttotal: 3m 21s\tremaining: 38.4s\n",
            "336:\tlearn: 0.0199944\ttotal: 3m 22s\tremaining: 37.8s\n",
            "337:\tlearn: 0.0199587\ttotal: 3m 22s\tremaining: 37.2s\n",
            "338:\tlearn: 0.0199298\ttotal: 3m 23s\tremaining: 36.6s\n",
            "339:\tlearn: 0.0198958\ttotal: 3m 23s\tremaining: 36s\n",
            "340:\tlearn: 0.0198538\ttotal: 3m 24s\tremaining: 35.4s\n",
            "341:\tlearn: 0.0198255\ttotal: 3m 25s\tremaining: 34.8s\n",
            "342:\tlearn: 0.0197888\ttotal: 3m 25s\tremaining: 34.2s\n",
            "343:\tlearn: 0.0197625\ttotal: 3m 26s\tremaining: 33.6s\n",
            "344:\tlearn: 0.0197297\ttotal: 3m 26s\tremaining: 33s\n",
            "345:\tlearn: 0.0196922\ttotal: 3m 27s\tremaining: 32.4s\n",
            "346:\tlearn: 0.0196618\ttotal: 3m 27s\tremaining: 31.8s\n",
            "347:\tlearn: 0.0196243\ttotal: 3m 28s\tremaining: 31.2s\n",
            "348:\tlearn: 0.0195918\ttotal: 3m 29s\tremaining: 30.6s\n",
            "349:\tlearn: 0.0195427\ttotal: 3m 29s\tremaining: 30s\n",
            "350:\tlearn: 0.0195094\ttotal: 3m 30s\tremaining: 29.4s\n",
            "351:\tlearn: 0.0194725\ttotal: 3m 30s\tremaining: 28.8s\n",
            "352:\tlearn: 0.0194495\ttotal: 3m 31s\tremaining: 28.2s\n",
            "353:\tlearn: 0.0194231\ttotal: 3m 32s\tremaining: 27.6s\n",
            "354:\tlearn: 0.0193790\ttotal: 3m 32s\tremaining: 27s\n",
            "355:\tlearn: 0.0193499\ttotal: 3m 33s\tremaining: 26.4s\n",
            "356:\tlearn: 0.0193178\ttotal: 3m 33s\tremaining: 25.8s\n",
            "357:\tlearn: 0.0192913\ttotal: 3m 34s\tremaining: 25.2s\n",
            "358:\tlearn: 0.0192642\ttotal: 3m 35s\tremaining: 24.6s\n",
            "359:\tlearn: 0.0192308\ttotal: 3m 35s\tremaining: 24s\n",
            "360:\tlearn: 0.0191959\ttotal: 3m 36s\tremaining: 23.4s\n",
            "361:\tlearn: 0.0191681\ttotal: 3m 36s\tremaining: 22.8s\n",
            "362:\tlearn: 0.0191326\ttotal: 3m 37s\tremaining: 22.2s\n",
            "363:\tlearn: 0.0191093\ttotal: 3m 38s\tremaining: 21.6s\n",
            "364:\tlearn: 0.0190820\ttotal: 3m 38s\tremaining: 21s\n",
            "365:\tlearn: 0.0190528\ttotal: 3m 39s\tremaining: 20.4s\n",
            "366:\tlearn: 0.0190189\ttotal: 3m 39s\tremaining: 19.8s\n",
            "367:\tlearn: 0.0189945\ttotal: 3m 40s\tremaining: 19.2s\n",
            "368:\tlearn: 0.0189760\ttotal: 3m 41s\tremaining: 18.6s\n",
            "369:\tlearn: 0.0189537\ttotal: 3m 41s\tremaining: 18s\n",
            "370:\tlearn: 0.0189240\ttotal: 3m 42s\tremaining: 17.4s\n",
            "371:\tlearn: 0.0188890\ttotal: 3m 42s\tremaining: 16.8s\n",
            "372:\tlearn: 0.0188598\ttotal: 3m 43s\tremaining: 16.2s\n",
            "373:\tlearn: 0.0188334\ttotal: 3m 44s\tremaining: 15.6s\n",
            "374:\tlearn: 0.0188076\ttotal: 3m 44s\tremaining: 15s\n",
            "375:\tlearn: 0.0187812\ttotal: 3m 45s\tremaining: 14.4s\n",
            "376:\tlearn: 0.0187531\ttotal: 3m 45s\tremaining: 13.8s\n",
            "377:\tlearn: 0.0187316\ttotal: 3m 46s\tremaining: 13.2s\n",
            "378:\tlearn: 0.0187069\ttotal: 3m 46s\tremaining: 12.6s\n",
            "379:\tlearn: 0.0186815\ttotal: 3m 47s\tremaining: 12s\n",
            "380:\tlearn: 0.0186577\ttotal: 3m 48s\tremaining: 11.4s\n",
            "381:\tlearn: 0.0186343\ttotal: 3m 48s\tremaining: 10.8s\n",
            "382:\tlearn: 0.0186047\ttotal: 3m 49s\tremaining: 10.2s\n",
            "383:\tlearn: 0.0185760\ttotal: 3m 49s\tremaining: 9.58s\n",
            "384:\tlearn: 0.0185517\ttotal: 3m 50s\tremaining: 8.98s\n",
            "385:\tlearn: 0.0185234\ttotal: 3m 51s\tremaining: 8.38s\n",
            "386:\tlearn: 0.0185105\ttotal: 3m 51s\tremaining: 7.78s\n",
            "387:\tlearn: 0.0184848\ttotal: 3m 52s\tremaining: 7.18s\n",
            "388:\tlearn: 0.0184519\ttotal: 3m 52s\tremaining: 6.58s\n",
            "389:\tlearn: 0.0184200\ttotal: 3m 53s\tremaining: 5.99s\n",
            "390:\tlearn: 0.0183902\ttotal: 3m 54s\tremaining: 5.39s\n",
            "391:\tlearn: 0.0183658\ttotal: 3m 54s\tremaining: 4.79s\n",
            "392:\tlearn: 0.0183422\ttotal: 3m 55s\tremaining: 4.19s\n",
            "393:\tlearn: 0.0183157\ttotal: 3m 55s\tremaining: 3.59s\n",
            "394:\tlearn: 0.0182935\ttotal: 3m 56s\tremaining: 2.99s\n",
            "395:\tlearn: 0.0182680\ttotal: 3m 56s\tremaining: 2.39s\n",
            "396:\tlearn: 0.0182436\ttotal: 3m 57s\tremaining: 1.79s\n",
            "397:\tlearn: 0.0182196\ttotal: 3m 58s\tremaining: 1.2s\n",
            "398:\tlearn: 0.0181992\ttotal: 3m 58s\tremaining: 598ms\n",
            "399:\tlearn: 0.0181707\ttotal: 3m 59s\tremaining: 0us\n",
            "Learning rate set to 0.286357\n",
            "0:\tlearn: 0.7325571\ttotal: 559ms\tremaining: 3m 43s\n",
            "1:\tlearn: 0.5383530\ttotal: 1.14s\tremaining: 3m 46s\n",
            "2:\tlearn: 0.3999617\ttotal: 1.71s\tremaining: 3m 46s\n",
            "3:\tlearn: 0.3013765\ttotal: 2.27s\tremaining: 3m 44s\n",
            "4:\tlearn: 0.2320584\ttotal: 2.83s\tremaining: 3m 43s\n",
            "5:\tlearn: 0.1831678\ttotal: 3.39s\tremaining: 3m 42s\n",
            "6:\tlearn: 0.1502337\ttotal: 3.95s\tremaining: 3m 41s\n",
            "7:\tlearn: 0.1279013\ttotal: 4.52s\tremaining: 3m 41s\n",
            "8:\tlearn: 0.1127779\ttotal: 5.09s\tremaining: 3m 41s\n",
            "9:\tlearn: 0.1025588\ttotal: 5.66s\tremaining: 3m 40s\n",
            "10:\tlearn: 0.0955152\ttotal: 6.22s\tremaining: 3m 40s\n",
            "11:\tlearn: 0.0902926\ttotal: 6.78s\tremaining: 3m 39s\n",
            "12:\tlearn: 0.0864844\ttotal: 7.35s\tremaining: 3m 38s\n",
            "13:\tlearn: 0.0833751\ttotal: 7.9s\tremaining: 3m 37s\n",
            "14:\tlearn: 0.0812430\ttotal: 8.47s\tremaining: 3m 37s\n",
            "15:\tlearn: 0.0790077\ttotal: 9.02s\tremaining: 3m 36s\n",
            "16:\tlearn: 0.0773911\ttotal: 9.58s\tremaining: 3m 35s\n",
            "17:\tlearn: 0.0761992\ttotal: 10.2s\tremaining: 3m 35s\n",
            "18:\tlearn: 0.0750454\ttotal: 10.7s\tremaining: 3m 34s\n",
            "19:\tlearn: 0.0739937\ttotal: 11.3s\tremaining: 3m 34s\n",
            "20:\tlearn: 0.0725532\ttotal: 11.8s\tremaining: 3m 33s\n",
            "21:\tlearn: 0.0711845\ttotal: 12.4s\tremaining: 3m 33s\n",
            "22:\tlearn: 0.0702126\ttotal: 13s\tremaining: 3m 32s\n",
            "23:\tlearn: 0.0689109\ttotal: 13.5s\tremaining: 3m 31s\n",
            "24:\tlearn: 0.0682599\ttotal: 14.1s\tremaining: 3m 31s\n",
            "25:\tlearn: 0.0673887\ttotal: 14.6s\tremaining: 3m 30s\n",
            "26:\tlearn: 0.0664558\ttotal: 15.2s\tremaining: 3m 30s\n",
            "27:\tlearn: 0.0655548\ttotal: 15.8s\tremaining: 3m 29s\n",
            "28:\tlearn: 0.0648884\ttotal: 16.3s\tremaining: 3m 29s\n",
            "29:\tlearn: 0.0643094\ttotal: 16.9s\tremaining: 3m 28s\n",
            "30:\tlearn: 0.0638220\ttotal: 17.5s\tremaining: 3m 27s\n",
            "31:\tlearn: 0.0632932\ttotal: 18s\tremaining: 3m 27s\n",
            "32:\tlearn: 0.0627834\ttotal: 18.6s\tremaining: 3m 26s\n",
            "33:\tlearn: 0.0624127\ttotal: 19.1s\tremaining: 3m 26s\n",
            "34:\tlearn: 0.0617458\ttotal: 19.7s\tremaining: 3m 25s\n",
            "35:\tlearn: 0.0610983\ttotal: 20.3s\tremaining: 3m 24s\n",
            "36:\tlearn: 0.0605177\ttotal: 20.8s\tremaining: 3m 24s\n",
            "37:\tlearn: 0.0599430\ttotal: 21.4s\tremaining: 3m 24s\n",
            "38:\tlearn: 0.0593560\ttotal: 22s\tremaining: 3m 23s\n",
            "39:\tlearn: 0.0588589\ttotal: 22.5s\tremaining: 3m 22s\n",
            "40:\tlearn: 0.0583717\ttotal: 23.1s\tremaining: 3m 22s\n",
            "41:\tlearn: 0.0577911\ttotal: 23.7s\tremaining: 3m 21s\n",
            "42:\tlearn: 0.0573988\ttotal: 24.2s\tremaining: 3m 21s\n",
            "43:\tlearn: 0.0570640\ttotal: 24.8s\tremaining: 3m 20s\n",
            "44:\tlearn: 0.0566294\ttotal: 25.4s\tremaining: 3m 19s\n",
            "45:\tlearn: 0.0562224\ttotal: 25.9s\tremaining: 3m 19s\n",
            "46:\tlearn: 0.0557386\ttotal: 26.5s\tremaining: 3m 18s\n",
            "47:\tlearn: 0.0553288\ttotal: 27.1s\tremaining: 3m 18s\n",
            "48:\tlearn: 0.0548655\ttotal: 27.6s\tremaining: 3m 17s\n",
            "49:\tlearn: 0.0543514\ttotal: 28.2s\tremaining: 3m 17s\n",
            "50:\tlearn: 0.0539399\ttotal: 28.7s\tremaining: 3m 16s\n",
            "51:\tlearn: 0.0534754\ttotal: 29.3s\tremaining: 3m 16s\n",
            "52:\tlearn: 0.0529781\ttotal: 29.9s\tremaining: 3m 15s\n",
            "53:\tlearn: 0.0526128\ttotal: 30.4s\tremaining: 3m 14s\n",
            "54:\tlearn: 0.0522466\ttotal: 31s\tremaining: 3m 14s\n",
            "55:\tlearn: 0.0518351\ttotal: 31.5s\tremaining: 3m 13s\n",
            "56:\tlearn: 0.0515307\ttotal: 32.1s\tremaining: 3m 13s\n",
            "57:\tlearn: 0.0511935\ttotal: 32.7s\tremaining: 3m 12s\n",
            "58:\tlearn: 0.0508238\ttotal: 33.3s\tremaining: 3m 12s\n",
            "59:\tlearn: 0.0504329\ttotal: 33.8s\tremaining: 3m 11s\n",
            "60:\tlearn: 0.0501241\ttotal: 34.4s\tremaining: 3m 11s\n",
            "61:\tlearn: 0.0497215\ttotal: 35s\tremaining: 3m 10s\n",
            "62:\tlearn: 0.0494801\ttotal: 35.5s\tremaining: 3m 10s\n",
            "63:\tlearn: 0.0491389\ttotal: 36.1s\tremaining: 3m 9s\n",
            "64:\tlearn: 0.0489239\ttotal: 36.7s\tremaining: 3m 9s\n",
            "65:\tlearn: 0.0486113\ttotal: 37.3s\tremaining: 3m 8s\n",
            "66:\tlearn: 0.0483698\ttotal: 37.9s\tremaining: 3m 8s\n",
            "67:\tlearn: 0.0480954\ttotal: 38.4s\tremaining: 3m 7s\n",
            "68:\tlearn: 0.0478386\ttotal: 39s\tremaining: 3m 7s\n",
            "69:\tlearn: 0.0474809\ttotal: 39.6s\tremaining: 3m 6s\n",
            "70:\tlearn: 0.0472318\ttotal: 40.2s\tremaining: 3m 6s\n",
            "71:\tlearn: 0.0469247\ttotal: 40.7s\tremaining: 3m 5s\n",
            "72:\tlearn: 0.0466560\ttotal: 41.3s\tremaining: 3m 5s\n",
            "73:\tlearn: 0.0463607\ttotal: 41.9s\tremaining: 3m 4s\n",
            "74:\tlearn: 0.0460381\ttotal: 42.5s\tremaining: 3m 3s\n",
            "75:\tlearn: 0.0457782\ttotal: 43s\tremaining: 3m 3s\n",
            "76:\tlearn: 0.0455290\ttotal: 43.6s\tremaining: 3m 2s\n",
            "77:\tlearn: 0.0452841\ttotal: 44.1s\tremaining: 3m 2s\n",
            "78:\tlearn: 0.0450563\ttotal: 44.7s\tremaining: 3m 1s\n",
            "79:\tlearn: 0.0448321\ttotal: 45.2s\tremaining: 3m\n",
            "80:\tlearn: 0.0445571\ttotal: 45.8s\tremaining: 3m\n",
            "81:\tlearn: 0.0442759\ttotal: 46.4s\tremaining: 2m 59s\n",
            "82:\tlearn: 0.0440160\ttotal: 46.9s\tremaining: 2m 59s\n",
            "83:\tlearn: 0.0437132\ttotal: 47.5s\tremaining: 2m 58s\n",
            "84:\tlearn: 0.0434636\ttotal: 48.1s\tremaining: 2m 58s\n",
            "85:\tlearn: 0.0432347\ttotal: 48.6s\tremaining: 2m 57s\n",
            "86:\tlearn: 0.0430087\ttotal: 49.2s\tremaining: 2m 56s\n",
            "87:\tlearn: 0.0427907\ttotal: 49.7s\tremaining: 2m 56s\n",
            "88:\tlearn: 0.0425372\ttotal: 50.3s\tremaining: 2m 55s\n",
            "89:\tlearn: 0.0423497\ttotal: 50.9s\tremaining: 2m 55s\n",
            "90:\tlearn: 0.0420951\ttotal: 51.4s\tremaining: 2m 54s\n",
            "91:\tlearn: 0.0419420\ttotal: 52s\tremaining: 2m 54s\n",
            "92:\tlearn: 0.0416863\ttotal: 52.6s\tremaining: 2m 53s\n",
            "93:\tlearn: 0.0415204\ttotal: 53.1s\tremaining: 2m 52s\n",
            "94:\tlearn: 0.0413089\ttotal: 53.7s\tremaining: 2m 52s\n",
            "95:\tlearn: 0.0410980\ttotal: 54.3s\tremaining: 2m 52s\n",
            "96:\tlearn: 0.0409117\ttotal: 54.9s\tremaining: 2m 51s\n",
            "97:\tlearn: 0.0407083\ttotal: 55.6s\tremaining: 2m 51s\n",
            "98:\tlearn: 0.0405375\ttotal: 56.2s\tremaining: 2m 50s\n",
            "99:\tlearn: 0.0403462\ttotal: 56.8s\tremaining: 2m 50s\n",
            "100:\tlearn: 0.0401329\ttotal: 57.4s\tremaining: 2m 49s\n",
            "101:\tlearn: 0.0399525\ttotal: 57.9s\tremaining: 2m 49s\n",
            "102:\tlearn: 0.0397404\ttotal: 58.5s\tremaining: 2m 48s\n",
            "103:\tlearn: 0.0395486\ttotal: 59.1s\tremaining: 2m 48s\n",
            "104:\tlearn: 0.0394511\ttotal: 59.6s\tremaining: 2m 47s\n",
            "105:\tlearn: 0.0392364\ttotal: 1m\tremaining: 2m 46s\n",
            "106:\tlearn: 0.0390398\ttotal: 1m\tremaining: 2m 46s\n",
            "107:\tlearn: 0.0388661\ttotal: 1m 1s\tremaining: 2m 45s\n",
            "108:\tlearn: 0.0386603\ttotal: 1m 1s\tremaining: 2m 45s\n",
            "109:\tlearn: 0.0384707\ttotal: 1m 2s\tremaining: 2m 44s\n",
            "110:\tlearn: 0.0382867\ttotal: 1m 3s\tremaining: 2m 44s\n",
            "111:\tlearn: 0.0381608\ttotal: 1m 3s\tremaining: 2m 43s\n",
            "112:\tlearn: 0.0379814\ttotal: 1m 4s\tremaining: 2m 43s\n",
            "113:\tlearn: 0.0378740\ttotal: 1m 4s\tremaining: 2m 42s\n",
            "114:\tlearn: 0.0377460\ttotal: 1m 5s\tremaining: 2m 41s\n",
            "115:\tlearn: 0.0375828\ttotal: 1m 5s\tremaining: 2m 41s\n",
            "116:\tlearn: 0.0373858\ttotal: 1m 6s\tremaining: 2m 40s\n",
            "117:\tlearn: 0.0372446\ttotal: 1m 7s\tremaining: 2m 40s\n",
            "118:\tlearn: 0.0370846\ttotal: 1m 7s\tremaining: 2m 39s\n",
            "119:\tlearn: 0.0369286\ttotal: 1m 8s\tremaining: 2m 39s\n",
            "120:\tlearn: 0.0367622\ttotal: 1m 8s\tremaining: 2m 38s\n",
            "121:\tlearn: 0.0366122\ttotal: 1m 9s\tremaining: 2m 37s\n",
            "122:\tlearn: 0.0364593\ttotal: 1m 9s\tremaining: 2m 37s\n",
            "123:\tlearn: 0.0363046\ttotal: 1m 10s\tremaining: 2m 36s\n",
            "124:\tlearn: 0.0361743\ttotal: 1m 10s\tremaining: 2m 36s\n",
            "125:\tlearn: 0.0359921\ttotal: 1m 11s\tremaining: 2m 35s\n",
            "126:\tlearn: 0.0358426\ttotal: 1m 12s\tremaining: 2m 34s\n",
            "127:\tlearn: 0.0356875\ttotal: 1m 12s\tremaining: 2m 34s\n",
            "128:\tlearn: 0.0355550\ttotal: 1m 13s\tremaining: 2m 33s\n",
            "129:\tlearn: 0.0354179\ttotal: 1m 13s\tremaining: 2m 33s\n",
            "130:\tlearn: 0.0352648\ttotal: 1m 14s\tremaining: 2m 32s\n",
            "131:\tlearn: 0.0351049\ttotal: 1m 14s\tremaining: 2m 32s\n",
            "132:\tlearn: 0.0349700\ttotal: 1m 15s\tremaining: 2m 31s\n",
            "133:\tlearn: 0.0348151\ttotal: 1m 16s\tremaining: 2m 31s\n",
            "134:\tlearn: 0.0346720\ttotal: 1m 16s\tremaining: 2m 30s\n",
            "135:\tlearn: 0.0345065\ttotal: 1m 17s\tremaining: 2m 29s\n",
            "136:\tlearn: 0.0343697\ttotal: 1m 17s\tremaining: 2m 29s\n",
            "137:\tlearn: 0.0342359\ttotal: 1m 18s\tremaining: 2m 28s\n",
            "138:\tlearn: 0.0340927\ttotal: 1m 18s\tremaining: 2m 28s\n",
            "139:\tlearn: 0.0339722\ttotal: 1m 19s\tremaining: 2m 27s\n",
            "140:\tlearn: 0.0338352\ttotal: 1m 20s\tremaining: 2m 27s\n",
            "141:\tlearn: 0.0337064\ttotal: 1m 20s\tremaining: 2m 26s\n",
            "142:\tlearn: 0.0335970\ttotal: 1m 21s\tremaining: 2m 25s\n",
            "143:\tlearn: 0.0334803\ttotal: 1m 21s\tremaining: 2m 25s\n",
            "144:\tlearn: 0.0333748\ttotal: 1m 22s\tremaining: 2m 24s\n",
            "145:\tlearn: 0.0332384\ttotal: 1m 22s\tremaining: 2m 24s\n",
            "146:\tlearn: 0.0331383\ttotal: 1m 23s\tremaining: 2m 23s\n",
            "147:\tlearn: 0.0330039\ttotal: 1m 24s\tremaining: 2m 23s\n",
            "148:\tlearn: 0.0328844\ttotal: 1m 24s\tremaining: 2m 22s\n",
            "149:\tlearn: 0.0327724\ttotal: 1m 25s\tremaining: 2m 21s\n",
            "150:\tlearn: 0.0326521\ttotal: 1m 25s\tremaining: 2m 21s\n",
            "151:\tlearn: 0.0325348\ttotal: 1m 26s\tremaining: 2m 20s\n",
            "152:\tlearn: 0.0324153\ttotal: 1m 26s\tremaining: 2m 20s\n",
            "153:\tlearn: 0.0322831\ttotal: 1m 27s\tremaining: 2m 19s\n",
            "154:\tlearn: 0.0321946\ttotal: 1m 27s\tremaining: 2m 19s\n",
            "155:\tlearn: 0.0320926\ttotal: 1m 28s\tremaining: 2m 18s\n",
            "156:\tlearn: 0.0319861\ttotal: 1m 29s\tremaining: 2m 17s\n",
            "157:\tlearn: 0.0318870\ttotal: 1m 29s\tremaining: 2m 17s\n",
            "158:\tlearn: 0.0317670\ttotal: 1m 30s\tremaining: 2m 16s\n",
            "159:\tlearn: 0.0316522\ttotal: 1m 30s\tremaining: 2m 16s\n",
            "160:\tlearn: 0.0315629\ttotal: 1m 31s\tremaining: 2m 15s\n",
            "161:\tlearn: 0.0314325\ttotal: 1m 31s\tremaining: 2m 15s\n",
            "162:\tlearn: 0.0313362\ttotal: 1m 32s\tremaining: 2m 14s\n",
            "163:\tlearn: 0.0311995\ttotal: 1m 33s\tremaining: 2m 13s\n",
            "164:\tlearn: 0.0310898\ttotal: 1m 33s\tremaining: 2m 13s\n",
            "165:\tlearn: 0.0309992\ttotal: 1m 34s\tremaining: 2m 12s\n",
            "166:\tlearn: 0.0308954\ttotal: 1m 34s\tremaining: 2m 12s\n",
            "167:\tlearn: 0.0307893\ttotal: 1m 35s\tremaining: 2m 11s\n",
            "168:\tlearn: 0.0306930\ttotal: 1m 35s\tremaining: 2m 11s\n",
            "169:\tlearn: 0.0306031\ttotal: 1m 36s\tremaining: 2m 10s\n",
            "170:\tlearn: 0.0305363\ttotal: 1m 37s\tremaining: 2m 9s\n",
            "171:\tlearn: 0.0304558\ttotal: 1m 37s\tremaining: 2m 9s\n",
            "172:\tlearn: 0.0303638\ttotal: 1m 38s\tremaining: 2m 8s\n",
            "173:\tlearn: 0.0302720\ttotal: 1m 38s\tremaining: 2m 8s\n",
            "174:\tlearn: 0.0301601\ttotal: 1m 39s\tremaining: 2m 7s\n",
            "175:\tlearn: 0.0300854\ttotal: 1m 39s\tremaining: 2m 7s\n",
            "176:\tlearn: 0.0300015\ttotal: 1m 40s\tremaining: 2m 6s\n",
            "177:\tlearn: 0.0299245\ttotal: 1m 40s\tremaining: 2m 5s\n",
            "178:\tlearn: 0.0298600\ttotal: 1m 41s\tremaining: 2m 5s\n",
            "179:\tlearn: 0.0297655\ttotal: 1m 42s\tremaining: 2m 4s\n",
            "180:\tlearn: 0.0296705\ttotal: 1m 42s\tremaining: 2m 4s\n",
            "181:\tlearn: 0.0295699\ttotal: 1m 43s\tremaining: 2m 3s\n",
            "182:\tlearn: 0.0294864\ttotal: 1m 43s\tremaining: 2m 3s\n",
            "183:\tlearn: 0.0293951\ttotal: 1m 44s\tremaining: 2m 2s\n",
            "184:\tlearn: 0.0292571\ttotal: 1m 44s\tremaining: 2m 1s\n",
            "185:\tlearn: 0.0291481\ttotal: 1m 45s\tremaining: 2m 1s\n",
            "186:\tlearn: 0.0290772\ttotal: 1m 46s\tremaining: 2m\n",
            "187:\tlearn: 0.0289681\ttotal: 1m 46s\tremaining: 2m\n",
            "188:\tlearn: 0.0288841\ttotal: 1m 47s\tremaining: 1m 59s\n",
            "189:\tlearn: 0.0288006\ttotal: 1m 47s\tremaining: 1m 59s\n",
            "190:\tlearn: 0.0287094\ttotal: 1m 48s\tremaining: 1m 58s\n",
            "191:\tlearn: 0.0286371\ttotal: 1m 48s\tremaining: 1m 58s\n",
            "192:\tlearn: 0.0285327\ttotal: 1m 49s\tremaining: 1m 57s\n",
            "193:\tlearn: 0.0284356\ttotal: 1m 50s\tremaining: 1m 56s\n",
            "194:\tlearn: 0.0283433\ttotal: 1m 50s\tremaining: 1m 56s\n",
            "195:\tlearn: 0.0282626\ttotal: 1m 51s\tremaining: 1m 55s\n",
            "196:\tlearn: 0.0281797\ttotal: 1m 51s\tremaining: 1m 55s\n",
            "197:\tlearn: 0.0281064\ttotal: 1m 52s\tremaining: 1m 54s\n",
            "198:\tlearn: 0.0280254\ttotal: 1m 52s\tremaining: 1m 54s\n",
            "199:\tlearn: 0.0279330\ttotal: 1m 53s\tremaining: 1m 53s\n",
            "200:\tlearn: 0.0278778\ttotal: 1m 54s\tremaining: 1m 52s\n",
            "201:\tlearn: 0.0277993\ttotal: 1m 54s\tremaining: 1m 52s\n",
            "202:\tlearn: 0.0277345\ttotal: 1m 55s\tremaining: 1m 51s\n",
            "203:\tlearn: 0.0276653\ttotal: 1m 55s\tremaining: 1m 51s\n",
            "204:\tlearn: 0.0275923\ttotal: 1m 56s\tremaining: 1m 50s\n",
            "205:\tlearn: 0.0275071\ttotal: 1m 57s\tremaining: 1m 50s\n",
            "206:\tlearn: 0.0274231\ttotal: 1m 57s\tremaining: 1m 49s\n",
            "207:\tlearn: 0.0273458\ttotal: 1m 58s\tremaining: 1m 49s\n",
            "208:\tlearn: 0.0272709\ttotal: 1m 58s\tremaining: 1m 48s\n",
            "209:\tlearn: 0.0272050\ttotal: 1m 59s\tremaining: 1m 48s\n",
            "210:\tlearn: 0.0271165\ttotal: 2m\tremaining: 1m 47s\n",
            "211:\tlearn: 0.0270396\ttotal: 2m\tremaining: 1m 47s\n",
            "212:\tlearn: 0.0269752\ttotal: 2m 1s\tremaining: 1m 46s\n",
            "213:\tlearn: 0.0269343\ttotal: 2m 1s\tremaining: 1m 45s\n",
            "214:\tlearn: 0.0268560\ttotal: 2m 2s\tremaining: 1m 45s\n",
            "215:\tlearn: 0.0267848\ttotal: 2m 2s\tremaining: 1m 44s\n",
            "216:\tlearn: 0.0267199\ttotal: 2m 3s\tremaining: 1m 44s\n",
            "217:\tlearn: 0.0266491\ttotal: 2m 4s\tremaining: 1m 43s\n",
            "218:\tlearn: 0.0265884\ttotal: 2m 4s\tremaining: 1m 43s\n",
            "219:\tlearn: 0.0264852\ttotal: 2m 5s\tremaining: 1m 42s\n",
            "220:\tlearn: 0.0264016\ttotal: 2m 5s\tremaining: 1m 41s\n",
            "221:\tlearn: 0.0263366\ttotal: 2m 6s\tremaining: 1m 41s\n",
            "222:\tlearn: 0.0262613\ttotal: 2m 6s\tremaining: 1m 40s\n",
            "223:\tlearn: 0.0261993\ttotal: 2m 7s\tremaining: 1m 40s\n",
            "224:\tlearn: 0.0260991\ttotal: 2m 8s\tremaining: 1m 39s\n",
            "225:\tlearn: 0.0260297\ttotal: 2m 8s\tremaining: 1m 39s\n",
            "226:\tlearn: 0.0259609\ttotal: 2m 9s\tremaining: 1m 38s\n",
            "227:\tlearn: 0.0258714\ttotal: 2m 9s\tremaining: 1m 37s\n",
            "228:\tlearn: 0.0258232\ttotal: 2m 10s\tremaining: 1m 37s\n",
            "229:\tlearn: 0.0257484\ttotal: 2m 10s\tremaining: 1m 36s\n",
            "230:\tlearn: 0.0256866\ttotal: 2m 11s\tremaining: 1m 36s\n",
            "231:\tlearn: 0.0256177\ttotal: 2m 12s\tremaining: 1m 35s\n",
            "232:\tlearn: 0.0255500\ttotal: 2m 12s\tremaining: 1m 35s\n",
            "233:\tlearn: 0.0254993\ttotal: 2m 13s\tremaining: 1m 34s\n",
            "234:\tlearn: 0.0254456\ttotal: 2m 13s\tremaining: 1m 33s\n",
            "235:\tlearn: 0.0253850\ttotal: 2m 14s\tremaining: 1m 33s\n",
            "236:\tlearn: 0.0253062\ttotal: 2m 14s\tremaining: 1m 32s\n",
            "237:\tlearn: 0.0252549\ttotal: 2m 15s\tremaining: 1m 32s\n",
            "238:\tlearn: 0.0251889\ttotal: 2m 15s\tremaining: 1m 31s\n",
            "239:\tlearn: 0.0251381\ttotal: 2m 16s\tremaining: 1m 31s\n",
            "240:\tlearn: 0.0250660\ttotal: 2m 17s\tremaining: 1m 30s\n",
            "241:\tlearn: 0.0250012\ttotal: 2m 17s\tremaining: 1m 29s\n",
            "242:\tlearn: 0.0249404\ttotal: 2m 18s\tremaining: 1m 29s\n",
            "243:\tlearn: 0.0248806\ttotal: 2m 18s\tremaining: 1m 28s\n",
            "244:\tlearn: 0.0248276\ttotal: 2m 19s\tremaining: 1m 28s\n",
            "245:\tlearn: 0.0247651\ttotal: 2m 19s\tremaining: 1m 27s\n",
            "246:\tlearn: 0.0246979\ttotal: 2m 20s\tremaining: 1m 27s\n",
            "247:\tlearn: 0.0246380\ttotal: 2m 21s\tremaining: 1m 26s\n",
            "248:\tlearn: 0.0245856\ttotal: 2m 21s\tremaining: 1m 25s\n",
            "249:\tlearn: 0.0245312\ttotal: 2m 22s\tremaining: 1m 25s\n",
            "250:\tlearn: 0.0244783\ttotal: 2m 22s\tremaining: 1m 24s\n",
            "251:\tlearn: 0.0244383\ttotal: 2m 23s\tremaining: 1m 24s\n",
            "252:\tlearn: 0.0243847\ttotal: 2m 23s\tremaining: 1m 23s\n",
            "253:\tlearn: 0.0243246\ttotal: 2m 24s\tremaining: 1m 23s\n",
            "254:\tlearn: 0.0242867\ttotal: 2m 25s\tremaining: 1m 22s\n",
            "255:\tlearn: 0.0242257\ttotal: 2m 25s\tremaining: 1m 21s\n",
            "256:\tlearn: 0.0241906\ttotal: 2m 26s\tremaining: 1m 21s\n",
            "257:\tlearn: 0.0241207\ttotal: 2m 26s\tremaining: 1m 20s\n",
            "258:\tlearn: 0.0240696\ttotal: 2m 27s\tremaining: 1m 20s\n",
            "259:\tlearn: 0.0240142\ttotal: 2m 28s\tremaining: 1m 19s\n",
            "260:\tlearn: 0.0239613\ttotal: 2m 28s\tremaining: 1m 19s\n",
            "261:\tlearn: 0.0239004\ttotal: 2m 29s\tremaining: 1m 18s\n",
            "262:\tlearn: 0.0238364\ttotal: 2m 29s\tremaining: 1m 18s\n",
            "263:\tlearn: 0.0237875\ttotal: 2m 30s\tremaining: 1m 17s\n",
            "264:\tlearn: 0.0237398\ttotal: 2m 30s\tremaining: 1m 16s\n",
            "265:\tlearn: 0.0236784\ttotal: 2m 31s\tremaining: 1m 16s\n",
            "266:\tlearn: 0.0236316\ttotal: 2m 32s\tremaining: 1m 15s\n",
            "267:\tlearn: 0.0235855\ttotal: 2m 32s\tremaining: 1m 15s\n",
            "268:\tlearn: 0.0235446\ttotal: 2m 33s\tremaining: 1m 14s\n",
            "269:\tlearn: 0.0235031\ttotal: 2m 33s\tremaining: 1m 14s\n",
            "270:\tlearn: 0.0234532\ttotal: 2m 34s\tremaining: 1m 13s\n",
            "271:\tlearn: 0.0234086\ttotal: 2m 34s\tremaining: 1m 12s\n",
            "272:\tlearn: 0.0233567\ttotal: 2m 35s\tremaining: 1m 12s\n",
            "273:\tlearn: 0.0233006\ttotal: 2m 36s\tremaining: 1m 11s\n",
            "274:\tlearn: 0.0232470\ttotal: 2m 36s\tremaining: 1m 11s\n",
            "275:\tlearn: 0.0232036\ttotal: 2m 37s\tremaining: 1m 10s\n",
            "276:\tlearn: 0.0231500\ttotal: 2m 37s\tremaining: 1m 10s\n",
            "277:\tlearn: 0.0231099\ttotal: 2m 38s\tremaining: 1m 9s\n",
            "278:\tlearn: 0.0230591\ttotal: 2m 38s\tremaining: 1m 8s\n",
            "279:\tlearn: 0.0230097\ttotal: 2m 39s\tremaining: 1m 8s\n",
            "280:\tlearn: 0.0229518\ttotal: 2m 39s\tremaining: 1m 7s\n",
            "281:\tlearn: 0.0228995\ttotal: 2m 40s\tremaining: 1m 7s\n",
            "282:\tlearn: 0.0228248\ttotal: 2m 41s\tremaining: 1m 6s\n",
            "283:\tlearn: 0.0227748\ttotal: 2m 41s\tremaining: 1m 6s\n",
            "284:\tlearn: 0.0227330\ttotal: 2m 42s\tremaining: 1m 5s\n",
            "285:\tlearn: 0.0226839\ttotal: 2m 42s\tremaining: 1m 4s\n",
            "286:\tlearn: 0.0226327\ttotal: 2m 43s\tremaining: 1m 4s\n",
            "287:\tlearn: 0.0225904\ttotal: 2m 43s\tremaining: 1m 3s\n",
            "288:\tlearn: 0.0225487\ttotal: 2m 44s\tremaining: 1m 3s\n",
            "289:\tlearn: 0.0225116\ttotal: 2m 45s\tremaining: 1m 2s\n",
            "290:\tlearn: 0.0224721\ttotal: 2m 45s\tremaining: 1m 2s\n",
            "291:\tlearn: 0.0224383\ttotal: 2m 46s\tremaining: 1m 1s\n",
            "292:\tlearn: 0.0223996\ttotal: 2m 46s\tremaining: 1m\n",
            "293:\tlearn: 0.0223558\ttotal: 2m 47s\tremaining: 1m\n",
            "294:\tlearn: 0.0223082\ttotal: 2m 47s\tremaining: 59.8s\n",
            "295:\tlearn: 0.0222638\ttotal: 2m 48s\tremaining: 59.2s\n",
            "296:\tlearn: 0.0222188\ttotal: 2m 49s\tremaining: 58.6s\n",
            "297:\tlearn: 0.0221803\ttotal: 2m 49s\tremaining: 58.1s\n",
            "298:\tlearn: 0.0221544\ttotal: 2m 50s\tremaining: 57.5s\n",
            "299:\tlearn: 0.0221172\ttotal: 2m 50s\tremaining: 56.9s\n",
            "300:\tlearn: 0.0220759\ttotal: 2m 51s\tremaining: 56.4s\n",
            "301:\tlearn: 0.0220318\ttotal: 2m 51s\tremaining: 55.8s\n",
            "302:\tlearn: 0.0219990\ttotal: 2m 52s\tremaining: 55.2s\n",
            "303:\tlearn: 0.0219398\ttotal: 2m 53s\tremaining: 54.7s\n",
            "304:\tlearn: 0.0219036\ttotal: 2m 53s\tremaining: 54.1s\n",
            "305:\tlearn: 0.0218601\ttotal: 2m 54s\tremaining: 53.5s\n",
            "306:\tlearn: 0.0218238\ttotal: 2m 54s\tremaining: 53s\n",
            "307:\tlearn: 0.0217753\ttotal: 2m 55s\tremaining: 52.4s\n",
            "308:\tlearn: 0.0217371\ttotal: 2m 56s\tremaining: 51.9s\n",
            "309:\tlearn: 0.0216870\ttotal: 2m 56s\tremaining: 51.3s\n",
            "310:\tlearn: 0.0216478\ttotal: 2m 57s\tremaining: 50.7s\n",
            "311:\tlearn: 0.0216069\ttotal: 2m 57s\tremaining: 50.2s\n",
            "312:\tlearn: 0.0215634\ttotal: 2m 58s\tremaining: 49.6s\n",
            "313:\tlearn: 0.0215258\ttotal: 2m 59s\tremaining: 49.1s\n",
            "314:\tlearn: 0.0214737\ttotal: 2m 59s\tremaining: 48.5s\n",
            "315:\tlearn: 0.0214442\ttotal: 3m\tremaining: 47.9s\n",
            "316:\tlearn: 0.0214026\ttotal: 3m\tremaining: 47.3s\n",
            "317:\tlearn: 0.0213678\ttotal: 3m 1s\tremaining: 46.8s\n",
            "318:\tlearn: 0.0213240\ttotal: 3m 2s\tremaining: 46.2s\n",
            "319:\tlearn: 0.0212864\ttotal: 3m 2s\tremaining: 45.6s\n",
            "320:\tlearn: 0.0212406\ttotal: 3m 3s\tremaining: 45.1s\n",
            "321:\tlearn: 0.0212029\ttotal: 3m 3s\tremaining: 44.5s\n",
            "322:\tlearn: 0.0211663\ttotal: 3m 4s\tremaining: 43.9s\n",
            "323:\tlearn: 0.0211290\ttotal: 3m 4s\tremaining: 43.4s\n",
            "324:\tlearn: 0.0210905\ttotal: 3m 5s\tremaining: 42.8s\n",
            "325:\tlearn: 0.0210447\ttotal: 3m 5s\tremaining: 42.2s\n",
            "326:\tlearn: 0.0210066\ttotal: 3m 6s\tremaining: 41.7s\n",
            "327:\tlearn: 0.0209755\ttotal: 3m 7s\tremaining: 41.1s\n",
            "328:\tlearn: 0.0209397\ttotal: 3m 7s\tremaining: 40.5s\n",
            "329:\tlearn: 0.0208838\ttotal: 3m 8s\tremaining: 39.9s\n",
            "330:\tlearn: 0.0208484\ttotal: 3m 8s\tremaining: 39.4s\n",
            "331:\tlearn: 0.0208119\ttotal: 3m 9s\tremaining: 38.8s\n",
            "332:\tlearn: 0.0207722\ttotal: 3m 9s\tremaining: 38.2s\n",
            "333:\tlearn: 0.0207348\ttotal: 3m 10s\tremaining: 37.7s\n",
            "334:\tlearn: 0.0206987\ttotal: 3m 11s\tremaining: 37.1s\n",
            "335:\tlearn: 0.0206585\ttotal: 3m 11s\tremaining: 36.5s\n",
            "336:\tlearn: 0.0206242\ttotal: 3m 12s\tremaining: 35.9s\n",
            "337:\tlearn: 0.0205878\ttotal: 3m 12s\tremaining: 35.4s\n",
            "338:\tlearn: 0.0205641\ttotal: 3m 13s\tremaining: 34.8s\n",
            "339:\tlearn: 0.0205345\ttotal: 3m 13s\tremaining: 34.2s\n",
            "340:\tlearn: 0.0205095\ttotal: 3m 14s\tremaining: 33.7s\n",
            "341:\tlearn: 0.0204679\ttotal: 3m 15s\tremaining: 33.1s\n",
            "342:\tlearn: 0.0204312\ttotal: 3m 15s\tremaining: 32.5s\n",
            "343:\tlearn: 0.0203931\ttotal: 3m 16s\tremaining: 31.9s\n",
            "344:\tlearn: 0.0203650\ttotal: 3m 16s\tremaining: 31.4s\n",
            "345:\tlearn: 0.0203349\ttotal: 3m 17s\tremaining: 30.8s\n",
            "346:\tlearn: 0.0203032\ttotal: 3m 17s\tremaining: 30.2s\n",
            "347:\tlearn: 0.0202665\ttotal: 3m 18s\tremaining: 29.7s\n",
            "348:\tlearn: 0.0202350\ttotal: 3m 19s\tremaining: 29.1s\n",
            "349:\tlearn: 0.0202071\ttotal: 3m 19s\tremaining: 28.5s\n",
            "350:\tlearn: 0.0201740\ttotal: 3m 20s\tremaining: 28s\n",
            "351:\tlearn: 0.0201428\ttotal: 3m 20s\tremaining: 27.4s\n",
            "352:\tlearn: 0.0201168\ttotal: 3m 21s\tremaining: 26.8s\n",
            "353:\tlearn: 0.0200835\ttotal: 3m 21s\tremaining: 26.2s\n",
            "354:\tlearn: 0.0200506\ttotal: 3m 22s\tremaining: 25.7s\n",
            "355:\tlearn: 0.0200263\ttotal: 3m 23s\tremaining: 25.1s\n",
            "356:\tlearn: 0.0199964\ttotal: 3m 23s\tremaining: 24.5s\n",
            "357:\tlearn: 0.0199676\ttotal: 3m 24s\tremaining: 24s\n",
            "358:\tlearn: 0.0199338\ttotal: 3m 24s\tremaining: 23.4s\n",
            "359:\tlearn: 0.0198982\ttotal: 3m 25s\tremaining: 22.8s\n",
            "360:\tlearn: 0.0198682\ttotal: 3m 25s\tremaining: 22.2s\n",
            "361:\tlearn: 0.0198412\ttotal: 3m 26s\tremaining: 21.7s\n",
            "362:\tlearn: 0.0198111\ttotal: 3m 27s\tremaining: 21.1s\n",
            "363:\tlearn: 0.0197887\ttotal: 3m 27s\tremaining: 20.5s\n",
            "364:\tlearn: 0.0197613\ttotal: 3m 28s\tremaining: 20s\n",
            "365:\tlearn: 0.0197306\ttotal: 3m 28s\tremaining: 19.4s\n",
            "366:\tlearn: 0.0197060\ttotal: 3m 29s\tremaining: 18.8s\n",
            "367:\tlearn: 0.0196803\ttotal: 3m 29s\tremaining: 18.2s\n",
            "368:\tlearn: 0.0196442\ttotal: 3m 30s\tremaining: 17.7s\n",
            "369:\tlearn: 0.0196170\ttotal: 3m 30s\tremaining: 17.1s\n",
            "370:\tlearn: 0.0195872\ttotal: 3m 31s\tremaining: 16.5s\n",
            "371:\tlearn: 0.0195449\ttotal: 3m 32s\tremaining: 16s\n",
            "372:\tlearn: 0.0195120\ttotal: 3m 32s\tremaining: 15.4s\n",
            "373:\tlearn: 0.0194873\ttotal: 3m 33s\tremaining: 14.8s\n",
            "374:\tlearn: 0.0194674\ttotal: 3m 33s\tremaining: 14.3s\n",
            "375:\tlearn: 0.0194425\ttotal: 3m 34s\tremaining: 13.7s\n",
            "376:\tlearn: 0.0194155\ttotal: 3m 34s\tremaining: 13.1s\n",
            "377:\tlearn: 0.0193908\ttotal: 3m 35s\tremaining: 12.5s\n",
            "378:\tlearn: 0.0193637\ttotal: 3m 36s\tremaining: 12s\n",
            "379:\tlearn: 0.0193425\ttotal: 3m 36s\tremaining: 11.4s\n",
            "380:\tlearn: 0.0193265\ttotal: 3m 37s\tremaining: 10.8s\n",
            "381:\tlearn: 0.0192865\ttotal: 3m 37s\tremaining: 10.3s\n",
            "382:\tlearn: 0.0192639\ttotal: 3m 38s\tremaining: 9.69s\n",
            "383:\tlearn: 0.0192414\ttotal: 3m 38s\tremaining: 9.12s\n",
            "384:\tlearn: 0.0192118\ttotal: 3m 39s\tremaining: 8.55s\n",
            "385:\tlearn: 0.0191929\ttotal: 3m 40s\tremaining: 7.98s\n",
            "386:\tlearn: 0.0191674\ttotal: 3m 40s\tremaining: 7.41s\n",
            "387:\tlearn: 0.0191457\ttotal: 3m 41s\tremaining: 6.84s\n",
            "388:\tlearn: 0.0191213\ttotal: 3m 41s\tremaining: 6.27s\n",
            "389:\tlearn: 0.0190991\ttotal: 3m 42s\tremaining: 5.7s\n",
            "390:\tlearn: 0.0190704\ttotal: 3m 42s\tremaining: 5.13s\n",
            "391:\tlearn: 0.0190403\ttotal: 3m 43s\tremaining: 4.56s\n",
            "392:\tlearn: 0.0190200\ttotal: 3m 43s\tremaining: 3.99s\n",
            "393:\tlearn: 0.0189981\ttotal: 3m 44s\tremaining: 3.42s\n",
            "394:\tlearn: 0.0189757\ttotal: 3m 45s\tremaining: 2.85s\n",
            "395:\tlearn: 0.0189535\ttotal: 3m 45s\tremaining: 2.28s\n",
            "396:\tlearn: 0.0189267\ttotal: 3m 46s\tremaining: 1.71s\n",
            "397:\tlearn: 0.0189007\ttotal: 3m 46s\tremaining: 1.14s\n",
            "398:\tlearn: 0.0188806\ttotal: 3m 47s\tremaining: 570ms\n",
            "399:\tlearn: 0.0188626\ttotal: 3m 47s\tremaining: 0us\n",
            "Learning rate set to 0.286357\n",
            "0:\tlearn: 0.7279827\ttotal: 573ms\tremaining: 3m 48s\n",
            "1:\tlearn: 0.5346955\ttotal: 1.12s\tremaining: 3m 43s\n",
            "2:\tlearn: 0.3971805\ttotal: 1.69s\tremaining: 3m 43s\n",
            "3:\tlearn: 0.2992506\ttotal: 2.24s\tremaining: 3m 41s\n",
            "4:\tlearn: 0.2300450\ttotal: 2.79s\tremaining: 3m 40s\n",
            "5:\tlearn: 0.1816424\ttotal: 3.36s\tremaining: 3m 40s\n",
            "6:\tlearn: 0.1490037\ttotal: 3.92s\tremaining: 3m 40s\n",
            "7:\tlearn: 0.1265826\ttotal: 4.49s\tremaining: 3m 39s\n",
            "8:\tlearn: 0.1111816\ttotal: 5.05s\tremaining: 3m 39s\n",
            "9:\tlearn: 0.1009614\ttotal: 5.62s\tremaining: 3m 39s\n",
            "10:\tlearn: 0.0940276\ttotal: 6.19s\tremaining: 3m 38s\n",
            "11:\tlearn: 0.0886123\ttotal: 6.76s\tremaining: 3m 38s\n",
            "12:\tlearn: 0.0852603\ttotal: 7.32s\tremaining: 3m 37s\n",
            "13:\tlearn: 0.0824285\ttotal: 7.87s\tremaining: 3m 36s\n",
            "14:\tlearn: 0.0802801\ttotal: 8.43s\tremaining: 3m 36s\n",
            "15:\tlearn: 0.0783857\ttotal: 8.98s\tremaining: 3m 35s\n",
            "16:\tlearn: 0.0769379\ttotal: 9.55s\tremaining: 3m 35s\n",
            "17:\tlearn: 0.0750989\ttotal: 10.1s\tremaining: 3m 34s\n",
            "18:\tlearn: 0.0735399\ttotal: 10.7s\tremaining: 3m 34s\n",
            "19:\tlearn: 0.0722936\ttotal: 11.2s\tremaining: 3m 33s\n",
            "20:\tlearn: 0.0710960\ttotal: 11.8s\tremaining: 3m 33s\n",
            "21:\tlearn: 0.0699510\ttotal: 12.4s\tremaining: 3m 32s\n",
            "22:\tlearn: 0.0691800\ttotal: 12.9s\tremaining: 3m 32s\n",
            "23:\tlearn: 0.0683641\ttotal: 13.5s\tremaining: 3m 31s\n",
            "24:\tlearn: 0.0675365\ttotal: 14.1s\tremaining: 3m 30s\n",
            "25:\tlearn: 0.0668504\ttotal: 14.6s\tremaining: 3m 30s\n",
            "26:\tlearn: 0.0659765\ttotal: 15.2s\tremaining: 3m 29s\n",
            "27:\tlearn: 0.0653852\ttotal: 15.8s\tremaining: 3m 29s\n",
            "28:\tlearn: 0.0643537\ttotal: 16.3s\tremaining: 3m 28s\n",
            "29:\tlearn: 0.0635653\ttotal: 16.9s\tremaining: 3m 28s\n",
            "30:\tlearn: 0.0629082\ttotal: 17.5s\tremaining: 3m 28s\n",
            "31:\tlearn: 0.0621816\ttotal: 18s\tremaining: 3m 27s\n",
            "32:\tlearn: 0.0616221\ttotal: 18.6s\tremaining: 3m 27s\n",
            "33:\tlearn: 0.0608054\ttotal: 19.2s\tremaining: 3m 26s\n",
            "34:\tlearn: 0.0601940\ttotal: 19.7s\tremaining: 3m 25s\n",
            "35:\tlearn: 0.0596700\ttotal: 20.3s\tremaining: 3m 25s\n",
            "36:\tlearn: 0.0591510\ttotal: 20.9s\tremaining: 3m 24s\n",
            "37:\tlearn: 0.0585702\ttotal: 21.4s\tremaining: 3m 24s\n",
            "38:\tlearn: 0.0580738\ttotal: 22s\tremaining: 3m 23s\n",
            "39:\tlearn: 0.0576829\ttotal: 22.6s\tremaining: 3m 23s\n",
            "40:\tlearn: 0.0572761\ttotal: 23.1s\tremaining: 3m 22s\n",
            "41:\tlearn: 0.0568286\ttotal: 23.7s\tremaining: 3m 22s\n",
            "42:\tlearn: 0.0563653\ttotal: 24.3s\tremaining: 3m 21s\n",
            "43:\tlearn: 0.0560735\ttotal: 24.9s\tremaining: 3m 21s\n",
            "44:\tlearn: 0.0556541\ttotal: 25.4s\tremaining: 3m 20s\n",
            "45:\tlearn: 0.0550562\ttotal: 26s\tremaining: 3m 20s\n",
            "46:\tlearn: 0.0545639\ttotal: 26.6s\tremaining: 3m 19s\n",
            "47:\tlearn: 0.0540340\ttotal: 27.2s\tremaining: 3m 19s\n",
            "48:\tlearn: 0.0535099\ttotal: 27.7s\tremaining: 3m 18s\n",
            "49:\tlearn: 0.0530868\ttotal: 28.3s\tremaining: 3m 18s\n",
            "50:\tlearn: 0.0528266\ttotal: 28.9s\tremaining: 3m 17s\n",
            "51:\tlearn: 0.0524069\ttotal: 29.5s\tremaining: 3m 17s\n",
            "52:\tlearn: 0.0520256\ttotal: 30s\tremaining: 3m 16s\n",
            "53:\tlearn: 0.0516888\ttotal: 30.6s\tremaining: 3m 16s\n",
            "54:\tlearn: 0.0513357\ttotal: 31.2s\tremaining: 3m 15s\n",
            "55:\tlearn: 0.0509691\ttotal: 31.7s\tremaining: 3m 14s\n",
            "56:\tlearn: 0.0505930\ttotal: 32.3s\tremaining: 3m 14s\n",
            "57:\tlearn: 0.0501971\ttotal: 32.9s\tremaining: 3m 13s\n",
            "58:\tlearn: 0.0498643\ttotal: 33.5s\tremaining: 3m 13s\n",
            "59:\tlearn: 0.0495415\ttotal: 34s\tremaining: 3m 12s\n",
            "60:\tlearn: 0.0492149\ttotal: 34.6s\tremaining: 3m 12s\n",
            "61:\tlearn: 0.0489247\ttotal: 35.2s\tremaining: 3m 11s\n",
            "62:\tlearn: 0.0485529\ttotal: 35.7s\tremaining: 3m 11s\n",
            "63:\tlearn: 0.0482973\ttotal: 36.3s\tremaining: 3m 10s\n",
            "64:\tlearn: 0.0479463\ttotal: 36.9s\tremaining: 3m 10s\n",
            "65:\tlearn: 0.0476152\ttotal: 37.5s\tremaining: 3m 9s\n",
            "66:\tlearn: 0.0473932\ttotal: 38s\tremaining: 3m 9s\n",
            "67:\tlearn: 0.0471042\ttotal: 38.6s\tremaining: 3m 8s\n",
            "68:\tlearn: 0.0468019\ttotal: 39.2s\tremaining: 3m 7s\n",
            "69:\tlearn: 0.0465547\ttotal: 39.7s\tremaining: 3m 7s\n",
            "70:\tlearn: 0.0462832\ttotal: 40.3s\tremaining: 3m 6s\n",
            "71:\tlearn: 0.0459752\ttotal: 40.9s\tremaining: 3m 6s\n",
            "72:\tlearn: 0.0457017\ttotal: 41.5s\tremaining: 3m 5s\n",
            "73:\tlearn: 0.0454684\ttotal: 42.1s\tremaining: 3m 5s\n",
            "74:\tlearn: 0.0451894\ttotal: 42.7s\tremaining: 3m 5s\n",
            "75:\tlearn: 0.0449279\ttotal: 43.3s\tremaining: 3m 4s\n",
            "76:\tlearn: 0.0446883\ttotal: 43.9s\tremaining: 3m 4s\n",
            "77:\tlearn: 0.0443960\ttotal: 44.6s\tremaining: 3m 3s\n",
            "78:\tlearn: 0.0440912\ttotal: 45.1s\tremaining: 3m 3s\n",
            "79:\tlearn: 0.0438526\ttotal: 45.7s\tremaining: 3m 2s\n",
            "80:\tlearn: 0.0436038\ttotal: 46.3s\tremaining: 3m 2s\n",
            "81:\tlearn: 0.0433613\ttotal: 46.9s\tremaining: 3m 1s\n",
            "82:\tlearn: 0.0430942\ttotal: 47.4s\tremaining: 3m 1s\n",
            "83:\tlearn: 0.0428587\ttotal: 48s\tremaining: 3m\n",
            "84:\tlearn: 0.0426361\ttotal: 48.6s\tremaining: 3m\n",
            "85:\tlearn: 0.0424402\ttotal: 49.1s\tremaining: 2m 59s\n",
            "86:\tlearn: 0.0422165\ttotal: 49.7s\tremaining: 2m 58s\n",
            "87:\tlearn: 0.0419402\ttotal: 50.3s\tremaining: 2m 58s\n",
            "88:\tlearn: 0.0417200\ttotal: 50.9s\tremaining: 2m 57s\n",
            "89:\tlearn: 0.0414787\ttotal: 51.4s\tremaining: 2m 57s\n",
            "90:\tlearn: 0.0412535\ttotal: 52s\tremaining: 2m 56s\n",
            "91:\tlearn: 0.0410550\ttotal: 52.6s\tremaining: 2m 56s\n",
            "92:\tlearn: 0.0408261\ttotal: 53.1s\tremaining: 2m 55s\n",
            "93:\tlearn: 0.0406202\ttotal: 53.7s\tremaining: 2m 54s\n",
            "94:\tlearn: 0.0404588\ttotal: 54.3s\tremaining: 2m 54s\n",
            "95:\tlearn: 0.0402174\ttotal: 54.9s\tremaining: 2m 53s\n",
            "96:\tlearn: 0.0400553\ttotal: 55.4s\tremaining: 2m 53s\n",
            "97:\tlearn: 0.0398717\ttotal: 56s\tremaining: 2m 52s\n",
            "98:\tlearn: 0.0396467\ttotal: 56.6s\tremaining: 2m 52s\n",
            "99:\tlearn: 0.0394491\ttotal: 57.2s\tremaining: 2m 51s\n",
            "100:\tlearn: 0.0392416\ttotal: 57.8s\tremaining: 2m 51s\n",
            "101:\tlearn: 0.0390559\ttotal: 58.3s\tremaining: 2m 50s\n",
            "102:\tlearn: 0.0388690\ttotal: 58.9s\tremaining: 2m 49s\n",
            "103:\tlearn: 0.0386645\ttotal: 59.5s\tremaining: 2m 49s\n",
            "104:\tlearn: 0.0384786\ttotal: 1m\tremaining: 2m 48s\n",
            "105:\tlearn: 0.0382881\ttotal: 1m\tremaining: 2m 48s\n",
            "106:\tlearn: 0.0381231\ttotal: 1m 1s\tremaining: 2m 47s\n",
            "107:\tlearn: 0.0379657\ttotal: 1m 1s\tremaining: 2m 47s\n",
            "108:\tlearn: 0.0377697\ttotal: 1m 2s\tremaining: 2m 46s\n",
            "109:\tlearn: 0.0376119\ttotal: 1m 2s\tremaining: 2m 45s\n",
            "110:\tlearn: 0.0374178\ttotal: 1m 3s\tremaining: 2m 45s\n",
            "111:\tlearn: 0.0372423\ttotal: 1m 4s\tremaining: 2m 44s\n",
            "112:\tlearn: 0.0370842\ttotal: 1m 4s\tremaining: 2m 44s\n",
            "113:\tlearn: 0.0369152\ttotal: 1m 5s\tremaining: 2m 43s\n",
            "114:\tlearn: 0.0367624\ttotal: 1m 5s\tremaining: 2m 43s\n",
            "115:\tlearn: 0.0365547\ttotal: 1m 6s\tremaining: 2m 42s\n",
            "116:\tlearn: 0.0363639\ttotal: 1m 6s\tremaining: 2m 41s\n",
            "117:\tlearn: 0.0361891\ttotal: 1m 7s\tremaining: 2m 41s\n",
            "118:\tlearn: 0.0360231\ttotal: 1m 8s\tremaining: 2m 40s\n",
            "119:\tlearn: 0.0358494\ttotal: 1m 8s\tremaining: 2m 40s\n",
            "120:\tlearn: 0.0356866\ttotal: 1m 9s\tremaining: 2m 39s\n",
            "121:\tlearn: 0.0355106\ttotal: 1m 9s\tremaining: 2m 39s\n",
            "122:\tlearn: 0.0353614\ttotal: 1m 10s\tremaining: 2m 38s\n",
            "123:\tlearn: 0.0351760\ttotal: 1m 10s\tremaining: 2m 37s\n",
            "124:\tlearn: 0.0350595\ttotal: 1m 11s\tremaining: 2m 37s\n",
            "125:\tlearn: 0.0349396\ttotal: 1m 12s\tremaining: 2m 36s\n",
            "126:\tlearn: 0.0347678\ttotal: 1m 12s\tremaining: 2m 36s\n",
            "127:\tlearn: 0.0346203\ttotal: 1m 13s\tremaining: 2m 35s\n",
            "128:\tlearn: 0.0344896\ttotal: 1m 13s\tremaining: 2m 34s\n",
            "129:\tlearn: 0.0343808\ttotal: 1m 14s\tremaining: 2m 34s\n",
            "130:\tlearn: 0.0342215\ttotal: 1m 14s\tremaining: 2m 33s\n",
            "131:\tlearn: 0.0340886\ttotal: 1m 15s\tremaining: 2m 33s\n",
            "132:\tlearn: 0.0339692\ttotal: 1m 15s\tremaining: 2m 32s\n",
            "133:\tlearn: 0.0338087\ttotal: 1m 16s\tremaining: 2m 31s\n",
            "134:\tlearn: 0.0336963\ttotal: 1m 17s\tremaining: 2m 31s\n",
            "135:\tlearn: 0.0335565\ttotal: 1m 17s\tremaining: 2m 30s\n",
            "136:\tlearn: 0.0334227\ttotal: 1m 18s\tremaining: 2m 30s\n",
            "137:\tlearn: 0.0332793\ttotal: 1m 18s\tremaining: 2m 29s\n",
            "138:\tlearn: 0.0331647\ttotal: 1m 19s\tremaining: 2m 29s\n",
            "139:\tlearn: 0.0330122\ttotal: 1m 19s\tremaining: 2m 28s\n",
            "140:\tlearn: 0.0329162\ttotal: 1m 20s\tremaining: 2m 27s\n",
            "141:\tlearn: 0.0327733\ttotal: 1m 21s\tremaining: 2m 27s\n",
            "142:\tlearn: 0.0326551\ttotal: 1m 21s\tremaining: 2m 26s\n",
            "143:\tlearn: 0.0325586\ttotal: 1m 22s\tremaining: 2m 26s\n",
            "144:\tlearn: 0.0324374\ttotal: 1m 22s\tremaining: 2m 25s\n",
            "145:\tlearn: 0.0323117\ttotal: 1m 23s\tremaining: 2m 24s\n",
            "146:\tlearn: 0.0321581\ttotal: 1m 23s\tremaining: 2m 24s\n",
            "147:\tlearn: 0.0320390\ttotal: 1m 24s\tremaining: 2m 23s\n",
            "148:\tlearn: 0.0319155\ttotal: 1m 25s\tremaining: 2m 23s\n",
            "149:\tlearn: 0.0318044\ttotal: 1m 25s\tremaining: 2m 22s\n",
            "150:\tlearn: 0.0316949\ttotal: 1m 26s\tremaining: 2m 22s\n",
            "151:\tlearn: 0.0315928\ttotal: 1m 26s\tremaining: 2m 21s\n",
            "152:\tlearn: 0.0314838\ttotal: 1m 27s\tremaining: 2m 21s\n",
            "153:\tlearn: 0.0313784\ttotal: 1m 27s\tremaining: 2m 20s\n",
            "154:\tlearn: 0.0312812\ttotal: 1m 28s\tremaining: 2m 19s\n",
            "155:\tlearn: 0.0311620\ttotal: 1m 29s\tremaining: 2m 19s\n",
            "156:\tlearn: 0.0310586\ttotal: 1m 29s\tremaining: 2m 18s\n",
            "157:\tlearn: 0.0309287\ttotal: 1m 30s\tremaining: 2m 18s\n",
            "158:\tlearn: 0.0308372\ttotal: 1m 30s\tremaining: 2m 17s\n",
            "159:\tlearn: 0.0307363\ttotal: 1m 31s\tremaining: 2m 17s\n",
            "160:\tlearn: 0.0305951\ttotal: 1m 31s\tremaining: 2m 16s\n",
            "161:\tlearn: 0.0304697\ttotal: 1m 32s\tremaining: 2m 15s\n",
            "162:\tlearn: 0.0303431\ttotal: 1m 33s\tremaining: 2m 15s\n",
            "163:\tlearn: 0.0302227\ttotal: 1m 33s\tremaining: 2m 14s\n",
            "164:\tlearn: 0.0301232\ttotal: 1m 34s\tremaining: 2m 14s\n",
            "165:\tlearn: 0.0300233\ttotal: 1m 34s\tremaining: 2m 13s\n",
            "166:\tlearn: 0.0299327\ttotal: 1m 35s\tremaining: 2m 12s\n",
            "167:\tlearn: 0.0298242\ttotal: 1m 35s\tremaining: 2m 12s\n",
            "168:\tlearn: 0.0297319\ttotal: 1m 36s\tremaining: 2m 11s\n",
            "169:\tlearn: 0.0296627\ttotal: 1m 37s\tremaining: 2m 11s\n",
            "170:\tlearn: 0.0296001\ttotal: 1m 37s\tremaining: 2m 10s\n",
            "171:\tlearn: 0.0294865\ttotal: 1m 38s\tremaining: 2m 10s\n",
            "172:\tlearn: 0.0293915\ttotal: 1m 38s\tremaining: 2m 9s\n",
            "173:\tlearn: 0.0292610\ttotal: 1m 39s\tremaining: 2m 8s\n",
            "174:\tlearn: 0.0291715\ttotal: 1m 39s\tremaining: 2m 8s\n",
            "175:\tlearn: 0.0290914\ttotal: 1m 40s\tremaining: 2m 7s\n",
            "176:\tlearn: 0.0290095\ttotal: 1m 40s\tremaining: 2m 7s\n",
            "177:\tlearn: 0.0289300\ttotal: 1m 41s\tremaining: 2m 6s\n",
            "178:\tlearn: 0.0288278\ttotal: 1m 42s\tremaining: 2m 6s\n",
            "179:\tlearn: 0.0287393\ttotal: 1m 42s\tremaining: 2m 5s\n",
            "180:\tlearn: 0.0286586\ttotal: 1m 43s\tremaining: 2m 5s\n",
            "181:\tlearn: 0.0285715\ttotal: 1m 44s\tremaining: 2m 4s\n",
            "182:\tlearn: 0.0284938\ttotal: 1m 44s\tremaining: 2m 4s\n",
            "183:\tlearn: 0.0283984\ttotal: 1m 45s\tremaining: 2m 3s\n",
            "184:\tlearn: 0.0283243\ttotal: 1m 45s\tremaining: 2m 2s\n",
            "185:\tlearn: 0.0282320\ttotal: 1m 46s\tremaining: 2m 2s\n",
            "186:\tlearn: 0.0281472\ttotal: 1m 46s\tremaining: 2m 1s\n",
            "187:\tlearn: 0.0280775\ttotal: 1m 47s\tremaining: 2m 1s\n",
            "188:\tlearn: 0.0279686\ttotal: 1m 48s\tremaining: 2m\n",
            "189:\tlearn: 0.0278807\ttotal: 1m 48s\tremaining: 2m\n",
            "190:\tlearn: 0.0278068\ttotal: 1m 49s\tremaining: 1m 59s\n",
            "191:\tlearn: 0.0277439\ttotal: 1m 49s\tremaining: 1m 58s\n",
            "192:\tlearn: 0.0276770\ttotal: 1m 50s\tremaining: 1m 58s\n",
            "193:\tlearn: 0.0275966\ttotal: 1m 50s\tremaining: 1m 57s\n",
            "194:\tlearn: 0.0275194\ttotal: 1m 51s\tremaining: 1m 57s\n",
            "195:\tlearn: 0.0274480\ttotal: 1m 52s\tremaining: 1m 56s\n",
            "196:\tlearn: 0.0273864\ttotal: 1m 52s\tremaining: 1m 56s\n",
            "197:\tlearn: 0.0273164\ttotal: 1m 53s\tremaining: 1m 55s\n",
            "198:\tlearn: 0.0272374\ttotal: 1m 53s\tremaining: 1m 54s\n",
            "199:\tlearn: 0.0271762\ttotal: 1m 54s\tremaining: 1m 54s\n",
            "200:\tlearn: 0.0270988\ttotal: 1m 54s\tremaining: 1m 53s\n",
            "201:\tlearn: 0.0270016\ttotal: 1m 55s\tremaining: 1m 53s\n",
            "202:\tlearn: 0.0269173\ttotal: 1m 56s\tremaining: 1m 52s\n",
            "203:\tlearn: 0.0268417\ttotal: 1m 56s\tremaining: 1m 52s\n",
            "204:\tlearn: 0.0267726\ttotal: 1m 57s\tremaining: 1m 51s\n",
            "205:\tlearn: 0.0267003\ttotal: 1m 57s\tremaining: 1m 50s\n",
            "206:\tlearn: 0.0266133\ttotal: 1m 58s\tremaining: 1m 50s\n",
            "207:\tlearn: 0.0265447\ttotal: 1m 58s\tremaining: 1m 49s\n",
            "208:\tlearn: 0.0264553\ttotal: 1m 59s\tremaining: 1m 49s\n",
            "209:\tlearn: 0.0263804\ttotal: 2m\tremaining: 1m 48s\n",
            "210:\tlearn: 0.0263026\ttotal: 2m\tremaining: 1m 48s\n",
            "211:\tlearn: 0.0262403\ttotal: 2m 1s\tremaining: 1m 47s\n",
            "212:\tlearn: 0.0261634\ttotal: 2m 1s\tremaining: 1m 46s\n",
            "213:\tlearn: 0.0261013\ttotal: 2m 2s\tremaining: 1m 46s\n",
            "214:\tlearn: 0.0260146\ttotal: 2m 2s\tremaining: 1m 45s\n",
            "215:\tlearn: 0.0259308\ttotal: 2m 3s\tremaining: 1m 45s\n",
            "216:\tlearn: 0.0258634\ttotal: 2m 3s\tremaining: 1m 44s\n",
            "217:\tlearn: 0.0257959\ttotal: 2m 4s\tremaining: 1m 43s\n",
            "218:\tlearn: 0.0257156\ttotal: 2m 5s\tremaining: 1m 43s\n",
            "219:\tlearn: 0.0256543\ttotal: 2m 5s\tremaining: 1m 42s\n",
            "220:\tlearn: 0.0255849\ttotal: 2m 6s\tremaining: 1m 42s\n",
            "221:\tlearn: 0.0255114\ttotal: 2m 6s\tremaining: 1m 41s\n",
            "222:\tlearn: 0.0254499\ttotal: 2m 7s\tremaining: 1m 41s\n",
            "223:\tlearn: 0.0253795\ttotal: 2m 7s\tremaining: 1m 40s\n",
            "224:\tlearn: 0.0253139\ttotal: 2m 8s\tremaining: 1m 39s\n",
            "225:\tlearn: 0.0252458\ttotal: 2m 9s\tremaining: 1m 39s\n",
            "226:\tlearn: 0.0251782\ttotal: 2m 9s\tremaining: 1m 38s\n",
            "227:\tlearn: 0.0251169\ttotal: 2m 10s\tremaining: 1m 38s\n",
            "228:\tlearn: 0.0250585\ttotal: 2m 10s\tremaining: 1m 37s\n",
            "229:\tlearn: 0.0249873\ttotal: 2m 11s\tremaining: 1m 37s\n",
            "230:\tlearn: 0.0249064\ttotal: 2m 11s\tremaining: 1m 36s\n",
            "231:\tlearn: 0.0248374\ttotal: 2m 12s\tremaining: 1m 35s\n",
            "232:\tlearn: 0.0247819\ttotal: 2m 13s\tremaining: 1m 35s\n",
            "233:\tlearn: 0.0247353\ttotal: 2m 13s\tremaining: 1m 34s\n",
            "234:\tlearn: 0.0246800\ttotal: 2m 14s\tremaining: 1m 34s\n",
            "235:\tlearn: 0.0246183\ttotal: 2m 14s\tremaining: 1m 33s\n",
            "236:\tlearn: 0.0245585\ttotal: 2m 15s\tremaining: 1m 33s\n",
            "237:\tlearn: 0.0244939\ttotal: 2m 15s\tremaining: 1m 32s\n",
            "238:\tlearn: 0.0244418\ttotal: 2m 16s\tremaining: 1m 31s\n",
            "239:\tlearn: 0.0243696\ttotal: 2m 16s\tremaining: 1m 31s\n",
            "240:\tlearn: 0.0243078\ttotal: 2m 17s\tremaining: 1m 30s\n",
            "241:\tlearn: 0.0242463\ttotal: 2m 18s\tremaining: 1m 30s\n",
            "242:\tlearn: 0.0241941\ttotal: 2m 18s\tremaining: 1m 29s\n",
            "243:\tlearn: 0.0241320\ttotal: 2m 19s\tremaining: 1m 29s\n",
            "244:\tlearn: 0.0240828\ttotal: 2m 19s\tremaining: 1m 28s\n",
            "245:\tlearn: 0.0240237\ttotal: 2m 20s\tremaining: 1m 27s\n",
            "246:\tlearn: 0.0239744\ttotal: 2m 20s\tremaining: 1m 27s\n",
            "247:\tlearn: 0.0239183\ttotal: 2m 21s\tremaining: 1m 26s\n",
            "248:\tlearn: 0.0238597\ttotal: 2m 22s\tremaining: 1m 26s\n",
            "249:\tlearn: 0.0238095\ttotal: 2m 22s\tremaining: 1m 25s\n",
            "250:\tlearn: 0.0237570\ttotal: 2m 23s\tremaining: 1m 25s\n",
            "251:\tlearn: 0.0237110\ttotal: 2m 23s\tremaining: 1m 24s\n",
            "252:\tlearn: 0.0236488\ttotal: 2m 24s\tremaining: 1m 23s\n",
            "253:\tlearn: 0.0235937\ttotal: 2m 24s\tremaining: 1m 23s\n",
            "254:\tlearn: 0.0235385\ttotal: 2m 25s\tremaining: 1m 22s\n",
            "255:\tlearn: 0.0234910\ttotal: 2m 25s\tremaining: 1m 22s\n",
            "256:\tlearn: 0.0234426\ttotal: 2m 26s\tremaining: 1m 21s\n",
            "257:\tlearn: 0.0233865\ttotal: 2m 27s\tremaining: 1m 20s\n",
            "258:\tlearn: 0.0233401\ttotal: 2m 27s\tremaining: 1m 20s\n",
            "259:\tlearn: 0.0232917\ttotal: 2m 28s\tremaining: 1m 19s\n",
            "260:\tlearn: 0.0232375\ttotal: 2m 28s\tremaining: 1m 19s\n",
            "261:\tlearn: 0.0231877\ttotal: 2m 29s\tremaining: 1m 18s\n",
            "262:\tlearn: 0.0231454\ttotal: 2m 29s\tremaining: 1m 18s\n",
            "263:\tlearn: 0.0230924\ttotal: 2m 30s\tremaining: 1m 17s\n",
            "264:\tlearn: 0.0230475\ttotal: 2m 31s\tremaining: 1m 16s\n",
            "265:\tlearn: 0.0230040\ttotal: 2m 31s\tremaining: 1m 16s\n",
            "266:\tlearn: 0.0229523\ttotal: 2m 32s\tremaining: 1m 15s\n",
            "267:\tlearn: 0.0229033\ttotal: 2m 32s\tremaining: 1m 15s\n",
            "268:\tlearn: 0.0228622\ttotal: 2m 33s\tremaining: 1m 14s\n",
            "269:\tlearn: 0.0228047\ttotal: 2m 33s\tremaining: 1m 14s\n",
            "270:\tlearn: 0.0227660\ttotal: 2m 34s\tremaining: 1m 13s\n",
            "271:\tlearn: 0.0226923\ttotal: 2m 34s\tremaining: 1m 12s\n",
            "272:\tlearn: 0.0226337\ttotal: 2m 35s\tremaining: 1m 12s\n",
            "273:\tlearn: 0.0225841\ttotal: 2m 36s\tremaining: 1m 11s\n",
            "274:\tlearn: 0.0225405\ttotal: 2m 36s\tremaining: 1m 11s\n",
            "275:\tlearn: 0.0224898\ttotal: 2m 37s\tremaining: 1m 10s\n",
            "276:\tlearn: 0.0224407\ttotal: 2m 37s\tremaining: 1m 10s\n",
            "277:\tlearn: 0.0224001\ttotal: 2m 38s\tremaining: 1m 9s\n",
            "278:\tlearn: 0.0223570\ttotal: 2m 38s\tremaining: 1m 8s\n",
            "279:\tlearn: 0.0223076\ttotal: 2m 39s\tremaining: 1m 8s\n",
            "280:\tlearn: 0.0222572\ttotal: 2m 40s\tremaining: 1m 7s\n",
            "281:\tlearn: 0.0222116\ttotal: 2m 40s\tremaining: 1m 7s\n",
            "282:\tlearn: 0.0221716\ttotal: 2m 41s\tremaining: 1m 6s\n",
            "283:\tlearn: 0.0221152\ttotal: 2m 41s\tremaining: 1m 6s\n",
            "284:\tlearn: 0.0220703\ttotal: 2m 42s\tremaining: 1m 5s\n",
            "285:\tlearn: 0.0220275\ttotal: 2m 43s\tremaining: 1m 5s\n",
            "286:\tlearn: 0.0219903\ttotal: 2m 43s\tremaining: 1m 4s\n",
            "287:\tlearn: 0.0219470\ttotal: 2m 44s\tremaining: 1m 3s\n",
            "288:\tlearn: 0.0219010\ttotal: 2m 44s\tremaining: 1m 3s\n",
            "289:\tlearn: 0.0218535\ttotal: 2m 45s\tremaining: 1m 2s\n",
            "290:\tlearn: 0.0218068\ttotal: 2m 46s\tremaining: 1m 2s\n",
            "291:\tlearn: 0.0217589\ttotal: 2m 46s\tremaining: 1m 1s\n",
            "292:\tlearn: 0.0217209\ttotal: 2m 47s\tremaining: 1m 1s\n",
            "293:\tlearn: 0.0216827\ttotal: 2m 47s\tremaining: 1m\n",
            "294:\tlearn: 0.0216335\ttotal: 2m 48s\tremaining: 59.9s\n",
            "295:\tlearn: 0.0216003\ttotal: 2m 48s\tremaining: 59.4s\n",
            "296:\tlearn: 0.0215673\ttotal: 2m 49s\tremaining: 58.8s\n",
            "297:\tlearn: 0.0215384\ttotal: 2m 50s\tremaining: 58.2s\n",
            "298:\tlearn: 0.0214888\ttotal: 2m 50s\tremaining: 57.7s\n",
            "299:\tlearn: 0.0214468\ttotal: 2m 51s\tremaining: 57.1s\n",
            "300:\tlearn: 0.0214104\ttotal: 2m 51s\tremaining: 56.5s\n",
            "301:\tlearn: 0.0213721\ttotal: 2m 52s\tremaining: 56s\n",
            "302:\tlearn: 0.0213285\ttotal: 2m 53s\tremaining: 55.4s\n",
            "303:\tlearn: 0.0212826\ttotal: 2m 53s\tremaining: 54.8s\n",
            "304:\tlearn: 0.0212486\ttotal: 2m 54s\tremaining: 54.2s\n",
            "305:\tlearn: 0.0212079\ttotal: 2m 54s\tremaining: 53.7s\n",
            "306:\tlearn: 0.0211651\ttotal: 2m 55s\tremaining: 53.1s\n",
            "307:\tlearn: 0.0211273\ttotal: 2m 55s\tremaining: 52.5s\n",
            "308:\tlearn: 0.0210953\ttotal: 2m 56s\tremaining: 52s\n",
            "309:\tlearn: 0.0210595\ttotal: 2m 57s\tremaining: 51.4s\n",
            "310:\tlearn: 0.0210223\ttotal: 2m 57s\tremaining: 50.8s\n",
            "311:\tlearn: 0.0209852\ttotal: 2m 58s\tremaining: 50.2s\n",
            "312:\tlearn: 0.0209517\ttotal: 2m 58s\tremaining: 49.7s\n",
            "313:\tlearn: 0.0209209\ttotal: 2m 59s\tremaining: 49.1s\n",
            "314:\tlearn: 0.0208953\ttotal: 2m 59s\tremaining: 48.5s\n",
            "315:\tlearn: 0.0208554\ttotal: 3m\tremaining: 48s\n",
            "316:\tlearn: 0.0208147\ttotal: 3m\tremaining: 47.4s\n",
            "317:\tlearn: 0.0207762\ttotal: 3m 1s\tremaining: 46.8s\n",
            "318:\tlearn: 0.0207457\ttotal: 3m 2s\tremaining: 46.2s\n",
            "319:\tlearn: 0.0207058\ttotal: 3m 2s\tremaining: 45.7s\n",
            "320:\tlearn: 0.0206686\ttotal: 3m 3s\tremaining: 45.1s\n",
            "321:\tlearn: 0.0205958\ttotal: 3m 3s\tremaining: 44.5s\n",
            "322:\tlearn: 0.0205577\ttotal: 3m 4s\tremaining: 44s\n",
            "323:\tlearn: 0.0205303\ttotal: 3m 4s\tremaining: 43.4s\n",
            "324:\tlearn: 0.0204909\ttotal: 3m 5s\tremaining: 42.8s\n",
            "325:\tlearn: 0.0204579\ttotal: 3m 6s\tremaining: 42.2s\n",
            "326:\tlearn: 0.0204207\ttotal: 3m 6s\tremaining: 41.7s\n",
            "327:\tlearn: 0.0203838\ttotal: 3m 7s\tremaining: 41.1s\n",
            "328:\tlearn: 0.0203478\ttotal: 3m 7s\tremaining: 40.5s\n",
            "329:\tlearn: 0.0203171\ttotal: 3m 8s\tremaining: 40s\n",
            "330:\tlearn: 0.0202812\ttotal: 3m 8s\tremaining: 39.4s\n",
            "331:\tlearn: 0.0202499\ttotal: 3m 9s\tremaining: 38.8s\n",
            "332:\tlearn: 0.0202209\ttotal: 3m 10s\tremaining: 38.2s\n",
            "333:\tlearn: 0.0201890\ttotal: 3m 10s\tremaining: 37.7s\n",
            "334:\tlearn: 0.0201553\ttotal: 3m 11s\tremaining: 37.1s\n",
            "335:\tlearn: 0.0201193\ttotal: 3m 11s\tremaining: 36.5s\n",
            "336:\tlearn: 0.0200816\ttotal: 3m 12s\tremaining: 36s\n",
            "337:\tlearn: 0.0200098\ttotal: 3m 12s\tremaining: 35.4s\n",
            "338:\tlearn: 0.0199738\ttotal: 3m 13s\tremaining: 34.8s\n",
            "339:\tlearn: 0.0199431\ttotal: 3m 14s\tremaining: 34.2s\n",
            "340:\tlearn: 0.0199078\ttotal: 3m 14s\tremaining: 33.7s\n",
            "341:\tlearn: 0.0198769\ttotal: 3m 15s\tremaining: 33.1s\n",
            "342:\tlearn: 0.0198480\ttotal: 3m 15s\tremaining: 32.5s\n",
            "343:\tlearn: 0.0198178\ttotal: 3m 16s\tremaining: 32s\n",
            "344:\tlearn: 0.0197855\ttotal: 3m 16s\tremaining: 31.4s\n",
            "345:\tlearn: 0.0197568\ttotal: 3m 17s\tremaining: 30.8s\n",
            "346:\tlearn: 0.0197262\ttotal: 3m 17s\tremaining: 30.2s\n",
            "347:\tlearn: 0.0196934\ttotal: 3m 18s\tremaining: 29.7s\n",
            "348:\tlearn: 0.0196608\ttotal: 3m 19s\tremaining: 29.1s\n",
            "349:\tlearn: 0.0196283\ttotal: 3m 19s\tremaining: 28.5s\n",
            "350:\tlearn: 0.0195967\ttotal: 3m 20s\tremaining: 27.9s\n",
            "351:\tlearn: 0.0195604\ttotal: 3m 20s\tremaining: 27.4s\n",
            "352:\tlearn: 0.0195260\ttotal: 3m 21s\tremaining: 26.8s\n",
            "353:\tlearn: 0.0194991\ttotal: 3m 21s\tremaining: 26.2s\n",
            "354:\tlearn: 0.0194727\ttotal: 3m 22s\tremaining: 25.7s\n",
            "355:\tlearn: 0.0194408\ttotal: 3m 23s\tremaining: 25.1s\n",
            "356:\tlearn: 0.0194104\ttotal: 3m 23s\tremaining: 24.5s\n",
            "357:\tlearn: 0.0193812\ttotal: 3m 24s\tremaining: 23.9s\n",
            "358:\tlearn: 0.0193542\ttotal: 3m 24s\tremaining: 23.4s\n",
            "359:\tlearn: 0.0193235\ttotal: 3m 25s\tremaining: 22.8s\n",
            "360:\tlearn: 0.0192894\ttotal: 3m 25s\tremaining: 22.2s\n",
            "361:\tlearn: 0.0192533\ttotal: 3m 26s\tremaining: 21.7s\n",
            "362:\tlearn: 0.0192211\ttotal: 3m 26s\tremaining: 21.1s\n",
            "363:\tlearn: 0.0191971\ttotal: 3m 27s\tremaining: 20.5s\n",
            "364:\tlearn: 0.0191663\ttotal: 3m 28s\tremaining: 20s\n",
            "365:\tlearn: 0.0191359\ttotal: 3m 28s\tremaining: 19.4s\n",
            "366:\tlearn: 0.0191060\ttotal: 3m 29s\tremaining: 18.8s\n",
            "367:\tlearn: 0.0190766\ttotal: 3m 29s\tremaining: 18.2s\n",
            "368:\tlearn: 0.0190416\ttotal: 3m 30s\tremaining: 17.7s\n",
            "369:\tlearn: 0.0190179\ttotal: 3m 30s\tremaining: 17.1s\n",
            "370:\tlearn: 0.0189841\ttotal: 3m 31s\tremaining: 16.5s\n",
            "371:\tlearn: 0.0189376\ttotal: 3m 32s\tremaining: 16s\n",
            "372:\tlearn: 0.0189156\ttotal: 3m 32s\tremaining: 15.4s\n",
            "373:\tlearn: 0.0188925\ttotal: 3m 33s\tremaining: 14.8s\n",
            "374:\tlearn: 0.0188636\ttotal: 3m 33s\tremaining: 14.3s\n",
            "375:\tlearn: 0.0188439\ttotal: 3m 34s\tremaining: 13.7s\n",
            "376:\tlearn: 0.0188166\ttotal: 3m 34s\tremaining: 13.1s\n",
            "377:\tlearn: 0.0187950\ttotal: 3m 35s\tremaining: 12.5s\n",
            "378:\tlearn: 0.0187654\ttotal: 3m 36s\tremaining: 12s\n",
            "379:\tlearn: 0.0187443\ttotal: 3m 36s\tremaining: 11.4s\n",
            "380:\tlearn: 0.0187166\ttotal: 3m 37s\tremaining: 10.8s\n",
            "381:\tlearn: 0.0186875\ttotal: 3m 37s\tremaining: 10.3s\n",
            "382:\tlearn: 0.0186499\ttotal: 3m 38s\tremaining: 9.69s\n",
            "383:\tlearn: 0.0186201\ttotal: 3m 38s\tremaining: 9.12s\n",
            "384:\tlearn: 0.0185959\ttotal: 3m 39s\tremaining: 8.55s\n",
            "385:\tlearn: 0.0185722\ttotal: 3m 40s\tremaining: 7.98s\n",
            "386:\tlearn: 0.0185517\ttotal: 3m 40s\tremaining: 7.41s\n",
            "387:\tlearn: 0.0185235\ttotal: 3m 41s\tremaining: 6.84s\n",
            "388:\tlearn: 0.0184946\ttotal: 3m 41s\tremaining: 6.27s\n",
            "389:\tlearn: 0.0184676\ttotal: 3m 42s\tremaining: 5.7s\n",
            "390:\tlearn: 0.0184398\ttotal: 3m 43s\tremaining: 5.13s\n",
            "391:\tlearn: 0.0184130\ttotal: 3m 43s\tremaining: 4.56s\n",
            "392:\tlearn: 0.0183971\ttotal: 3m 44s\tremaining: 3.99s\n",
            "393:\tlearn: 0.0183733\ttotal: 3m 44s\tremaining: 3.42s\n",
            "394:\tlearn: 0.0183484\ttotal: 3m 45s\tremaining: 2.85s\n",
            "395:\tlearn: 0.0183264\ttotal: 3m 46s\tremaining: 2.28s\n",
            "396:\tlearn: 0.0183041\ttotal: 3m 46s\tremaining: 1.71s\n",
            "397:\tlearn: 0.0182794\ttotal: 3m 47s\tremaining: 1.14s\n",
            "398:\tlearn: 0.0182526\ttotal: 3m 47s\tremaining: 571ms\n",
            "399:\tlearn: 0.0182284\ttotal: 3m 48s\tremaining: 0us\n"
          ]
        }
      ]
    },
    {
      "cell_type": "code",
      "source": [
        "catboost_preds = pt.inverse_transform([[el] for el in catboost_preds])"
      ],
      "metadata": {
        "colab": {
          "base_uri": "https://localhost:8080/"
        },
        "id": "g3U7-jztudmv",
        "outputId": "2539ab41-8842-49e8-d2a9-52bc960507b4"
      },
      "execution_count": 89,
      "outputs": [
        {
          "output_type": "stream",
          "name": "stderr",
          "text": [
            "/usr/local/lib/python3.7/dist-packages/sklearn/base.py:451: UserWarning: X does not have valid feature names, but PowerTransformer was fitted with feature names\n",
            "  \"X does not have valid feature names, but\"\n"
          ]
        }
      ]
    },
    {
      "cell_type": "code",
      "source": [
        "mean_squared_error(y, catboost_preds)"
      ],
      "metadata": {
        "colab": {
          "base_uri": "https://localhost:8080/"
        },
        "id": "DQmJPufruizu",
        "outputId": "873277c9-2382-4dc3-925c-e2430dee6f11"
      },
      "execution_count": 91,
      "outputs": [
        {
          "output_type": "execute_result",
          "data": {
            "text/plain": [
              "0.9896385823139546"
            ]
          },
          "metadata": {},
          "execution_count": 91
        }
      ]
    },
    {
      "cell_type": "code",
      "execution_count": 90,
      "metadata": {
        "id": "tQfvJjhxRhoe",
        "colab": {
          "base_uri": "https://localhost:8080/",
          "height": 296
        },
        "outputId": "857b3aed-0425-4fed-e0d4-db3d2dda8d2e"
      },
      "outputs": [
        {
          "output_type": "display_data",
          "data": {
            "text/plain": [
              "<Figure size 432x288 with 1 Axes>"
            ],
            "image/png": "[encoded data removed]"
          },
          "metadata": {
            "needs_background": "light"
          }
        }
      ],
      "source": [
        "plt.hist(y, bins=np.arange(0, 75), alpha=0.5, label='y')\n",
        "plt.hist(catboost_preds, bins=np.arange(0, 75), alpha=0.5, label='y_pred')\n",
        "plt.legend(loc='upper right')\n",
        "plt.xlabel('fare_amount')\n",
        "plt.title('Fare amount distribution')\n",
        "plt.show()"
      ]
    },
    {
      "cell_type": "code",
      "source": [
        ""
      ],
      "metadata": {
        "id": "hBzEvh4muUMf"
      },
      "execution_count": null,
      "outputs": []
    }
  ],
  "metadata": {
    "accelerator": "GPU",
    "colab": {
      "collapsed_sections": [],
      "name": "CourseWork2022.ipynb",
      "provenance": []
    },
    "kernelspec": {
      "display_name": "Python 3",
      "language": "python",
      "name": "python3"
    },
    "language_info": {
      "codemirror_mode": {
        "name": "ipython",
        "version": 3
      },
      "file_extension": ".py",
      "mimetype": "text/x-python",
      "name": "python",
      "nbconvert_exporter": "python",
      "pygments_lexer": "ipython3",
      "version": "3.8.5"
    }
  },
  "nbformat": 4,
  "nbformat_minor": 0
}